{
 "cells": [
  {
   "cell_type": "code",
   "execution_count": 8,
   "metadata": {},
   "outputs": [],
   "source": [
    "import import_ipynb\n",
    "\n"
   ]
  },
  {
   "cell_type": "code",
   "execution_count": 9,
   "metadata": {},
   "outputs": [],
   "source": [
    "#import sys\n",
    "#sys.path.insert(0, '../../code/Helpers')\n",
    "\n",
    "#from Helpers import calculation_functions"
   ]
  },
  {
   "cell_type": "code",
   "execution_count": 10,
   "metadata": {},
   "outputs": [],
   "source": [
    "# This is an example of using the stuff\n",
    "#calculation_functions.Mean([0,1,2])"
   ]
  },
  {
   "cell_type": "markdown",
   "metadata": {},
   "source": [
    "### 1. Auftrag auslenkungen messen"
   ]
  },
  {
   "cell_type": "code",
   "execution_count": 5,
   "metadata": {},
   "outputs": [
    {
     "name": "stdout",
     "output_type": "stream",
     "text": [
      "Person 1 (Niklas) A measurements:  [1.32  1.32  1.305 1.375 1.315 1.325 1.31  1.32  1.31  1.325]\n",
      "Person 1 (Niklas) A mean:  1.3225000000000002\n",
      "Person 1 (Niklas) A standard deviation:  0.018607794065928367\n"
     ]
    }
   ],
   "source": [
    "import os\n",
    "import numpy as np\n",
    "\n",
    "#### Niklas\n",
    "M_1 = 200+(400+50+10+2)# g\n",
    "l_1 = 54 # cm\n",
    "# Messunsicherheit bottom/top: 0.005mm\n",
    "Translation_Of_Scale_Meas_1_Bound_Top, Translation_Of_Scale_Meas_1_Bound_Bottom = np.genfromtxt(os.path.join(os.getcwd(), \"translation_of_scale_meas_1.csv\"), delimiter=',', skip_header=1, unpack=True)\n",
    "Translation_Of_Scale_Meas_1 = np.abs(Translation_Of_Scale_Meas_1_Bound_Top - Translation_Of_Scale_Meas_1_Bound_Bottom)\n",
    "A_meas_1 = Translation_Of_Scale_Meas_1/2\n",
    "print(\"Person 1 (Niklas) A measurements: \", A_meas_1)\n",
    "print(\"Person 1 (Niklas) A mean: \", np.mean(A_meas_1))\n",
    "print(\"Person 1 (Niklas) A standard deviation: \", np.std(A_meas_1))\n",
    "\n"
   ]
  },
  {
   "cell_type": "code",
   "execution_count": 6,
   "metadata": {},
   "outputs": [
    {
     "name": "stdout",
     "output_type": "stream",
     "text": [
      "Person 2 (Dominik) A measurements:  [1.34   1.335  1.3475 1.325  1.35   1.3325 1.3525 1.355  1.3625 1.335 ]\n",
      "Person 2 (Dominik) A mean:  1.3435\n",
      "Person 2 (Dominik) A standard deviation:  0.011191514642799608\n"
     ]
    }
   ],
   "source": [
    "#### Dominik\n",
    "M_2 = 200+(400+50+10+2)# g\n",
    "l_2 = 54 # cm\n",
    "# Messunsicherheit bottom/top: 0.005mm\n",
    "Translation_Of_Scale_Meas_2_Bound_Top, Translation_Of_Scale_Meas_2_Bound_Bottom = np.genfromtxt(os.path.join(os.getcwd(), \"translation_of_scale_meas_2.csv\"), delimiter=',', skip_header=1, unpack=True)\n",
    "Translation_Of_Scale_Meas_2 = np.abs(Translation_Of_Scale_Meas_2_Bound_Top - Translation_Of_Scale_Meas_2_Bound_Bottom)\n",
    "A_meas_2 = Translation_Of_Scale_Meas_2/2\n",
    "print(\"Person 2 (Dominik) A measurements: \", A_meas_2)\n",
    "print(\"Person 2 (Dominik) A mean: \", np.mean(A_meas_2))\n",
    "print(\"Person 2 (Dominik) A standard deviation: \", np.std(A_meas_2))"
   ]
  },
  {
   "cell_type": "code",
   "execution_count": 7,
   "metadata": {},
   "outputs": [],
   "source": [
    "# TODO COMPATIBILITY OF THE TWO MEANS/STD's"
   ]
  },
  {
   "cell_type": "markdown",
   "metadata": {},
   "source": [
    "### 4."
   ]
  },
  {
   "cell_type": "code",
   "execution_count": 8,
   "metadata": {},
   "outputs": [],
   "source": [
    "import os\n",
    "import numpy as np\n",
    "l_4 = 40 # cm\n",
    "\n",
    "weight_4_without_the_200g, translation_4_bottom, translation_4_top = np.genfromtxt(os.path.join(os.getcwd(), \"4_weights_amplitude.csv\"), delimiter=',', skip_header=1, unpack=True)\n",
    "translation_4_meas = np.abs(translation_4_top - translation_4_bottom)\n",
    "A_4_meas_mm = translation_4_meas/2\n",
    "weight_m_4_meas_grams = weight_4_without_the_200g + 200 # in grams\n",
    "\n",
    "#np.max(translation_4_meas)"
   ]
  },
  {
   "cell_type": "code",
   "execution_count": 9,
   "metadata": {},
   "outputs": [],
   "source": [
    "# Taylor, Barry N.; Thompson, Ambler, eds. (March 2008). The international system of units (SI) (PDF) (Report). National Institute of Standards and Technology. p. 52. NIST special publication 330, 2008 edition.\n",
    "g = 9.80665 # m/s2\n",
    "sig_g = 0.000005 # m/s2\n",
    "sig_m_kg = 0.0005 #kg\n",
    "def calc_Z_sqrt_of_m_grams(m_gr):\n",
    "    # TODO error propagation of m grams\n",
    "    return calc_Z_sqrt_of_m_kg(m_gr / 1000)\n",
    "\n",
    "# Calculate Force Z in Newton from appended mass in kg.\n",
    "def calc_Z_sqrt_of_m_kg(m_kg,):\n",
    "    # TODO error propagation of m kg\n",
    "    return np.sqrt(2*(g*m_kg)), np.sqrt(g/(2*m_kg)*sig_m_kg**2 + m_kg/(2*g)*sig_g**2)\n",
    "\n"
   ]
  },
  {
   "cell_type": "code",
   "execution_count": 16,
   "metadata": {},
   "outputs": [
    {
     "name": "stdout",
     "output_type": "stream",
     "text": [
      "[0.00014  0.000145 0.000165 0.00017  0.000195 0.000205 0.000245 0.00026\n",
      " 0.00028  0.00034  0.000385 0.00047  0.000565 0.000705 0.000895 0.00111\n",
      " 0.001315 0.00148  0.001535 0.00081  0.00053  0.00042  0.00035  0.000305\n",
      " 0.00026  0.00024  0.000215 0.000185 0.000165 0.00014  0.00015 ]\n",
      "[2.60126671 2.60503393 2.60879572 2.61255209 2.61630306 2.62004866\n",
      " 2.62378892 2.62752385 2.63125348 2.63497784 2.63869693 2.64241079\n",
      " 2.64611944 2.6498229  2.65352119 2.65721433 2.66090235 2.66458526\n",
      " 2.66826309 2.67193585 2.67560358 2.67926628 2.68292398 2.68657671\n",
      " 2.69022447 2.69386729 2.6975052  2.7011382  2.70476633 2.7083896\n",
      " 2.71200802]\n",
      "[0.00188498 0.00188225 0.00187954 0.00187683 0.00187414 0.00187146\n",
      " 0.0018688  0.00186614 0.00186349 0.00186086 0.00185824 0.00185563\n",
      " 0.00185302 0.00185044 0.00184786 0.00184529 0.00184273 0.00184018\n",
      " 0.00183765 0.00183512 0.00183261 0.0018301  0.00182761 0.00182512\n",
      " 0.00182265 0.00182018 0.00181773 0.00181528 0.00181285 0.00181042\n",
      " 0.00180801]\n"
     ]
    },
    {
     "data": {
      "image/png": "[encoded data removed]",
      "text/plain": [
       "<Figure size 340.157x340.157 with 1 Axes>"
      ]
     },
     "metadata": {
      "needs_background": "light"
     },
     "output_type": "display_data"
    }
   ],
   "source": [
    "# A\n",
    "A_values_4_m = A_4_meas_mm / 1000\n",
    "A_values_4_mm = A_4_meas_mm\n",
    "# sqrt Z\n",
    "Z_4_values_newton_sqrt, Z_4_values_newton_error_sqrt = calc_Z_sqrt_of_m_grams(weight_m_4_meas_grams)# TODO TODO error of m grams\n",
    "#Z_4_sqrt_values = np.sqrt(Z_4_values_newton)\n",
    "#Z_4_sqrt_error = 100 # TODO\n",
    "\n",
    "# TODO Graph A(sqrt(Z))\n",
    "# TODO INCLUDE ERROR BARS FOR A\n",
    "\n",
    "# TODO Add error for m of 1g\n",
    "sig_A_values_4_m = np.ones(len(A_values_4_m))*np.std(A_meas_1/1000)\n",
    "sig_A_values_4_mm = np.ones(len(A_4_meas_mm))*np.std(A_meas_1)\n",
    "\n",
    "print(A_values_4_m)\n",
    "print(Z_4_values_newton_sqrt)\n",
    "print(Z_4_values_newton_error_sqrt)\n",
    "# Helper function\n",
    "import matplotlib.pyplot as plt\n",
    "def errorbar_plot_A_sqrtZ(A_values, Sqrt_Z_values,sig):\n",
    "    x, y = Sqrt_Z_values, A_values\n",
    "    cm = 1/2.54\n",
    "    fig, ax = plt.subplots(1,1,figsize=(12*cm, 12*cm))\n",
    "    ax.plot(x,y,linestyle='-', color='red')\n",
    "    ax.errorbar(x, y, yerr=sig, linestyle='', color='blue', capsize=3, label='error bars')\n",
    "    ax.set_xlabel(r'$\\sqrt{Z}$ [$\\sqrt{N}$]')\n",
    "    ax.set_ylabel('A [mm]')\n",
    "    ax.set_title(r'$A(\\sqrt{Z})$')\n",
    "    #ax.set_xlim([-1,1])\n",
    "    #ax.set_ylim([-4,4])\n",
    "    ax.legend(loc='lower right')\n",
    "    plt.show()\n",
    "\n",
    "errorbar_plot_A_sqrtZ(A_values_4_mm, Z_4_values_newton_sqrt, sig_A_values_4_mm)\n"
   ]
  },
  {
   "cell_type": "markdown",
   "metadata": {},
   "source": [
    "### 5."
   ]
  },
  {
   "cell_type": "code",
   "execution_count": 17,
   "metadata": {},
   "outputs": [
    {
     "name": "stdout",
     "output_type": "stream",
     "text": [
      "Mean a value in mm of the A(sqrt(Z)) values:  0.46370967741935476\n"
     ]
    },
    {
     "ename": "NameError",
     "evalue": "name 'Z_4_sqrt_values' is not defined",
     "output_type": "error",
     "traceback": [
      "\u001b[1;31m---------------------------------------------------------------------------\u001b[0m",
      "\u001b[1;31mNameError\u001b[0m                                 Traceback (most recent call last)",
      "Cell \u001b[1;32mIn [17], line 25\u001b[0m\n\u001b[0;32m     22\u001b[0m     plt\u001b[39m.\u001b[39mplot(x, result\u001b[39m.\u001b[39mbest_fit, \u001b[39m'\u001b[39m\u001b[39mb--\u001b[39m\u001b[39m'\u001b[39m)\n\u001b[0;32m     23\u001b[0m \u001b[39m# Fit to gaussian\u001b[39;00m\n\u001b[0;32m     24\u001b[0m \u001b[39m## using def lmfit_fitting_gaussian(x, y, sig):\u001b[39;00m\n\u001b[1;32m---> 25\u001b[0m lmfit_fitting_gaussian(Z_4_sqrt_values, A_4_meas_mm, sig_A_values_4_mm)\n",
      "\u001b[1;31mNameError\u001b[0m: name 'Z_4_sqrt_values' is not defined"
     ]
    }
   ],
   "source": [
    "# TODO Mean of the resonance curve\n",
    "print(\"Mean a value in mm of the A(sqrt(Z)) values: \", np.mean(A_4_meas_mm))\n",
    "\n",
    "# TODO FWHM (fit the resonance curve to a gaussian curve)\n",
    "\n",
    "import numpy as np\n",
    "from lmfit import Model\n",
    "from lmfit.models import GaussianModel, ConstantModel\n",
    "import matplotlib.pyplot as plt\n",
    "\n",
    "def lmfit_fitting_gaussian(x, y, sig):\n",
    "    def gaussian_model(x, a):\n",
    "        x0, std = a[0], a[1]\n",
    "        return np.exp(-1/2 * ((x-x0)/std)**2)\n",
    "    w = 1/sig**2 # Or: 1/sig**2\n",
    "    model = GaussianModel()\n",
    "    pars = model.guess(y, x=x, amplitude=1.6)#-0.5)\n",
    "    result = model.fit(y, pars, x=x, weights=w)\n",
    "    print(result.fit_report())\n",
    "    plt.plot(x, y, 'ro', ms=3)\n",
    "    plt.errorbar(x, y, sig)\n",
    "    plt.plot(x, result.best_fit, 'b--')\n",
    "# Fit to gaussian\n",
    "## using def lmfit_fitting_gaussian(x, y, sig):\n",
    "lmfit_fitting_gaussian(Z_4_sqrt_values, A_4_meas_mm, sig_A_values_4_mm)\n",
    "\n"
   ]
  },
  {
   "cell_type": "code",
   "execution_count": null,
   "metadata": {},
   "outputs": [],
   "source": [
    "# TODO Calculate sigma from FWHM (see report of lmfit)"
   ]
  },
  {
   "cell_type": "markdown",
   "metadata": {},
   "source": [
    "### 6. One expects that for 1/3 of the data points the\n",
    "fit curve does not pass through the error bar. Is\n",
    "this the case for you? If not, explain why this\n",
    "is not the case."
   ]
  },
  {
   "cell_type": "code",
   "execution_count": null,
   "metadata": {},
   "outputs": [],
   "source": []
  },
  {
   "cell_type": "markdown",
   "metadata": {},
   "source": [
    "### 7.\n",
    "Check the law (7) for its validity. For various\n",
    "string lengths l, determine the tensile force Z\n",
    "for which the string resonates. Graph Z as a\n",
    "function of l2. Change the length l in steps of\n",
    "2 cm between 36 and 54 cm."
   ]
  },
  {
   "cell_type": "code",
   "execution_count": 18,
   "metadata": {},
   "outputs": [
    {
     "ename": "ValueError",
     "evalue": "x and y must have same first dimension, but have shapes (10,) and (2, 10)",
     "output_type": "error",
     "traceback": [
      "\u001b[1;31m---------------------------------------------------------------------------\u001b[0m",
      "\u001b[1;31mValueError\u001b[0m                                Traceback (most recent call last)",
      "Cell \u001b[1;32mIn [18], line 29\u001b[0m\n\u001b[0;32m     26\u001b[0m     ax\u001b[39m.\u001b[39mlegend(loc\u001b[39m=\u001b[39m\u001b[39m'\u001b[39m\u001b[39mlower right\u001b[39m\u001b[39m'\u001b[39m)\n\u001b[0;32m     27\u001b[0m     plt\u001b[39m.\u001b[39mshow()\n\u001b[1;32m---> 29\u001b[0m errorbar_plot_Z_of_l_squared(length_7_squared_m, Z_7_kg, sig_Z_7)\n",
      "Cell \u001b[1;32mIn [18], line 19\u001b[0m, in \u001b[0;36merrorbar_plot_Z_of_l_squared\u001b[1;34m(l_squared, Z, sig_Z)\u001b[0m\n\u001b[0;32m     17\u001b[0m cm \u001b[39m=\u001b[39m \u001b[39m1\u001b[39m\u001b[39m/\u001b[39m\u001b[39m2.54\u001b[39m\n\u001b[0;32m     18\u001b[0m fig, ax \u001b[39m=\u001b[39m plt\u001b[39m.\u001b[39msubplots(\u001b[39m1\u001b[39m,\u001b[39m1\u001b[39m,figsize\u001b[39m=\u001b[39m(\u001b[39m6\u001b[39m\u001b[39m*\u001b[39mcm, \u001b[39m6\u001b[39m\u001b[39m*\u001b[39mcm))\n\u001b[1;32m---> 19\u001b[0m ax\u001b[39m.\u001b[39;49mplot(x,y,linestyle\u001b[39m=\u001b[39;49m\u001b[39m'\u001b[39;49m\u001b[39m-\u001b[39;49m\u001b[39m'\u001b[39;49m, color\u001b[39m=\u001b[39;49m\u001b[39m'\u001b[39;49m\u001b[39mred\u001b[39;49m\u001b[39m'\u001b[39;49m)\n\u001b[0;32m     20\u001b[0m ax\u001b[39m.\u001b[39merrorbar(x, y, yerr\u001b[39m=\u001b[39msig, linestyle\u001b[39m=\u001b[39m\u001b[39m'\u001b[39m\u001b[39m'\u001b[39m, color\u001b[39m=\u001b[39m\u001b[39m'\u001b[39m\u001b[39mblue\u001b[39m\u001b[39m'\u001b[39m, capsize\u001b[39m=\u001b[39m\u001b[39m3\u001b[39m, label\u001b[39m=\u001b[39m\u001b[39m'\u001b[39m\u001b[39merror bars\u001b[39m\u001b[39m'\u001b[39m)\n\u001b[0;32m     21\u001b[0m ax\u001b[39m.\u001b[39mset_xlabel(\u001b[39m'\u001b[39m\u001b[39ml^2\u001b[39m\u001b[39m'\u001b[39m)\n",
      "File \u001b[1;32mc:\\Users\\domin\\AppData\\Local\\Programs\\Python\\Python310\\lib\\site-packages\\matplotlib\\axes\\_axes.py:1662\u001b[0m, in \u001b[0;36mAxes.plot\u001b[1;34m(self, scalex, scaley, data, *args, **kwargs)\u001b[0m\n\u001b[0;32m   1419\u001b[0m \u001b[39m\"\"\"\u001b[39;00m\n\u001b[0;32m   1420\u001b[0m \u001b[39mPlot y versus x as lines and/or markers.\u001b[39;00m\n\u001b[0;32m   1421\u001b[0m \n\u001b[1;32m   (...)\u001b[0m\n\u001b[0;32m   1659\u001b[0m \u001b[39m(``'green'``) or hex strings (``'#008000'``).\u001b[39;00m\n\u001b[0;32m   1660\u001b[0m \u001b[39m\"\"\"\u001b[39;00m\n\u001b[0;32m   1661\u001b[0m kwargs \u001b[39m=\u001b[39m cbook\u001b[39m.\u001b[39mnormalize_kwargs(kwargs, mlines\u001b[39m.\u001b[39mLine2D)\n\u001b[1;32m-> 1662\u001b[0m lines \u001b[39m=\u001b[39m [\u001b[39m*\u001b[39m\u001b[39mself\u001b[39m\u001b[39m.\u001b[39m_get_lines(\u001b[39m*\u001b[39margs, data\u001b[39m=\u001b[39mdata, \u001b[39m*\u001b[39m\u001b[39m*\u001b[39mkwargs)]\n\u001b[0;32m   1663\u001b[0m \u001b[39mfor\u001b[39;00m line \u001b[39min\u001b[39;00m lines:\n\u001b[0;32m   1664\u001b[0m     \u001b[39mself\u001b[39m\u001b[39m.\u001b[39madd_line(line)\n",
      "File \u001b[1;32mc:\\Users\\domin\\AppData\\Local\\Programs\\Python\\Python310\\lib\\site-packages\\matplotlib\\axes\\_base.py:311\u001b[0m, in \u001b[0;36m_process_plot_var_args.__call__\u001b[1;34m(self, data, *args, **kwargs)\u001b[0m\n\u001b[0;32m    309\u001b[0m     this \u001b[39m+\u001b[39m\u001b[39m=\u001b[39m args[\u001b[39m0\u001b[39m],\n\u001b[0;32m    310\u001b[0m     args \u001b[39m=\u001b[39m args[\u001b[39m1\u001b[39m:]\n\u001b[1;32m--> 311\u001b[0m \u001b[39myield from\u001b[39;00m \u001b[39mself\u001b[39;49m\u001b[39m.\u001b[39;49m_plot_args(\n\u001b[0;32m    312\u001b[0m     this, kwargs, ambiguous_fmt_datakey\u001b[39m=\u001b[39;49mambiguous_fmt_datakey)\n",
      "File \u001b[1;32mc:\\Users\\domin\\AppData\\Local\\Programs\\Python\\Python310\\lib\\site-packages\\matplotlib\\axes\\_base.py:504\u001b[0m, in \u001b[0;36m_process_plot_var_args._plot_args\u001b[1;34m(self, tup, kwargs, return_kwargs, ambiguous_fmt_datakey)\u001b[0m\n\u001b[0;32m    501\u001b[0m     \u001b[39mself\u001b[39m\u001b[39m.\u001b[39maxes\u001b[39m.\u001b[39myaxis\u001b[39m.\u001b[39mupdate_units(y)\n\u001b[0;32m    503\u001b[0m \u001b[39mif\u001b[39;00m x\u001b[39m.\u001b[39mshape[\u001b[39m0\u001b[39m] \u001b[39m!=\u001b[39m y\u001b[39m.\u001b[39mshape[\u001b[39m0\u001b[39m]:\n\u001b[1;32m--> 504\u001b[0m     \u001b[39mraise\u001b[39;00m \u001b[39mValueError\u001b[39;00m(\u001b[39mf\u001b[39m\u001b[39m\"\u001b[39m\u001b[39mx and y must have same first dimension, but \u001b[39m\u001b[39m\"\u001b[39m\n\u001b[0;32m    505\u001b[0m                      \u001b[39mf\u001b[39m\u001b[39m\"\u001b[39m\u001b[39mhave shapes \u001b[39m\u001b[39m{\u001b[39;00mx\u001b[39m.\u001b[39mshape\u001b[39m}\u001b[39;00m\u001b[39m and \u001b[39m\u001b[39m{\u001b[39;00my\u001b[39m.\u001b[39mshape\u001b[39m}\u001b[39;00m\u001b[39m\"\u001b[39m)\n\u001b[0;32m    506\u001b[0m \u001b[39mif\u001b[39;00m x\u001b[39m.\u001b[39mndim \u001b[39m>\u001b[39m \u001b[39m2\u001b[39m \u001b[39mor\u001b[39;00m y\u001b[39m.\u001b[39mndim \u001b[39m>\u001b[39m \u001b[39m2\u001b[39m:\n\u001b[0;32m    507\u001b[0m     \u001b[39mraise\u001b[39;00m \u001b[39mValueError\u001b[39;00m(\u001b[39mf\u001b[39m\u001b[39m\"\u001b[39m\u001b[39mx and y can be no greater than 2D, but have \u001b[39m\u001b[39m\"\u001b[39m\n\u001b[0;32m    508\u001b[0m                      \u001b[39mf\u001b[39m\u001b[39m\"\u001b[39m\u001b[39mshapes \u001b[39m\u001b[39m{\u001b[39;00mx\u001b[39m.\u001b[39mshape\u001b[39m}\u001b[39;00m\u001b[39m and \u001b[39m\u001b[39m{\u001b[39;00my\u001b[39m.\u001b[39mshape\u001b[39m}\u001b[39;00m\u001b[39m\"\u001b[39m)\n",
      "\u001b[1;31mValueError\u001b[0m: x and y must have same first dimension, but have shapes (10,) and (2, 10)"
     ]
    },
    {
     "data": {
      "image/png": "[encoded data removed]",
      "text/plain": [
       "<Figure size 236.22x236.22 with 1 Axes>"
      ]
     },
     "metadata": {},
     "output_type": "display_data"
    }
   ],
   "source": [
    "length_7_cm, resonance_mass_7_grams_without200gr = np.genfromtxt(os.path.join(os.getcwd(), \"7_lengths_resonanceMass.csv\"), delimiter=',', skip_header=1, unpack=True)\n",
    "mass_7_grams = resonance_mass_7_grams_without200gr + 200\n",
    "\n",
    "length_7_m = length_7_cm / 100\n",
    "mass_7_kg = mass_7_grams / 1000\n",
    "Z_7_kg = calc_Z_of_m_grams(mass_7_grams)\n",
    "\n",
    "length_7_squared_m = np.square(length_7_m)\n",
    "\n",
    "sig_Z_7 = np.zeros(len(Z_7_kg))#TODO\n",
    "\n",
    "# Helper function\n",
    "import matplotlib.pyplot as plt\n",
    "def errorbar_plot_Z_of_l_squared(l_squared, Z, sig_Z):\n",
    "    x, y = l_squared, Z\n",
    "    sig = sig_Z\n",
    "    cm = 1/2.54\n",
    "    fig, ax = plt.subplots(1,1,figsize=(6*cm, 6*cm))\n",
    "    ax.plot(x,y,linestyle='-', color='red')\n",
    "    ax.errorbar(x, y, yerr=sig, linestyle='', color='blue', capsize=3, label='error bars')\n",
    "    ax.set_xlabel('l^2')\n",
    "    ax.set_ylabel('Z')\n",
    "    ax.set_title('...')\n",
    "    #ax.set_xlim([-1,1])\n",
    "    #ax.set_ylim([-4,4])\n",
    "    ax.legend(loc='lower right')\n",
    "    plt.show()\n",
    "\n",
    "errorbar_plot_Z_of_l_squared(length_7_squared_m, Z_7_kg, sig_Z_7)"
   ]
  },
  {
   "cell_type": "code",
   "execution_count": null,
   "metadata": {},
   "outputs": [],
   "source": []
  }
 ],
 "metadata": {
  "kernelspec": {
   "display_name": "Python 3.9.7 ('base')",
   "language": "python",
   "name": "python3"
  },
  "language_info": {
   "codemirror_mode": {
    "name": "ipython",
    "version": 3
   },
   "file_extension": ".py",
   "mimetype": "text/x-python",
   "name": "python",
   "nbconvert_exporter": "python",
   "pygments_lexer": "ipython3",
   "version": "3.9.7"
  },
  "orig_nbformat": 4,
  "vscode": {
   "interpreter": {
    "hash": "fff16d8d1fda96371b9403ae217ea25778b107d9bb1b70f389b9fd6ea565b344"
   }
  }
 },
 "nbformat": 4,
 "nbformat_minor": 2
}
