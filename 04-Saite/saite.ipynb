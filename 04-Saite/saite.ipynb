{
 "cells": [
  {
   "cell_type": "code",
   "execution_count": 49,
   "metadata": {},
   "outputs": [],
   "source": [
    "import import_ipynb\n",
    "\n"
   ]
  },
  {
   "cell_type": "code",
   "execution_count": 53,
   "metadata": {},
   "outputs": [
    {
     "ename": "ModuleNotFoundError",
     "evalue": "No module named 'Helpers'",
     "output_type": "error",
     "traceback": [
      "\u001b[1;31m---------------------------------------------------------------------------\u001b[0m",
      "\u001b[1;31mModuleNotFoundError\u001b[0m                       Traceback (most recent call last)",
      "Cell \u001b[1;32mIn [53], line 5\u001b[0m\n\u001b[0;32m      1\u001b[0m \u001b[39mimport\u001b[39;00m \u001b[39msys\u001b[39;00m\n\u001b[0;32m      3\u001b[0m sys\u001b[39m.\u001b[39mpath\u001b[39m.\u001b[39minsert(\u001b[39m0\u001b[39m, \u001b[39m'\u001b[39m\u001b[39m../../code/Helpers\u001b[39m\u001b[39m'\u001b[39m)\n\u001b[1;32m----> 5\u001b[0m \u001b[39mfrom\u001b[39;00m \u001b[39mHelpers\u001b[39;00m \u001b[39mimport\u001b[39;00m calculation_functions\n",
      "\u001b[1;31mModuleNotFoundError\u001b[0m: No module named 'Helpers'"
     ]
    }
   ],
   "source": [
    "import sys\n",
    "\n",
    "sys.path.insert(0, '../../code/Helpers')\n",
    "\n",
    "from Helpers import calculation_functions"
   ]
  },
  {
   "cell_type": "code",
   "execution_count": 39,
   "metadata": {},
   "outputs": [
    {
     "ename": "NameError",
     "evalue": "name 'calculation_functions' is not defined",
     "output_type": "error",
     "traceback": [
      "\u001b[1;31m---------------------------------------------------------------------------\u001b[0m",
      "\u001b[1;31mNameError\u001b[0m                                 Traceback (most recent call last)",
      "Cell \u001b[1;32mIn [39], line 2\u001b[0m\n\u001b[0;32m      1\u001b[0m \u001b[39m# This is an example of using the stuff\u001b[39;00m\n\u001b[1;32m----> 2\u001b[0m calculation_functions\u001b[39m.\u001b[39mMean([\u001b[39m0\u001b[39m,\u001b[39m1\u001b[39m,\u001b[39m2\u001b[39m])\n",
      "\u001b[1;31mNameError\u001b[0m: name 'calculation_functions' is not defined"
     ]
    }
   ],
   "source": [
    "# This is an example of using the stuff\n",
    "calculation_functions.Mean([0,1,2])"
   ]
  },
  {
   "cell_type": "markdown",
   "metadata": {},
   "source": [
    "### 1. Auftrag auslenkungen messen"
   ]
  },
  {
   "cell_type": "code",
   "execution_count": 5,
   "metadata": {},
   "outputs": [
    {
     "name": "stdout",
     "output_type": "stream",
     "text": [
      "Person 1 (Niklas) A measurements:  [1.32  1.32  1.305 1.375 1.315 1.325 1.31  1.32  1.31  1.325]\n",
      "Person 1 (Niklas) A mean:  1.3225000000000002\n",
      "Person 1 (Niklas) A standard deviation:  0.018607794065928367\n"
     ]
    }
   ],
   "source": [
    "import os\n",
    "import numpy as np\n",
    "\n",
    "#### Niklas\n",
    "M_1 = 200+(400+50+10+2)# g\n",
    "l_1 = 54 # cm\n",
    "# Messunsicherheit bottom/top: 0.005mm\n",
    "Translation_Of_Scale_Meas_1_Bound_Top, Translation_Of_Scale_Meas_1_Bound_Bottom = np.genfromtxt(os.path.join(os.getcwd(), \"translation_of_scale_meas_1.csv\"), delimiter=',', skip_header=1, unpack=True)\n",
    "Translation_Of_Scale_Meas_1 = np.abs(Translation_Of_Scale_Meas_1_Bound_Top - Translation_Of_Scale_Meas_1_Bound_Bottom)\n",
    "A_meas_1 = Translation_Of_Scale_Meas_1/2\n",
    "print(\"Person 1 (Niklas) A measurements: \", A_meas_1)\n",
    "print(\"Person 1 (Niklas) A mean: \", np.mean(A_meas_1))\n",
    "print(\"Person 1 (Niklas) A standard deviation: \", np.std(A_meas_1))\n",
    "\n"
   ]
  },
  {
   "cell_type": "code",
   "execution_count": 6,
   "metadata": {},
   "outputs": [
    {
     "name": "stdout",
     "output_type": "stream",
     "text": [
      "Person 2 (Dominik) A measurements:  [1.34   1.335  1.3475 1.325  1.35   1.3325 1.3525 1.355  1.3625 1.335 ]\n",
      "Person 2 (Dominik) A mean:  1.3435\n",
      "Person 2 (Dominik) A standard deviation:  0.011191514642799608\n"
     ]
    }
   ],
   "source": [
    "#### Dominik\n",
    "M_2 = 200+(400+50+10+2)# g\n",
    "l_2 = 54 # cm\n",
    "# Messunsicherheit bottom/top: 0.005mm\n",
    "Translation_Of_Scale_Meas_2_Bound_Top, Translation_Of_Scale_Meas_2_Bound_Bottom = np.genfromtxt(os.path.join(os.getcwd(), \"translation_of_scale_meas_2.csv\"), delimiter=',', skip_header=1, unpack=True)\n",
    "Translation_Of_Scale_Meas_2 = np.abs(Translation_Of_Scale_Meas_2_Bound_Top - Translation_Of_Scale_Meas_2_Bound_Bottom)\n",
    "A_meas_2 = Translation_Of_Scale_Meas_2/2\n",
    "print(\"Person 2 (Dominik) A measurements: \", A_meas_2)\n",
    "print(\"Person 2 (Dominik) A mean: \", np.mean(A_meas_2))\n",
    "print(\"Person 2 (Dominik) A standard deviation: \", np.std(A_meas_2))"
   ]
  },
  {
   "cell_type": "code",
   "execution_count": null,
   "metadata": {},
   "outputs": [],
   "source": [
    "# TODO COMPATIBILITY OF THE TWO MEANS/STD's"
   ]
  },
  {
   "cell_type": "markdown",
   "metadata": {},
   "source": [
    "### 4."
   ]
  },
  {
   "cell_type": "code",
   "execution_count": 27,
   "metadata": {},
   "outputs": [],
   "source": [
    "l_4 = 40 # cm\n",
    "\n",
    "weight_4_without_the_200g, translation_4_bottom, translation_4_top = np.genfromtxt(os.path.join(os.getcwd(), \"4_weights_amplitude.csv\"), delimiter=',', skip_header=1, unpack=True)\n",
    "translation_4_meas = np.abs(translation_4_top - translation_4_bottom)\n",
    "A_4_meas_mm = translation_4_meas/2\n",
    "weight_m_4_meas_grams = weight_4_without_the_200g + 200 # in grams\n",
    "\n",
    "#np.max(translation_4_meas)"
   ]
  },
  {
   "cell_type": "code",
   "execution_count": 28,
   "metadata": {},
   "outputs": [],
   "source": [
    "# Taylor, Barry N.; Thompson, Ambler, eds. (March 2008). The international system of units (SI) (PDF) (Report). National Institute of Standards and Technology. p. 52. NIST special publication 330, 2008 edition.\n",
    "g = 9.80665 # m/s2\n",
    "\n",
    "def calc_Z_of_m_grams(m_gr):\n",
    "    # TODO error propagation of m grams\n",
    "    return calc_Z_of_m_kg(m_gr / 1000)\n",
    "\n",
    "# Calculate Force Z in Newton from appended mass in kg.\n",
    "def calc_Z_of_m_kg(m_kg):\n",
    "    # TODO error propagation of m kg\n",
    "    return 2*(g*m_kg)\n",
    "\n"
   ]
  },
  {
   "cell_type": "code",
   "execution_count": 33,
   "metadata": {},
   "outputs": [
    {
     "name": "stdout",
     "output_type": "stream",
     "text": [
      "[0.00014  0.000145 0.000165 0.00017  0.000195 0.000205 0.000245 0.00026\n",
      " 0.00028  0.00034  0.000385 0.00047  0.000565 0.000705 0.000895 0.00111\n",
      " 0.001315 0.00148  0.001535 0.00081  0.00053  0.00042  0.00035  0.000305\n",
      " 0.00026  0.00024  0.000215 0.000185 0.000165 0.00014  0.00015 ]\n"
     ]
    },
    {
     "data": {
      "image/png": "[encoded data removed]",
      "text/plain": [
       "<Figure size 236.22x236.22 with 1 Axes>"
      ]
     },
     "metadata": {},
     "output_type": "display_data"
    }
   ],
   "source": [
    "# A\n",
    "A_values_4_m = A_4_meas_mm / 1000\n",
    "# sqrt Z\n",
    "Z_4_values_newton, Z_4_values_newton_error = calc_Z_of_m_grams(weight_m_4_meas_grams, sig_m_grams)# TODO TODO error of m grams\n",
    "Z_4_sqrt_values = np.sqrt(Z_4_values_newton)\n",
    "Z_4_sqrt_error = 999999 # TODO\n",
    "\n",
    "# TODO Graph A(sqrt(Z))\n",
    "# TODO INCLUDE ERROR BARS FOR A\n",
    "\n",
    "# TODO Add error for m of 1g\n",
    "sig_A_values_4_m = np.ones(len(A_values_4_m))*np.std(A_meas_1/1000)\n",
    "sig_A_values_4_mm = np.ones(len(A_4_meas_mm))*np.std(A_meas_1)\n",
    "\n",
    "print(A_values_4_m)\n",
    "# Helper function\n",
    "import matplotlib.pyplot as plt\n",
    "def errorbar_plot_A_sqrtZ(A_values, Sqrt_Z_values, sig):\n",
    "    x, y = Sqrt_Z_values, A_values\n",
    "    cm = 1/2.54\n",
    "    fig, ax = plt.subplots(1,1,figsize=(6*cm, 6*cm))\n",
    "    ax.plot(x,y,linestyle='-', color='red')\n",
    "    ax.errorbar(x, y, yerr=sig, linestyle='', color='blue', capsize=3, label='error bars')\n",
    "    ax.set_xlabel('sqrt(Z) [sqrt(N)]')\n",
    "    ax.set_ylabel('A [mm]')\n",
    "    ax.set_title('A of sqrt(Z)')\n",
    "    #ax.set_xlim([-1,1])\n",
    "    #ax.set_ylim([-4,4])\n",
    "    ax.legend(loc='lower right')\n",
    "    plt.show()\n",
    "\n",
    "errorbar_plot_A_sqrtZ(A_4_meas_mm, Z_4_sqrt_values, sig_A_values_4_mm)\n"
   ]
  },
  {
   "cell_type": "markdown",
   "metadata": {},
   "source": [
    "### 5."
   ]
  },
  {
   "cell_type": "code",
   "execution_count": 62,
   "metadata": {},
   "outputs": [
    {
     "name": "stdout",
     "output_type": "stream",
     "text": [
      "Mean a value in mm of the A(sqrt(Z)) values:  0.46370967741935476\n",
      "[[Model]]\n",
      "    Model(gaussian)\n",
      "[[Fit Statistics]]\n",
      "    # fitting method   = leastsq\n",
      "    # function evals   = 80\n",
      "    # data points      = 31\n",
      "    # variables        = 3\n",
      "    chi-square         = 7188996.32\n",
      "    reduced chi-square = 256749.868\n",
      "    Akaike info crit   = 388.976323\n",
      "    Bayesian info crit = 393.278284\n",
      "[[Variables]]\n",
      "    amplitude:  44.7587334 +/- 2.93561633 (6.56%) (init = 1.6)\n",
      "    center:     2662.03744 +/- 1.08231600 (0.04%) (init = 2660.897)\n",
      "    sigma:      14.2905979 +/- 1.08233365 (7.57%) (init = 7.370949)\n",
      "    fwhm:       33.6517856 +/- 2.54870094 (7.57%) == '2.3548200*sigma'\n",
      "    height:     1.24950350 +/- 0.08195202 (6.56%) == '0.3989423*amplitude/max(1e-15, sigma)'\n",
      "[[Correlations]] (unreported correlations are < 0.100)\n",
      "    C(amplitude, sigma) = 0.577\n"
     ]
    },
    {
     "data": {
      "image/png": "[encoded data removed]",
      "text/plain": [
       "<Figure size 640x480 with 1 Axes>"
      ]
     },
     "metadata": {},
     "output_type": "display_data"
    }
   ],
   "source": [
    "# TODO Mean of the resonance curve\n",
    "print(\"Mean a value in mm of the A(sqrt(Z)) values: \", np.mean(A_4_meas_mm))\n",
    "\n",
    "# TODO FWHM (fit the resonance curve to a gaussian curve)\n",
    "\n",
    "import numpy as np\n",
    "from lmfit import Model\n",
    "from lmfit.models import GaussianModel, ConstantModel\n",
    "import matplotlib.pyplot as plt\n",
    "\n",
    "def lmfit_fitting_gaussian(x, y, sig):\n",
    "    def gaussian_model(x, a):\n",
    "        x0, std = a[0], a[1]\n",
    "        return np.exp(-1/2 * ((x-x0)/std)**2)\n",
    "    w = 1/sig**2 # Or: 1/sig**2\n",
    "    model = GaussianModel()\n",
    "    pars = model.guess(y, x=x, amplitude=1.6)#-0.5)\n",
    "    result = model.fit(y, pars, x=x, weights=w)\n",
    "    print(result.fit_report())\n",
    "    plt.plot(x, y, 'ro', ms=3)\n",
    "    plt.errorbar(x, y, sig)\n",
    "    plt.plot(x, result.best_fit, 'b--')\n",
    "# Fit to gaussian\n",
    "## using def lmfit_fitting_gaussian(x, y, sig):\n",
    "lmfit_fitting_gaussian(Z_4_sqrt_values, A_4_meas_mm, sig_A_values_4_mm)\n",
    "\n"
   ]
  },
  {
   "cell_type": "code",
   "execution_count": null,
   "metadata": {},
   "outputs": [],
   "source": [
    "# TODO Calculate sigma from FWHM (see report of lmfit)"
   ]
  },
  {
   "cell_type": "markdown",
   "metadata": {},
   "source": [
    "### 6. One expects that for 1/3 of the data points the\n",
    "fit curve does not pass through the error bar. Is\n",
    "this the case for you? If not, explain why this\n",
    "is not the case."
   ]
  },
  {
   "cell_type": "code",
   "execution_count": null,
   "metadata": {},
   "outputs": [],
   "source": []
  },
  {
   "cell_type": "markdown",
   "metadata": {},
   "source": [
    "### 7.\n",
    "Check the law (7) for its validity. For various\n",
    "string lengths l, determine the tensile force Z\n",
    "for which the string resonates. Graph Z as a\n",
    "function of l2. Change the length l in steps of\n",
    "2 cm between 36 and 54 cm."
   ]
  },
  {
   "cell_type": "code",
   "execution_count": 63,
   "metadata": {},
   "outputs": [
    {
     "data": {
      "image/png": "[encoded data removed]",
      "text/plain": [
       "<Figure size 236.22x236.22 with 1 Axes>"
      ]
     },
     "metadata": {},
     "output_type": "display_data"
    }
   ],
   "source": [
    "length_7_cm, resonance_mass_7_grams_without200gr = np.genfromtxt(os.path.join(os.getcwd(), \"7_lengths_resonanceMass.csv\"), delimiter=',', skip_header=1, unpack=True)\n",
    "mass_7_grams = resonance_mass_7_grams_without200gr + 200\n",
    "\n",
    "length_7_m = length_7_cm / 100\n",
    "mass_7_kg = mass_7_grams / 1000\n",
    "Z_7_kg = calc_Z_of_m_grams(mass_7_grams)\n",
    "\n",
    "length_7_squared_m = np.square(length_7_m)\n",
    "\n",
    "sig_Z_7 = np.zeros(len(Z_7_kg))#TODO\n",
    "\n",
    "# Helper function\n",
    "import matplotlib.pyplot as plt\n",
    "def errorbar_plot_Z_of_l_squared(l_squared, Z, sig_Z):\n",
    "    x, y = l_squared, Z\n",
    "    sig = sig_Z\n",
    "    cm = 1/2.54\n",
    "    fig, ax = plt.subplots(1,1,figsize=(6*cm, 6*cm))\n",
    "    ax.plot(x,y,linestyle='-', color='red')\n",
    "    ax.errorbar(x, y, yerr=sig, linestyle='', color='blue', capsize=3, label='error bars')\n",
    "    ax.set_xlabel('l^2')\n",
    "    ax.set_ylabel('Z')\n",
    "    ax.set_title('...')\n",
    "    #ax.set_xlim([-1,1])\n",
    "    #ax.set_ylim([-4,4])\n",
    "    ax.legend(loc='lower right')\n",
    "    plt.show()\n",
    "\n",
    "errorbar_plot_Z_of_l_squared(length_7_squared_m, Z_7_kg, sig_Z_7)"
   ]
  },
  {
   "cell_type": "code",
   "execution_count": null,
   "metadata": {},
   "outputs": [],
   "source": []
  }
 ],
 "metadata": {
  "kernelspec": {
   "display_name": "Python 3.10.8 64-bit",
   "language": "python",
   "name": "python3"
  },
  "language_info": {
   "codemirror_mode": {
    "name": "ipython",
    "version": 3
   },
   "file_extension": ".py",
   "mimetype": "text/x-python",
   "name": "python",
   "nbconvert_exporter": "python",
   "pygments_lexer": "ipython3",
   "version": "3.10.8"
  },
  "orig_nbformat": 4,
  "vscode": {
   "interpreter": {
    "hash": "ec8e037e8dc204d3d865c2c299d9f950a845b1569963e458e46239ef266b6b39"
   }
  }
 },
 "nbformat": 4,
 "nbformat_minor": 2
}
