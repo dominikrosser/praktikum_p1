{
 "cells": [
  {
   "cell_type": "code",
   "execution_count": 49,
   "metadata": {},
   "outputs": [],
   "source": [
    "import import_ipynb\n",
    "\n"
   ]
  },
  {
   "cell_type": "code",
   "execution_count": 5,
   "metadata": {},
   "outputs": [],
   "source": [
    "#import sys\n",
    "\n",
    "#sys.path.insert(0, '../../code/Helpers')\n",
    "\n",
    "#from Helpers import calculation_functions"
   ]
  },
  {
   "cell_type": "code",
   "execution_count": 2,
   "metadata": {},
   "outputs": [],
   "source": [
    "# This is an example of using the stuff\n",
    "#calculation_functions.Mean([0,1,2])"
   ]
  },
  {
   "cell_type": "markdown",
   "metadata": {},
   "source": [
    "### 1. Auftrag auslenkungen messen"
   ]
  },
  {
   "cell_type": "code",
   "execution_count": 5,
   "metadata": {},
   "outputs": [
    {
     "name": "stdout",
     "output_type": "stream",
     "text": [
      "Person 1 (Niklas) A measurements:  [1.32  1.32  1.305 1.375 1.315 1.325 1.31  1.32  1.31  1.325]\n",
      "Person 1 (Niklas) A mean:  1.3225000000000002\n",
      "Person 1 (Niklas) A standard deviation:  0.018607794065928367\n"
     ]
    }
   ],
   "source": [
    "import os\n",
    "import numpy as np\n",
    "\n",
    "#### Niklas\n",
    "M_1 = 200+(400+50+10+2)# g\n",
    "l_1 = 54 # cm\n",
    "# Messunsicherheit bottom/top: 0.005mm\n",
    "Translation_Of_Scale_Meas_1_Bound_Top, Translation_Of_Scale_Meas_1_Bound_Bottom = np.genfromtxt(os.path.join(os.getcwd(), \"translation_of_scale_meas_1.csv\"), delimiter=',', skip_header=1, unpack=True)\n",
    "Translation_Of_Scale_Meas_1 = np.abs(Translation_Of_Scale_Meas_1_Bound_Top - Translation_Of_Scale_Meas_1_Bound_Bottom)\n",
    "A_meas_1 = Translation_Of_Scale_Meas_1/2\n",
    "print(\"Person 1 (Niklas) A measurements: \", A_meas_1)\n",
    "print(\"Person 1 (Niklas) A mean: \", np.mean(A_meas_1))\n",
    "print(\"Person 1 (Niklas) A standard deviation: \", np.std(A_meas_1))\n",
    "\n"
   ]
  },
  {
   "cell_type": "code",
   "execution_count": 6,
   "metadata": {},
   "outputs": [
    {
     "ename": "NameError",
     "evalue": "name 'np' is not defined",
     "output_type": "error",
     "traceback": [
      "\u001b[0;31m---------------------------------------------------------------------------\u001b[0m",
      "\u001b[0;31mNameError\u001b[0m                                 Traceback (most recent call last)",
      "\u001b[0;32m/var/folders/9g/yfpxs45x1pv4blxh09v3hq900000gn/T/ipykernel_7116/2375750885.py\u001b[0m in \u001b[0;36m<module>\u001b[0;34m\u001b[0m\n\u001b[1;32m      3\u001b[0m \u001b[0ml_2\u001b[0m \u001b[0;34m=\u001b[0m \u001b[0;36m54\u001b[0m \u001b[0;31m# cm\u001b[0m\u001b[0;34m\u001b[0m\u001b[0;34m\u001b[0m\u001b[0m\n\u001b[1;32m      4\u001b[0m \u001b[0;31m# Messunsicherheit bottom/top: 0.005mm\u001b[0m\u001b[0;34m\u001b[0m\u001b[0;34m\u001b[0m\u001b[0m\n\u001b[0;32m----> 5\u001b[0;31m \u001b[0mTranslation_Of_Scale_Meas_2_Bound_Top\u001b[0m\u001b[0;34m,\u001b[0m \u001b[0mTranslation_Of_Scale_Meas_2_Bound_Bottom\u001b[0m \u001b[0;34m=\u001b[0m \u001b[0mnp\u001b[0m\u001b[0;34m.\u001b[0m\u001b[0mgenfromtxt\u001b[0m\u001b[0;34m(\u001b[0m\u001b[0mos\u001b[0m\u001b[0;34m.\u001b[0m\u001b[0mpath\u001b[0m\u001b[0;34m.\u001b[0m\u001b[0mjoin\u001b[0m\u001b[0;34m(\u001b[0m\u001b[0mos\u001b[0m\u001b[0;34m.\u001b[0m\u001b[0mgetcwd\u001b[0m\u001b[0;34m(\u001b[0m\u001b[0;34m)\u001b[0m\u001b[0;34m,\u001b[0m \u001b[0;34m\"translation_of_scale_meas_2.csv\"\u001b[0m\u001b[0;34m)\u001b[0m\u001b[0;34m,\u001b[0m \u001b[0mdelimiter\u001b[0m\u001b[0;34m=\u001b[0m\u001b[0;34m','\u001b[0m\u001b[0;34m,\u001b[0m \u001b[0mskip_header\u001b[0m\u001b[0;34m=\u001b[0m\u001b[0;36m1\u001b[0m\u001b[0;34m,\u001b[0m \u001b[0munpack\u001b[0m\u001b[0;34m=\u001b[0m\u001b[0;32mTrue\u001b[0m\u001b[0;34m)\u001b[0m\u001b[0;34m\u001b[0m\u001b[0;34m\u001b[0m\u001b[0m\n\u001b[0m\u001b[1;32m      6\u001b[0m \u001b[0mTranslation_Of_Scale_Meas_2\u001b[0m \u001b[0;34m=\u001b[0m \u001b[0mnp\u001b[0m\u001b[0;34m.\u001b[0m\u001b[0mabs\u001b[0m\u001b[0;34m(\u001b[0m\u001b[0mTranslation_Of_Scale_Meas_2_Bound_Top\u001b[0m \u001b[0;34m-\u001b[0m \u001b[0mTranslation_Of_Scale_Meas_2_Bound_Bottom\u001b[0m\u001b[0;34m)\u001b[0m\u001b[0;34m\u001b[0m\u001b[0;34m\u001b[0m\u001b[0m\n\u001b[1;32m      7\u001b[0m \u001b[0mA_meas_2\u001b[0m \u001b[0;34m=\u001b[0m \u001b[0mTranslation_Of_Scale_Meas_2\u001b[0m\u001b[0;34m/\u001b[0m\u001b[0;36m2\u001b[0m\u001b[0;34m\u001b[0m\u001b[0;34m\u001b[0m\u001b[0m\n",
      "\u001b[0;31mNameError\u001b[0m: name 'np' is not defined"
     ]
    }
   ],
   "source": [
    "#### Dominik\n",
    "M_2 = 200+(400+50+10+2)# g\n",
    "l_2 = 54 # cm\n",
    "# Messunsicherheit bottom/top: 0.005mm\n",
    "Translation_Of_Scale_Meas_2_Bound_Top, Translation_Of_Scale_Meas_2_Bound_Bottom = np.genfromtxt(os.path.join(os.getcwd(), \"translation_of_scale_meas_2.csv\"), delimiter=',', skip_header=1, unpack=True)\n",
    "Translation_Of_Scale_Meas_2 = np.abs(Translation_Of_Scale_Meas_2_Bound_Top - Translation_Of_Scale_Meas_2_Bound_Bottom)\n",
    "A_meas_2 = Translation_Of_Scale_Meas_2/2\n",
    "print(\"Person 2 (Dominik) A measurements: \", A_meas_2)\n",
    "print(\"Person 2 (Dominik) A mean: \", np.mean(A_meas_2))\n",
    "print(\"Person 2 (Dominik) A standard deviation: \", np.std(A_meas_2))"
   ]
  },
  {
   "cell_type": "code",
   "execution_count": 7,
   "metadata": {},
   "outputs": [],
   "source": [
    "# TODO COMPATIBILITY OF THE TWO MEANS/STD's"
   ]
  },
  {
   "cell_type": "markdown",
   "metadata": {},
   "source": [
    "### 4."
   ]
  },
  {
   "cell_type": "code",
   "execution_count": 11,
   "metadata": {},
   "outputs": [],
   "source": [
    "import os\n",
    "import numpy as np\n",
    "l_4 = 40 # cm\n",
    "\n",
    "weight_4_without_the_200g, translation_4_bottom, translation_4_top = np.genfromtxt(os.path.join(os.getcwd(), \"4_weights_amplitude.csv\"), delimiter=',', skip_header=1, unpack=True)\n",
    "translation_4_meas = np.abs(translation_4_top - translation_4_bottom)\n",
    "A_4_meas_mm = translation_4_meas/2\n",
    "weight_m_4_meas_grams = weight_4_without_the_200g + 200 # in grams\n",
    "\n",
    "#np.max(translation_4_meas)"
   ]
  },
  {
   "cell_type": "code",
   "execution_count": 24,
   "metadata": {},
   "outputs": [],
   "source": [
    "# Taylor, Barry N.; Thompson, Ambler, eds. (March 2008). The international system of units (SI) (PDF) (Report). National Institute of Standards and Technology. p. 52. NIST special publication 330, 2008 edition.\n",
    "g = 9.80665 # m/s2\n",
    "sig_g = 0.000005 # m/s2\n",
    "sig_m_kg = 0.0005 #kg\n",
    "def calc_Z_of_m_grams(m_gr):\n",
    "    # TODO error propagation of m grams\n",
    "    return calc_Z_of_m_kg(m_gr / 1000)\n",
    "\n",
    "# Calculate Force Z in Newton from appended mass in kg.\n",
    "def calc_Z_of_m_kg(m_kg,):\n",
    "    # TODO error propagation of m kg\n",
    "    return np.square(2*(g*m_kg)), np.sqrt(g/(2*m_kg)*sig_m_kg**2 + m_kg/(2*g)*sig_g**2)\n",
    "\n"
   ]
  },
  {
   "cell_type": "code",
   "execution_count": 36,
   "metadata": {},
   "outputs": [
    {
     "name": "stdout",
     "output_type": "stream",
     "text": [
      "[0.00014  0.000145 0.000165 0.00017  0.000195 0.000205 0.000245 0.00026\n",
      " 0.00028  0.00034  0.000385 0.00047  0.000565 0.000705 0.000895 0.00111\n",
      " 0.001315 0.00148  0.001535 0.00081  0.00053  0.00042  0.00035  0.000305\n",
      " 0.00026  0.00024  0.000215 0.000185 0.000165 0.00014  0.00015 ]\n",
      "[7.53975812e-06 8.08792931e-06 1.04729548e-05 1.11172964e-05\n",
      " 1.46275154e-05 1.61662416e-05 2.30905093e-05 2.60044719e-05\n",
      " 3.01590325e-05 4.44691857e-05 5.70194208e-05 8.49761515e-05\n",
      " 1.22799964e-04 1.91196341e-04 3.08139528e-04 4.73966122e-04\n",
      " 6.65200931e-04 8.42606438e-04 9.06396254e-04 2.52389556e-04\n",
      " 1.08057044e-04 6.78578231e-05 4.71234883e-05 3.57850000e-05\n",
      " 2.60044719e-05 2.21576565e-05 1.77819040e-05 1.31657256e-05\n",
      " 1.04729548e-05 7.53975812e-06 8.65533458e-06]\n",
      "[0.09357317 0.09194568 0.08619327 0.08491626 0.07928628 0.07732829\n",
      " 0.07073467 0.06866393 0.06616622 0.06004487 0.05642674 0.05107007\n",
      " 0.0465791  0.04169853 0.0370087  0.0332318  0.0305318  0.02877958\n",
      " 0.02825928 0.03890208 0.04809251 0.05402449 0.05918087 0.06339652\n",
      " 0.06866393 0.07146769 0.07550855 0.08140095 0.08619327 0.09357317\n",
      " 0.09040027]\n"
     ]
    },
    {
     "data": {
      "image/png": "[encoded data removed]",
      "text/plain": [
       "<Figure size 340.157x340.157 with 1 Axes>"
      ]
     },
     "metadata": {
      "needs_background": "light"
     },
     "output_type": "display_data"
    }
   ],
   "source": [
    "# A\n",
    "A_values_4_m = A_4_meas_mm / 1000\n",
    "# sqrt Z\n",
    "Z_4_values_newton_sqrt, Z_4_values_newton_error_sqrt = calc_Z_of_m_kg(A_values_4_m)# TODO TODO error of m grams\n",
    "#Z_4_sqrt_values = np.sqrt(Z_4_values_newton)\n",
    "#Z_4_sqrt_error = 100 # TODO\n",
    "\n",
    "# TODO Graph A(sqrt(Z))\n",
    "# TODO INCLUDE ERROR BARS FOR A\n",
    "\n",
    "# TODO Add error for m of 1g\n",
    "#sig_A_values_4_m = np.ones(len(A_values_4_m))*np.std(A_meas_1)\n",
    "#sig_A_values_4_mm = np.ones(len(A_4_meas_mm))*np.std(A_meas_1)\n",
    "\n",
    "print(A_values_4_m)\n",
    "print(Z_4_values_newton_sqrt)\n",
    "print(Z_4_values_newton_error_sqrt)\n",
    "# Helper function\n",
    "import matplotlib.pyplot as plt\n",
    "def errorbar_plot_A_sqrtZ(A_values, Sqrt_Z_values,sig):\n",
    "    x, y = Sqrt_Z_values, A_values\n",
    "    cm = 1/2.54\n",
    "    fig, ax = plt.subplots(1,1,figsize=(12*cm, 12*cm))\n",
    "    ax.plot(x,y,linestyle='-', color='red')\n",
    "    ax.errorbar(x, y, yerr=sig, linestyle='', color='blue', capsize=3, label='error bars')\n",
    "    ax.set_xlabel('sqrt(Z) [sqrt(N)]')\n",
    "    ax.set_ylabel('A [mm]')\n",
    "    ax.set_title('A of sqrt(Z)')\n",
    "    #ax.set_xlim([-1,1])\n",
    "    #ax.set_ylim([-4,4])\n",
    "    ax.legend(loc='lower right')\n",
    "    plt.show()\n",
    "\n",
    "errorbar_plot_A_sqrtZ(A_values_4_m , Z_4_values_newton_sqrt, Z_4_values_newton_error_sqrt)\n"
   ]
  },
  {
   "cell_type": "markdown",
   "metadata": {},
   "source": [
    "### 5."
   ]
  },
  {
   "cell_type": "code",
   "execution_count": 37,
   "metadata": {},
   "outputs": [
    {
     "name": "stdout",
     "output_type": "stream",
     "text": [
      "Mean a value in mm of the A(sqrt(Z)) values:  0.46370967741935476\n"
     ]
    },
    {
     "ename": "ModuleNotFoundError",
     "evalue": "No module named 'lmfit'",
     "output_type": "error",
     "traceback": [
      "\u001b[0;31m---------------------------------------------------------------------------\u001b[0m",
      "\u001b[0;31mModuleNotFoundError\u001b[0m                       Traceback (most recent call last)",
      "\u001b[0;32m/var/folders/9g/yfpxs45x1pv4blxh09v3hq900000gn/T/ipykernel_7116/1728651076.py\u001b[0m in \u001b[0;36m<module>\u001b[0;34m\u001b[0m\n\u001b[1;32m      5\u001b[0m \u001b[0;34m\u001b[0m\u001b[0m\n\u001b[1;32m      6\u001b[0m \u001b[0;32mimport\u001b[0m \u001b[0mnumpy\u001b[0m \u001b[0;32mas\u001b[0m \u001b[0mnp\u001b[0m\u001b[0;34m\u001b[0m\u001b[0;34m\u001b[0m\u001b[0m\n\u001b[0;32m----> 7\u001b[0;31m \u001b[0;32mfrom\u001b[0m \u001b[0mlmfit\u001b[0m \u001b[0;32mimport\u001b[0m \u001b[0mModel\u001b[0m\u001b[0;34m\u001b[0m\u001b[0;34m\u001b[0m\u001b[0m\n\u001b[0m\u001b[1;32m      8\u001b[0m \u001b[0;32mfrom\u001b[0m \u001b[0mlmfit\u001b[0m\u001b[0;34m.\u001b[0m\u001b[0mmodels\u001b[0m \u001b[0;32mimport\u001b[0m \u001b[0mGaussianModel\u001b[0m\u001b[0;34m,\u001b[0m \u001b[0mConstantModel\u001b[0m\u001b[0;34m\u001b[0m\u001b[0;34m\u001b[0m\u001b[0m\n\u001b[1;32m      9\u001b[0m \u001b[0;32mimport\u001b[0m \u001b[0mmatplotlib\u001b[0m\u001b[0;34m.\u001b[0m\u001b[0mpyplot\u001b[0m \u001b[0;32mas\u001b[0m \u001b[0mplt\u001b[0m\u001b[0;34m\u001b[0m\u001b[0;34m\u001b[0m\u001b[0m\n",
      "\u001b[0;31mModuleNotFoundError\u001b[0m: No module named 'lmfit'"
     ]
    }
   ],
   "source": [
    "# TODO Mean of the resonance curve\n",
    "print(\"Mean a value in mm of the A(sqrt(Z)) values: \", np.mean(A_4_meas_mm))\n",
    "\n",
    "# TODO FWHM (fit the resonance curve to a gaussian curve)\n",
    "\n",
    "import numpy as np\n",
    "from lmfit import Model\n",
    "from lmfit.models import GaussianModel, ConstantModel\n",
    "import matplotlib.pyplot as plt\n",
    "\n",
    "def lmfit_fitting_gaussian(x, y, sig):\n",
    "    def gaussian_model(x, a):\n",
    "        x0, std = a[0], a[1]\n",
    "        return np.exp(-1/2 * ((x-x0)/std)**2)\n",
    "    w = 1/sig**2 # Or: 1/sig**2\n",
    "    model = GaussianModel()\n",
    "    pars = model.guess(y, x=x, amplitude=1.6)#-0.5)\n",
    "    result = model.fit(y, pars, x=x, weights=w)\n",
    "    print(result.fit_report())\n",
    "    plt.plot(x, y, 'ro', ms=3)\n",
    "    plt.errorbar(x, y, sig)\n",
    "    plt.plot(x, result.best_fit, 'b--')\n",
    "# Fit to gaussian\n",
    "## using def lmfit_fitting_gaussian(x, y, sig):\n",
    "lmfit_fitting_gaussian(Z_4_sqrt_values, A_4_meas_mm, sig_A_values_4_mm)\n",
    "\n"
   ]
  },
  {
   "cell_type": "code",
   "execution_count": null,
   "metadata": {},
   "outputs": [],
   "source": [
    "# TODO Calculate sigma from FWHM (see report of lmfit)"
   ]
  },
  {
   "cell_type": "markdown",
   "metadata": {},
   "source": [
    "### 6. One expects that for 1/3 of the data points the\n",
    "fit curve does not pass through the error bar. Is\n",
    "this the case for you? If not, explain why this\n",
    "is not the case."
   ]
  },
  {
   "cell_type": "code",
   "execution_count": null,
   "metadata": {},
   "outputs": [],
   "source": []
  },
  {
   "cell_type": "markdown",
   "metadata": {},
   "source": [
    "### 7.\n",
    "Check the law (7) for its validity. For various\n",
    "string lengths l, determine the tensile force Z\n",
    "for which the string resonates. Graph Z as a\n",
    "function of l2. Change the length l in steps of\n",
    "2 cm between 36 and 54 cm."
   ]
  },
  {
   "cell_type": "code",
   "execution_count": null,
   "metadata": {},
   "outputs": [
    {
     "data": {
      "image/png": "[encoded data removed]",
      "text/plain": [
       "<Figure size 236.22x236.22 with 1 Axes>"
      ]
     },
     "metadata": {},
     "output_type": "display_data"
    }
   ],
   "source": [
    "length_7_cm, resonance_mass_7_grams_without200gr = np.genfromtxt(os.path.join(os.getcwd(), \"7_lengths_resonanceMass.csv\"), delimiter=',', skip_header=1, unpack=True)\n",
    "mass_7_grams = resonance_mass_7_grams_without200gr + 200\n",
    "\n",
    "length_7_m = length_7_cm / 100\n",
    "mass_7_kg = mass_7_grams / 1000\n",
    "Z_7_kg = calc_Z_of_m_grams(mass_7_grams)\n",
    "\n",
    "length_7_squared_m = np.square(length_7_m)\n",
    "\n",
    "sig_Z_7 = np.zeros(len(Z_7_kg))#TODO\n",
    "\n",
    "# Helper function\n",
    "import matplotlib.pyplot as plt\n",
    "def errorbar_plot_Z_of_l_squared(l_squared, Z, sig_Z):\n",
    "    x, y = l_squared, Z\n",
    "    sig = sig_Z\n",
    "    cm = 1/2.54\n",
    "    fig, ax = plt.subplots(1,1,figsize=(6*cm, 6*cm))\n",
    "    ax.plot(x,y,linestyle='-', color='red')\n",
    "    ax.errorbar(x, y, yerr=sig, linestyle='', color='blue', capsize=3, label='error bars')\n",
    "    ax.set_xlabel('l^2')\n",
    "    ax.set_ylabel('Z')\n",
    "    ax.set_title('...')\n",
    "    #ax.set_xlim([-1,1])\n",
    "    #ax.set_ylim([-4,4])\n",
    "    ax.legend(loc='lower right')\n",
    "    plt.show()\n",
    "\n",
    "errorbar_plot_Z_of_l_squared(length_7_squared_m, Z_7_kg, sig_Z_7)"
   ]
  },
  {
   "cell_type": "code",
   "execution_count": null,
   "metadata": {},
   "outputs": [],
   "source": []
  }
 ],
 "metadata": {
  "kernelspec": {
   "display_name": "Python 3.9.7 ('base')",
   "language": "python",
   "name": "python3"
  },
  "language_info": {
   "codemirror_mode": {
    "name": "ipython",
    "version": 3
   },
   "file_extension": ".py",
   "mimetype": "text/x-python",
   "name": "python",
   "nbconvert_exporter": "python",
   "pygments_lexer": "ipython3",
   "version": "3.9.7"
  },
  "orig_nbformat": 4,
  "vscode": {
   "interpreter": {
    "hash": "fff16d8d1fda96371b9403ae217ea25778b107d9bb1b70f389b9fd6ea565b344"
   }
  }
 },
 "nbformat": 4,
 "nbformat_minor": 2
}
