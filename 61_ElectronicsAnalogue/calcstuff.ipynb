{
 "cells": [
  {
   "cell_type": "code",
   "execution_count": 21,
   "metadata": {},
   "outputs": [
    {
     "name": "stdout",
     "output_type": "stream",
     "text": [
      "Table for 4:\n"
     ]
    },
    {
     "name": "stderr",
     "output_type": "stream",
     "text": [
      "/Users/niklasjorg/opt/anaconda3/lib/python3.9/site-packages/numpy/core/_asarray.py:102: UnitStrippedWarning: The unit of the quantity is stripped when downcasting to ndarray.\n",
      "  return array(a, dtype, copy=False, order=order)\n"
     ]
    },
    {
     "data": {
      "text/html": [
       "<div>\n",
       "<style scoped>\n",
       "    .dataframe tbody tr th:only-of-type {\n",
       "        vertical-align: middle;\n",
       "    }\n",
       "\n",
       "    .dataframe tbody tr th {\n",
       "        vertical-align: top;\n",
       "    }\n",
       "\n",
       "    .dataframe thead th {\n",
       "        text-align: right;\n",
       "    }\n",
       "</style>\n",
       "<table border=\"1\" class=\"dataframe\">\n",
       "  <thead>\n",
       "    <tr style=\"text-align: right;\">\n",
       "      <th></th>\n",
       "      <th>0</th>\n",
       "      <th>1</th>\n",
       "      <th>2</th>\n",
       "      <th>3</th>\n",
       "      <th>4</th>\n",
       "      <th>5</th>\n",
       "      <th>6</th>\n",
       "      <th>7</th>\n",
       "    </tr>\n",
       "  </thead>\n",
       "  <tbody>\n",
       "    <tr>\n",
       "      <th>U_quelle</th>\n",
       "      <td>0.100+/-0.005</td>\n",
       "      <td>0.300+/-0.005</td>\n",
       "      <td>0.500+/-0.005</td>\n",
       "      <td>0.700+/-0.005</td>\n",
       "      <td>0.900+/-0.005</td>\n",
       "      <td>1.100+/-0.005</td>\n",
       "      <td>1.300+/-0.005</td>\n",
       "      <td>1.500+/-0.005</td>\n",
       "    </tr>\n",
       "    <tr>\n",
       "      <th>U_out_4:</th>\n",
       "      <td>1.000+/-0.005</td>\n",
       "      <td>3.000+/-0.005</td>\n",
       "      <td>5.000+/-0.005</td>\n",
       "      <td>7.000+/-0.005</td>\n",
       "      <td>9.000+/-0.005</td>\n",
       "      <td>11.000+/-0.005</td>\n",
       "      <td>13.000+/-0.005</td>\n",
       "      <td>13.800+/-0.005</td>\n",
       "    </tr>\n",
       "    <tr>\n",
       "      <th>U_fact_4</th>\n",
       "      <td>0.100+/-0.005</td>\n",
       "      <td>0.1000+/-0.0017</td>\n",
       "      <td>0.1000+/-0.0010</td>\n",
       "      <td>0.1000+/-0.0007</td>\n",
       "      <td>0.1000+/-0.0006</td>\n",
       "      <td>0.1000+/-0.0005</td>\n",
       "      <td>0.1000+/-0.0004</td>\n",
       "      <td>0.1087+/-0.0004</td>\n",
       "    </tr>\n",
       "  </tbody>\n",
       "</table>\n",
       "</div>"
      ],
      "text/plain": [
       "                      0                1                2                3  \\\n",
       "U_quelle  0.100+/-0.005    0.300+/-0.005    0.500+/-0.005    0.700+/-0.005   \n",
       "U_out_4:  1.000+/-0.005    3.000+/-0.005    5.000+/-0.005    7.000+/-0.005   \n",
       "U_fact_4  0.100+/-0.005  0.1000+/-0.0017  0.1000+/-0.0010  0.1000+/-0.0007   \n",
       "\n",
       "                        4                5                6                7  \n",
       "U_quelle    0.900+/-0.005    1.100+/-0.005    1.300+/-0.005    1.500+/-0.005  \n",
       "U_out_4:    9.000+/-0.005   11.000+/-0.005   13.000+/-0.005   13.800+/-0.005  \n",
       "U_fact_4  0.1000+/-0.0006  0.1000+/-0.0005  0.1000+/-0.0004  0.1087+/-0.0004  "
      ]
     },
     "metadata": {},
     "output_type": "display_data"
    },
    {
     "name": "stdout",
     "output_type": "stream",
     "text": [
      "Mean factor for 4: 0.1011+/-0.0007\n",
      "Table for 5:\n"
     ]
    },
    {
     "data": {
      "text/html": [
       "<div>\n",
       "<style scoped>\n",
       "    .dataframe tbody tr th:only-of-type {\n",
       "        vertical-align: middle;\n",
       "    }\n",
       "\n",
       "    .dataframe tbody tr th {\n",
       "        vertical-align: top;\n",
       "    }\n",
       "\n",
       "    .dataframe thead th {\n",
       "        text-align: right;\n",
       "    }\n",
       "</style>\n",
       "<table border=\"1\" class=\"dataframe\">\n",
       "  <thead>\n",
       "    <tr style=\"text-align: right;\">\n",
       "      <th></th>\n",
       "      <th>0</th>\n",
       "      <th>1</th>\n",
       "      <th>2</th>\n",
       "      <th>3</th>\n",
       "      <th>4</th>\n",
       "      <th>5</th>\n",
       "      <th>6</th>\n",
       "      <th>7</th>\n",
       "    </tr>\n",
       "  </thead>\n",
       "  <tbody>\n",
       "    <tr>\n",
       "      <th>U_quelle</th>\n",
       "      <td>0.100+/-0.005</td>\n",
       "      <td>0.300+/-0.005</td>\n",
       "      <td>0.500+/-0.005</td>\n",
       "      <td>0.700+/-0.005</td>\n",
       "      <td>0.900+/-0.005</td>\n",
       "      <td>1.100+/-0.005</td>\n",
       "      <td>1.300+/-0.005</td>\n",
       "      <td>1.500+/-0.005</td>\n",
       "    </tr>\n",
       "    <tr>\n",
       "      <th>U_out_5:</th>\n",
       "      <td>1.200+/-0.005</td>\n",
       "      <td>3.400+/-0.005</td>\n",
       "      <td>5.520+/-0.005</td>\n",
       "      <td>7.920+/-0.005</td>\n",
       "      <td>9.800+/-0.005</td>\n",
       "      <td>12.200+/-0.005</td>\n",
       "      <td>13.800+/-0.005</td>\n",
       "      <td>13.800+/-0.005</td>\n",
       "    </tr>\n",
       "    <tr>\n",
       "      <th>U_fact_5</th>\n",
       "      <td>0.083+/-0.004</td>\n",
       "      <td>0.0882+/-0.0015</td>\n",
       "      <td>0.0906+/-0.0009</td>\n",
       "      <td>0.0884+/-0.0006</td>\n",
       "      <td>0.0918+/-0.0005</td>\n",
       "      <td>0.0902+/-0.0004</td>\n",
       "      <td>0.0942+/-0.0004</td>\n",
       "      <td>0.1087+/-0.0004</td>\n",
       "    </tr>\n",
       "    <tr>\n",
       "      <th>U_fact_5_sigma</th>\n",
       "      <td>0.004168</td>\n",
       "      <td>0.002352</td>\n",
       "      <td>0.004366</td>\n",
       "      <td>0.00727</td>\n",
       "      <td>0.010283</td>\n",
       "      <td>0.013764</td>\n",
       "      <td>0.017064</td>\n",
       "      <td>0.019688</td>\n",
       "    </tr>\n",
       "  </tbody>\n",
       "</table>\n",
       "</div>"
      ],
      "text/plain": [
       "                            0                1                2  \\\n",
       "U_quelle        0.100+/-0.005    0.300+/-0.005    0.500+/-0.005   \n",
       "U_out_5:        1.200+/-0.005    3.400+/-0.005    5.520+/-0.005   \n",
       "U_fact_5        0.083+/-0.004  0.0882+/-0.0015  0.0906+/-0.0009   \n",
       "U_fact_5_sigma       0.004168         0.002352         0.004366   \n",
       "\n",
       "                              3                4                5  \\\n",
       "U_quelle          0.700+/-0.005    0.900+/-0.005    1.100+/-0.005   \n",
       "U_out_5:          7.920+/-0.005    9.800+/-0.005   12.200+/-0.005   \n",
       "U_fact_5        0.0884+/-0.0006  0.0918+/-0.0005  0.0902+/-0.0004   \n",
       "U_fact_5_sigma          0.00727         0.010283         0.013764   \n",
       "\n",
       "                              6                7  \n",
       "U_quelle          1.300+/-0.005    1.500+/-0.005  \n",
       "U_out_5:         13.800+/-0.005   13.800+/-0.005  \n",
       "U_fact_5        0.0942+/-0.0004  0.1087+/-0.0004  \n",
       "U_fact_5_sigma         0.017064         0.019688  "
      ]
     },
     "metadata": {},
     "output_type": "display_data"
    },
    {
     "name": "stdout",
     "output_type": "stream",
     "text": [
      "Mean factor for 5: 0.0919+/-0.0006\n",
      "1/mean factor for 5 10.88+/-0.07\n",
      "alle ausser die letzten zwei mean 0.0885+/-0.0009\n",
      "alle ausser die letzten zwei mean 11.30+/-0.12\n"
     ]
    }
   ],
   "source": [
    "# 4 5 Table\n",
    "import numpy as np\n",
    "import pandas as pd\n",
    "import matplotlib.pyplot as plt\n",
    "import pint\n",
    "units = pint.UnitRegistry()\n",
    "units.default_format = '~'\n",
    "import uncertainties as u\n",
    "from uncertainties import ufloat\n",
    "from uncertainties.umath import sqrt\n",
    "from uncertainties.umath import __all__\n",
    "from uncertainties.umath import *\n",
    "ulog = u.wrap(np.log)\n",
    "upower = u.wrap(np.power)\n",
    "umultiply = u.wrap(np.multiply)\n",
    "udivide = u.wrap(np.divide)\n",
    "import uncertainties.unumpy as unp\n",
    "import scipy.constants\n",
    "\n",
    "U_quelle = np.array([u.ufloat(0.1,0.005),u.ufloat(0.3,0.005),u.ufloat(0.5,0.005), u.ufloat(0.7,0.005),u.ufloat(0.9,0.005),u.ufloat(1.1,0.005),u.ufloat(1.3,0.005),u.ufloat(1.5,0.005)]) * units.V\n",
    "U_out_4 = np.array([u.ufloat(1,0.005),u.ufloat(3,0.005),u.ufloat(5,0.005), u.ufloat(7,0.005),u.ufloat(9,0.005),u.ufloat(11,0.005),u.ufloat(13,0.005),u.ufloat(13.8,0.005)]) * units.V\n",
    "U_out_5 = np.array([u.ufloat(1.2,0.005),u.ufloat(3.4,0.005),u.ufloat(5.52,0.005), u.ufloat(7.92,0.005),u.ufloat(9.8,0.005),u.ufloat(12.2,0.005),u.ufloat(13.8,0.005),u.ufloat(13.8,0.005)]) * units.V\n",
    "\n",
    "U_fact_4 = U_quelle / U_out_4\n",
    "U_fact_5 = U_quelle / U_out_5\n",
    "df_4 = pd.DataFrame({'U_quelle': U_quelle, 'U_out_4:': U_out_4, 'U_fact_4': U_fact_4})\n",
    "df_5 = pd.DataFrame({'U_quelle': U_quelle, 'U_out_5:': U_out_5, 'U_fact_5': U_fact_5, 'U_fact_5_sigma':U_fact_5_sigma})\n",
    "print(\"Table for 4:\")\n",
    "display(df_4.transpose())\n",
    "print(\"Mean factor for 4:\", np.mean(U_fact_4))\n",
    "print(\"Table for 5:\")\n",
    "display(df_5.transpose())\n",
    "print(\"Mean factor for 5:\", np.mean(U_fact_5))\n",
    "print(\"1/mean factor for 5\", 1/np.mean(U_fact_5))\n",
    "print(\"alle ausser die letzten zwei mean\",np.mean(U_fact_5[:5]))\n",
    "print(\"alle ausser die letzten zwei mean\",1/np.mean(U_fact_5[:5]))"
   ]
  },
  {
   "cell_type": "code",
   "execution_count": 25,
   "metadata": {},
   "outputs": [
    {
     "ename": "AttributeError",
     "evalue": "Neither Quantity object nor its magnitude ([0.1+/-0.005 0.3+/-0.005 0.5+/-0.005 0.7+/-0.005 0.9+/-0.005 1.1+/-0.005\n 1.3+/-0.005 1.5+/-0.005]) has attribute '__name__'",
     "output_type": "error",
     "traceback": [
      "\u001b[0;31m---------------------------------------------------------------------------\u001b[0m",
      "\u001b[0;31mAttributeError\u001b[0m                            Traceback (most recent call last)",
      "\u001b[0;32m~/opt/anaconda3/lib/python3.9/site-packages/pint/facets/numpy/quantity.py\u001b[0m in \u001b[0;36m__getattr__\u001b[0;34m(self, item)\u001b[0m\n\u001b[1;32m    227\u001b[0m         \u001b[0;32mtry\u001b[0m\u001b[0;34m:\u001b[0m\u001b[0;34m\u001b[0m\u001b[0;34m\u001b[0m\u001b[0m\n\u001b[0;32m--> 228\u001b[0;31m             \u001b[0;32mreturn\u001b[0m \u001b[0mgetattr\u001b[0m\u001b[0;34m(\u001b[0m\u001b[0mself\u001b[0m\u001b[0;34m.\u001b[0m\u001b[0m_magnitude\u001b[0m\u001b[0;34m,\u001b[0m \u001b[0mitem\u001b[0m\u001b[0;34m)\u001b[0m\u001b[0;34m\u001b[0m\u001b[0;34m\u001b[0m\u001b[0m\n\u001b[0m\u001b[1;32m    229\u001b[0m         \u001b[0;32mexcept\u001b[0m \u001b[0mAttributeError\u001b[0m\u001b[0;34m:\u001b[0m\u001b[0;34m\u001b[0m\u001b[0;34m\u001b[0m\u001b[0m\n",
      "\u001b[0;31mAttributeError\u001b[0m: 'numpy.ndarray' object has no attribute '__name__'",
      "\nDuring handling of the above exception, another exception occurred:\n",
      "\u001b[0;31mAttributeError\u001b[0m                            Traceback (most recent call last)",
      "\u001b[0;32m/var/folders/9g/yfpxs45x1pv4blxh09v3hq900000gn/T/ipykernel_11174/472625104.py\u001b[0m in \u001b[0;36m<module>\u001b[0;34m\u001b[0m\n\u001b[0;32m----> 1\u001b[0;31m \u001b[0mnp\u001b[0m\u001b[0;34m.\u001b[0m\u001b[0msavetxt\u001b[0m\u001b[0;34m(\u001b[0m\u001b[0;34m\"foo.csv\"\u001b[0m\u001b[0;34m,\u001b[0m \u001b[0mu\u001b[0m\u001b[0;34m.\u001b[0m\u001b[0mwrap\u001b[0m\u001b[0;34m(\u001b[0m\u001b[0mU_quelle\u001b[0m\u001b[0;34m)\u001b[0m\u001b[0;34m,\u001b[0m \u001b[0mdelimiter\u001b[0m\u001b[0;34m=\u001b[0m\u001b[0;34m\",\"\u001b[0m\u001b[0;34m)\u001b[0m\u001b[0;34m\u001b[0m\u001b[0;34m\u001b[0m\u001b[0m\n\u001b[0m",
      "\u001b[0;32m~/opt/anaconda3/lib/python3.9/site-packages/uncertainties/core.py\u001b[0m in \u001b[0;36mwrap\u001b[0;34m(f, derivatives_args, derivatives_kwargs)\u001b[0m\n\u001b[1;32m    645\u001b[0m \u001b[0;34m\u001b[0m\u001b[0m\n\u001b[1;32m    646\u001b[0m     \u001b[0mOriginal\u001b[0m \u001b[0mdocumentation\u001b[0m\u001b[0;34m:\u001b[0m\u001b[0;34m\u001b[0m\u001b[0;34m\u001b[0m\u001b[0m\n\u001b[0;32m--> 647\u001b[0;31m     %s\"\"\" % (f.__name__, f.__doc__))\n\u001b[0m\u001b[1;32m    648\u001b[0m     \u001b[0;32mdef\u001b[0m \u001b[0mf_with_affine_output\u001b[0m\u001b[0;34m(\u001b[0m\u001b[0;34m*\u001b[0m\u001b[0margs\u001b[0m\u001b[0;34m,\u001b[0m \u001b[0;34m**\u001b[0m\u001b[0mkwargs\u001b[0m\u001b[0;34m)\u001b[0m\u001b[0;34m:\u001b[0m\u001b[0;34m\u001b[0m\u001b[0;34m\u001b[0m\u001b[0m\n\u001b[1;32m    649\u001b[0m \u001b[0;34m\u001b[0m\u001b[0m\n",
      "\u001b[0;32m~/opt/anaconda3/lib/python3.9/site-packages/pint/facets/numpy/quantity.py\u001b[0m in \u001b[0;36m__getattr__\u001b[0;34m(self, item)\u001b[0m\n\u001b[1;32m    228\u001b[0m             \u001b[0;32mreturn\u001b[0m \u001b[0mgetattr\u001b[0m\u001b[0;34m(\u001b[0m\u001b[0mself\u001b[0m\u001b[0;34m.\u001b[0m\u001b[0m_magnitude\u001b[0m\u001b[0;34m,\u001b[0m \u001b[0mitem\u001b[0m\u001b[0;34m)\u001b[0m\u001b[0;34m\u001b[0m\u001b[0;34m\u001b[0m\u001b[0m\n\u001b[1;32m    229\u001b[0m         \u001b[0;32mexcept\u001b[0m \u001b[0mAttributeError\u001b[0m\u001b[0;34m:\u001b[0m\u001b[0;34m\u001b[0m\u001b[0;34m\u001b[0m\u001b[0m\n\u001b[0;32m--> 230\u001b[0;31m             raise AttributeError(\n\u001b[0m\u001b[1;32m    231\u001b[0m                 \u001b[0;34m\"Neither Quantity object nor its magnitude ({}) \"\u001b[0m\u001b[0;34m\u001b[0m\u001b[0;34m\u001b[0m\u001b[0m\n\u001b[1;32m    232\u001b[0m                 \u001b[0;34m\"has attribute '{}'\"\u001b[0m\u001b[0;34m.\u001b[0m\u001b[0mformat\u001b[0m\u001b[0;34m(\u001b[0m\u001b[0mself\u001b[0m\u001b[0;34m.\u001b[0m\u001b[0m_magnitude\u001b[0m\u001b[0;34m,\u001b[0m \u001b[0mitem\u001b[0m\u001b[0;34m)\u001b[0m\u001b[0;34m\u001b[0m\u001b[0;34m\u001b[0m\u001b[0m\n",
      "\u001b[0;31mAttributeError\u001b[0m: Neither Quantity object nor its magnitude ([0.1+/-0.005 0.3+/-0.005 0.5+/-0.005 0.7+/-0.005 0.9+/-0.005 1.1+/-0.005\n 1.3+/-0.005 1.5+/-0.005]) has attribute '__name__'"
     ]
    }
   ],
   "source": [
    "np.savetxt(\"foo.csv\", u.wrap(U_quelle), delimiter=\",\")"
   ]
  },
  {
   "cell_type": "code",
   "execution_count": 19,
   "metadata": {},
   "outputs": [
    {
     "data": {
      "text/html": [
       "3.889087296526011 V"
      ],
      "text/latex": [
       "$3.889087296526011\\ \\mathrm{V}$"
      ],
      "text/plain": [
       "3.889087296526011 <Unit('volt')>"
      ]
     },
     "execution_count": 19,
     "metadata": {},
     "output_type": "execute_result"
    }
   ],
   "source": [
    "f_gr = (18.6 * units.kHz).to(units.Hz)\n",
    "V_out = (3.89 * units.V)\n",
    "\n",
    "V_input = (500 * units.mV).to(units.V)\n",
    "\n",
    "V_t = 1 * units.V\n",
    "f_T = (105 * units.kHz).to(units.Hz)\n",
    "\n",
    "11 * (1/np.sqrt(2)) * 0.5 * units.V"
   ]
  },
  {
   "cell_type": "code",
   "execution_count": 47,
   "metadata": {},
   "outputs": [
    {
     "data": {
      "image/png": "[encoded data removed]",
      "text/plain": [
       "<Figure size 640x480 with 1 Axes>"
      ]
     },
     "metadata": {},
     "output_type": "display_data"
    }
   ],
   "source": [
    "deltaV = (V_t-V_out).magnitude\n",
    "delta_f = (f_T-f_gr).magnitude\n",
    "\n",
    "Freq_Values = np.array([f_gr.magnitude, f_T.magnitude])\n",
    "V_Values = np.array([V_out.magnitude, V_t.magnitude])\n",
    "\n",
    "b = np.log10(V_out.magnitude)/(1 - f_gr.magnitude/f_T.magnitude)\n",
    "m = -b / f_T.magnitude\n",
    "\n",
    "#m_1 = deltaV / delta_f\n",
    "#b_1 = -m_1 * f_T.magnitude\n",
    "\n",
    "def linmodel(m, b):\n",
    "    return lambda f: m*f + b\n",
    "\n",
    "fig, ax = plt.subplots(1,1)\n",
    "Freq = np.linspace(f_gr.magnitude, f_T.magnitude, 1000)\n",
    "Linears = linmodel(m,b)(Freq)\n",
    "Voltages = 10.0**(linmodel(m,b)(Freq))\n",
    "#Voltages_1 = exp_lin_model(m_1,b_1)(Freq)\n",
    "ax.set_yscale('log')\n",
    "ax.plot(Freq, Voltages)\n",
    "ax.plot(Freq_Values, V_Values, '.')\n",
    "ax.set_ylabel('V (V)')\n",
    "ax.set_xlabel('freq (Hz)')\n",
    "plt.show()"
   ]
  },
  {
   "cell_type": "code",
   "execution_count": null,
   "metadata": {},
   "outputs": [],
   "source": []
  }
 ],
 "metadata": {
  "kernelspec": {
   "display_name": "Python 3.9.7 ('base')",
   "language": "python",
   "name": "python3"
  },
  "language_info": {
   "codemirror_mode": {
    "name": "ipython",
    "version": 3
   },
   "file_extension": ".py",
   "mimetype": "text/x-python",
   "name": "python",
   "nbconvert_exporter": "python",
   "pygments_lexer": "ipython3",
   "version": "3.9.7"
  },
  "orig_nbformat": 4,
  "vscode": {
   "interpreter": {
    "hash": "fff16d8d1fda96371b9403ae217ea25778b107d9bb1b70f389b9fd6ea565b344"
   }
  }
 },
 "nbformat": 4,
 "nbformat_minor": 2
}
