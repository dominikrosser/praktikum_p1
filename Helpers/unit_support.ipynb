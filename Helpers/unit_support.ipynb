{
 "cells": [
  {
   "cell_type": "code",
   "execution_count": 3,
   "metadata": {},
   "outputs": [
    {
     "data": {
      "text/html": [
       "1.01 meter"
      ],
      "text/latex": [
       "$1.01\\ \\mathrm{meter}$"
      ],
      "text/plain": [
       "1.01 <Unit('meter')>"
      ]
     },
     "execution_count": 3,
     "metadata": {},
     "output_type": "execute_result"
    }
   ],
   "source": [
    "import pint # pip install pint OR conda install pint\n",
    "\n",
    "ur = pint.UnitRegistry()\n",
    "\n",
    "ur.km, ur.kilometer, ur.m, ur.mm, ur.cm, ur.liter, ur.Pa, ur.bar, ur.mmol\n",
    "\n",
    "1*ur.m + 1*ur.cm"
   ]
  },
  {
   "cell_type": "code",
   "execution_count": 6,
   "metadata": {},
   "outputs": [
    {
     "name": "stdout",
     "output_type": "stream",
     "text": [
      "2.00+/-0.20 meter\n"
     ]
    }
   ],
   "source": [
    "import uncertainties as u\n",
    "import numpy as np\n",
    "\n",
    "A = u.ufloat(2, 0.2)*ur.m\n",
    "B = u.ufloat(3, 0.03)*ur.m\n",
    "\n",
    "print(A)"
   ]
  },
  {
   "cell_type": "code",
   "execution_count": 23,
   "metadata": {},
   "outputs": [],
   "source": [
    "m = u.ufloat(2.3, 0.1) * 1*ur.mmol\n",
    "m2 = u.ufloat(10, 0.05) * 1*ur.mmol\n",
    "\n",
    "#print((m/V).to(ur.mol/ur.L))\n",
    "\n",
    "from uncertainties.umath import __all__\n",
    "from uncertainties.umath import *\n",
    "uexp = u.wrap(np.exp)"
   ]
  },
  {
   "cell_type": "code",
   "execution_count": null,
   "metadata": {},
   "outputs": [],
   "source": []
  }
 ],
 "metadata": {
  "kernelspec": {
   "display_name": "Python 3.10.8 64-bit",
   "language": "python",
   "name": "python3"
  },
  "language_info": {
   "codemirror_mode": {
    "name": "ipython",
    "version": 3
   },
   "file_extension": ".py",
   "mimetype": "text/x-python",
   "name": "python",
   "nbconvert_exporter": "python",
   "pygments_lexer": "ipython3",
   "version": "3.10.8"
  },
  "orig_nbformat": 4,
  "vscode": {
   "interpreter": {
    "hash": "ec8e037e8dc204d3d865c2c299d9f950a845b1569963e458e46239ef266b6b39"
   }
  }
 },
 "nbformat": 4,
 "nbformat_minor": 2
}
