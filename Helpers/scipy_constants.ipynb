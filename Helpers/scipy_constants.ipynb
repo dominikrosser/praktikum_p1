{
 "cells": [
  {
   "cell_type": "code",
   "execution_count": 6,
   "metadata": {},
   "outputs": [
    {
     "data": {
      "text/plain": [
       "(27.211386245988, 'eV', 5.3e-11)"
      ]
     },
     "execution_count": 6,
     "metadata": {},
     "output_type": "execute_result"
    }
   ],
   "source": [
    "import scipy.constants as sc\n",
    "\n",
    "dir(sc)\n",
    "\n",
    "sc.pi, sc.N_A, sc.m_p, sc.m_e\n"
   ]
  },
  {
   "cell_type": "code",
   "execution_count": 9,
   "metadata": {},
   "outputs": [
    {
     "name": "stdout",
     "output_type": "stream",
     "text": [
      "['Hartree energy', 'Hartree energy in eV', 'atomic mass unit-hartree relationship', 'electron volt-hartree relationship', 'hartree-atomic mass unit relationship', 'hartree-electron volt relationship', 'hartree-hertz relationship', 'hartree-inverse meter relationship', 'hartree-joule relationship', 'hartree-kelvin relationship', 'hartree-kilogram relationship', 'hertz-hartree relationship', 'inverse meter-hartree relationship', 'joule-hartree relationship', 'kelvin-hartree relationship', 'kilogram-hartree relationship']\n",
      "['molar gas constant', 'molar volume of ideal gas (273.15 K, 100 kPa)', 'molar volume of ideal gas (273.15 K, 101.325 kPa)']\n"
     ]
    }
   ],
   "source": [
    "# PHYSICAL CONSTANT\n",
    "print(sc.find('Hartree'))\n",
    "sc.physical_constants['Hartree energy in eV']\n",
    "\n",
    "print(sc.find('gas'))"
   ]
  },
  {
   "cell_type": "code",
   "execution_count": 14,
   "metadata": {},
   "outputs": [
    {
     "data": {
      "text/plain": [
       "1.6021766339999998e-10"
      ]
     },
     "execution_count": 14,
     "metadata": {},
     "output_type": "execute_result"
    }
   ],
   "source": [
    "# SOME UNIT SUPPORT\n",
    "sc.giga * sc.eV"
   ]
  }
 ],
 "metadata": {
  "kernelspec": {
   "display_name": "Python 3.10.8 64-bit",
   "language": "python",
   "name": "python3"
  },
  "language_info": {
   "codemirror_mode": {
    "name": "ipython",
    "version": 3
   },
   "file_extension": ".py",
   "mimetype": "text/x-python",
   "name": "python",
   "nbconvert_exporter": "python",
   "pygments_lexer": "ipython3",
   "version": "3.10.8"
  },
  "orig_nbformat": 4,
  "vscode": {
   "interpreter": {
    "hash": "ec8e037e8dc204d3d865c2c299d9f950a845b1569963e458e46239ef266b6b39"
   }
  }
 },
 "nbformat": 4,
 "nbformat_minor": 2
}
