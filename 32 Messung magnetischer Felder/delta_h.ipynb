{
 "cells": [
  {
   "cell_type": "code",
   "execution_count": 5,
   "metadata": {},
   "outputs": [
    {
     "name": "stdout",
     "output_type": "stream",
     "text": [
      "dh values:  [-0.04 -0.07 -0.07 -0.06 -0.06 -0.05]\n",
      "dh_mean = -5.833e-02 += 1.429e-02\n",
      "mu_h20 = 9.900e-01 += 2.455e-03\n"
     ]
    }
   ],
   "source": [
    "import numpy as np\n",
    "import matplotlib.pyplot as plt\n",
    "from matplotlib import cm\n",
    "\n",
    "# Import data (arrays of w and A values)\n",
    "filename_FA = os.path.join(os.getcwd(), \"I_h_deltah.csv\")\n",
    "data = np.genfromtxt(filename_FA, delimiter=',', skip_header=1, unpack=True)\n",
    "dh_values = data[4]\n",
    "\n",
    "print(\"dh values: \", dh_values)\n",
    "dh, dh_err = np.mean(dh_values), 0.035\n",
    "dh_err_mean = dh_err/np.sqrt(len(dh_values))\n",
    "print(\"dh_mean = %.3e += %.3e\" % (dh,dh_err_mean))\n",
    "\n",
    "\n",
    "# H SOLUTION FROM 2 = 3.024e+05 += 4.291e+03\n",
    "H = 3.024e+05\n",
    "H_err = 4.291e+03\n",
    "\n",
    "mu_air = 1+0.38e-6\n",
    "\n",
    "g = 9.80665\n",
    "\n",
    "mu_0 = 1.25663706212*np.power(10.,-6)\n",
    "\n",
    "# water density (assuming temperature of around 12°C) in kg/m^3\n",
    "rho = 999.8\n",
    "rho_err = 0.5\n",
    "\n",
    "mu_h20 = mu_air + (2*dh*rho*g)/(mu_0*(H**2)*(mu_air**2))\n",
    "mu_h20_error = np.sqrt(\n",
    "    (dh_err_mean**2)*(((2*rho*g)/(mu_0*H**2*mu_air**2))**2) +\n",
    "    (rho_err**2)*(((2*g*dh)/(mu_0*H**2*mu_air**2))**2) +\n",
    "    (H_err**2)*(((-2)*(2*rho*g*dh)/(mu_0*mu_air**2*H**3))**2)\n",
    ")\n",
    "\n",
    "print(\"mu_h20 = %.3e += %.3e\" % (mu_h20, mu_h20_error))\n"
   ]
  },
  {
   "cell_type": "code",
   "execution_count": null,
   "metadata": {},
   "outputs": [],
   "source": []
  }
 ],
 "metadata": {
  "kernelspec": {
   "display_name": "Python 3.10.8 64-bit",
   "language": "python",
   "name": "python3"
  },
  "language_info": {
   "codemirror_mode": {
    "name": "ipython",
    "version": 3
   },
   "file_extension": ".py",
   "mimetype": "text/x-python",
   "name": "python",
   "nbconvert_exporter": "python",
   "pygments_lexer": "ipython3",
   "version": "3.10.8"
  },
  "orig_nbformat": 4,
  "vscode": {
   "interpreter": {
    "hash": "ec8e037e8dc204d3d865c2c299d9f950a845b1569963e458e46239ef266b6b39"
   }
  }
 },
 "nbformat": 4,
 "nbformat_minor": 2
}
