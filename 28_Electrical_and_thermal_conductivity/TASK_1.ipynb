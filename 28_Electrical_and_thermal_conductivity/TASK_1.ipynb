{
 "cells": [
  {
   "cell_type": "code",
   "execution_count": null,
   "metadata": {},
   "outputs": [],
   "source": [
    "import numpy as np\n",
    "import os\n",
    "import numpy as np\n",
    "import uncertainties as u\n",
    "from uncertainties import ufloat\n",
    "from uncertainties.umath import sqrt\n",
    "from uncertainties.umath import __all__\n",
    "from uncertainties.umath import *\n",
    "import uncertainties.unumpy as unp\n",
    "import scipy.constants\n",
    "import os\n",
    "import matplotlib.pyplot as plt\n",
    "from scipy.stats import linregress\n",
    "import pandas # pip install Jinja2\n",
    "import pint # pip install pint OR conda install pint\n",
    "import warnings\n",
    "\n",
    "warnings.simplefilter(\"ignore\")\n",
    "\n",
    "units = pint.UnitRegistry(autoconvert_offset_to_baseunit = True)\n",
    "units.default_format = '~'\n",
    "units.setup_matplotlib(True)\n",
    "\n",
    "ulog = u.wrap(np.log)\n",
    "upower = u.wrap(np.power)\n",
    "umultiply = u.wrap(np.multiply)\n",
    "udivide = u.wrap(np.divide)\n",
    "umean = u.wrap(np.mean)\n",
    "\n",
    "cm = 1/2.54 # For matplotlib figure sizes"
   ]
  },
  {
   "cell_type": "code",
   "execution_count": null,
   "metadata": {},
   "outputs": [],
   "source": [
    "# Area of a Circle\n",
    "def CircleArea(radius):\n",
    "    return np.pi * (radius**2)\n",
    "uCircleArea = u.wrap(CircleArea)"
   ]
  },
  {
   "cell_type": "markdown",
   "metadata": {},
   "source": [
    "# Goal: Measure $\\varphi$"
   ]
  },
  {
   "cell_type": "markdown",
   "metadata": {},
   "source": [
    "## Given\n",
    "$l_{2} = (70.0\\pm0.2)~\\mathrm{mm}, R_{2} = (10.20\\pm0.01)~\\mathrm{m\\Omega}, D = (5.00\\pm0.02)~\\mathrm{mm}, S=(19.63\\pm0.16)~\\mathrm{mm^2}, A_{Nickel-Kupfer} = (20.40\\pm0.05)~\\mathrm{\\mu V~K^{-1}}$"
   ]
  },
  {
   "cell_type": "code",
   "execution_count": null,
   "metadata": {},
   "outputs": [],
   "source": [
    "u_l2 = u.ufloat(70.0, 0.2) * units.mm\n",
    "u_R2 = u.ufloat(10.2, 0.01) * units.milliohm\n",
    "u_D = u.ufloat(5.00, 0.02) * units.mm\n",
    "u_S = uCircleArea(u_D/2.0)\n",
    "u_A__nicker_kupfer = u.ufloat(20.4, 0.05) * units.microvolt / units.degree_Kelvin"
   ]
  },
  {
   "cell_type": "markdown",
   "metadata": {},
   "source": [
    "## Measure $t_{Celsius}$"
   ]
  },
  {
   "cell_type": "code",
   "execution_count": null,
   "metadata": {},
   "outputs": [],
   "source": [
    "# TODO MEASURE t IN CELSIUS\n",
    "u_t = u.ufloat(99.9,99.9) * units.degreeC\n",
    "u_T = u_t.to(units.degree_Kelvin)"
   ]
  },
  {
   "cell_type": "markdown",
   "metadata": {},
   "source": [
    "## For four Current values $I_{1}$ between 0.25 and 1 Ampere measure $I_{2}$"
   ]
  },
  {
   "cell_type": "code",
   "execution_count": null,
   "metadata": {},
   "outputs": [],
   "source": [
    "# TODO WHAT IS THE UNCERTAINTY OF I MEASUREMENT\n",
    "I_unc = 99.99\n",
    "\n",
    "# TODO\n",
    "I_meas_unit = units.ampere # WHAT UNIT DO WE MEASURE I IN?\n",
    "# TODO\n",
    "I1_meas = [0.25, 0.5, 0.75, 1.0] # WHAT VALUES OF I1 WERE USED?\n",
    "# TODO\n",
    "I2_meas = [99.9, 99.9, 99.9, 99.9] # WHAT CORRESPONDING VALUES OF I2 WERE MEASURED?\n",
    "\n",
    "u_I1 = np.array([u.ufloat(I, I_unc)*I_meas_unit for I in I1_meas]) # I1\n",
    "u_I2 = np.array([u.ufloat(I, I_unc)*I_meas_unit for I in I2_meas]) # I2\n",
    "\n",
    "u_I1_divby_I2 = udivide(u_I1, u_I2) # I1 / I2\n",
    "u_Mean_I1divI2 = umean(u_I1_divby_I2) # <(I1/I2)>"
   ]
  },
  {
   "cell_type": "markdown",
   "metadata": {},
   "source": [
    "## Calculate the electric conductivity $\\sigma = \\langle (\\frac{I_{1}}{I_{2}}) \\rangle \\frac{l_{2}}{S\\cdot R_{2}}$"
   ]
  },
  {
   "cell_type": "code",
   "execution_count": null,
   "metadata": {},
   "outputs": [],
   "source": [
    "def CalculateSigma(u_Mean_I1byI2, u_SurfaceArea, u_length, u_Resistance):\n",
    "    return u_Mean_I1divI2 * u_length / (u_SurfaceArea*u_Resistance)\n",
    "uCalculateSigma = u.wrap(CalculateSigma)"
   ]
  },
  {
   "cell_type": "code",
   "execution_count": null,
   "metadata": {},
   "outputs": [],
   "source": [
    "u_Sigma = uCalculateSigma(u_Mean_I1divI2, u_S, u_l2, u_R2).to_base_units().to_compact()\n",
    "u_Sigma"
   ]
  },
  {
   "cell_type": "markdown",
   "metadata": {},
   "source": [
    "### Generate a Table of ($I_{1}$, $I_{2}$, $\\frac{I_{1}}{I_{2}}$)"
   ]
  },
  {
   "cell_type": "code",
   "execution_count": 50,
   "metadata": {},
   "outputs": [
    {
     "name": "stdout",
     "output_type": "stream",
     "text": [
      "TABLE (I1, I2, I1/I2):\n",
      "\\begin{tabular}{lll}\n",
      "\\toprule\n",
      "               I1 &                I2 &     I1/I2 \\\\\n",
      "\\midrule\n",
      "(1.0+/-1.0)e+02 A & (1.0+/-1.0)e+02 A & 1.0+/-1.4 \\\\\n",
      "(1.0+/-1.0)e+02 A & (1.0+/-1.0)e+02 A & 1.0+/-1.4 \\\\\n",
      "(1.0+/-1.0)e+02 A & (1.0+/-1.0)e+02 A & 1.0+/-1.4 \\\\\n",
      "(1.0+/-1.0)e+02 A & (1.0+/-1.0)e+02 A & 1.0+/-1.4 \\\\\n",
      "\\bottomrule\n",
      "\\end{tabular}\n",
      "\n"
     ]
    }
   ],
   "source": [
    "print(\"TABLE (I1, I2, I1/I2):\")\n",
    "df_I1_I2_I1byN2 = pandas.DataFrame({'I1': u_I1, 'I2': u_I2, 'I1/I2': u_I1_divby_I2})\n",
    "df_I1_I2_I1byN2.transpose()\n",
    "print(df_I1_I2_I1byN2.to_latex(index=False))"
   ]
  },
  {
   "cell_type": "code",
   "execution_count": 46,
   "metadata": {},
   "outputs": [
    {
     "name": "stdout",
     "output_type": "stream",
     "text": [
      "Mean (I1/I2) 1.0+/-0.7\n"
     ]
    }
   ],
   "source": [
    "print('Mean (I1/I2)', u_Mean_I1divI2)"
   ]
  },
  {
   "cell_type": "code",
   "execution_count": 54,
   "metadata": {},
   "outputs": [
    {
     "name": "stdout",
     "output_type": "stream",
     "text": [
      "Sigma = (3.5+/-2.5)e+05 A²·s³/kg/m³\n",
      "\n",
      "\n",
      "\n",
      "\n",
      "Sigma = (3.5+/-2.5)e+05\\ \\frac{\\mathrm{A}^{2} \\cdot \\mathrm{s}^{3}}{\\left(\\mathrm{kg} \\cdot \\mathrm{m}^{3}\\right)}\n"
     ]
    }
   ],
   "source": [
    "print('Sigma = {:.2u~P}'.format(u_Sigma))\n",
    "print('\\n\\n\\n')\n",
    "print('Sigma = {:.2u~L}'.format(u_Sigma))"
   ]
  },
  {
   "cell_type": "markdown",
   "metadata": {},
   "source": [
    "# DONE"
   ]
  },
  {
   "cell_type": "code",
   "execution_count": 55,
   "metadata": {},
   "outputs": [
    {
     "name": "stdout",
     "output_type": "stream",
     "text": [
      "(3.7+/-1.0)e+02 K\n"
     ]
    }
   ],
   "source": [
    "# For task 3\n",
    "print(u_T)"
   ]
  }
 ],
 "metadata": {
  "kernelspec": {
   "display_name": "Python 3.10.8 64-bit",
   "language": "python",
   "name": "python3"
  },
  "language_info": {
   "codemirror_mode": {
    "name": "ipython",
    "version": 3
   },
   "file_extension": ".py",
   "mimetype": "text/x-python",
   "name": "python",
   "nbconvert_exporter": "python",
   "pygments_lexer": "ipython3",
   "version": "3.10.8"
  },
  "orig_nbformat": 4,
  "vscode": {
   "interpreter": {
    "hash": "ec8e037e8dc204d3d865c2c299d9f950a845b1569963e458e46239ef266b6b39"
   }
  }
 },
 "nbformat": 4,
 "nbformat_minor": 2
}
