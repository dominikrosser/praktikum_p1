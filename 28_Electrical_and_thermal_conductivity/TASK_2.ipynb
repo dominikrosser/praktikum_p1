{
 "cells": [
  {
   "cell_type": "code",
   "execution_count": 4,
   "metadata": {},
   "outputs": [],
   "source": [
    "import numpy as np\n",
    "import os\n",
    "import numpy as np\n",
    "import uncertainties as u\n",
    "from uncertainties import ufloat\n",
    "from uncertainties.umath import sqrt\n",
    "from uncertainties.umath import __all__\n",
    "from uncertainties.umath import *\n",
    "import uncertainties.unumpy as unp\n",
    "import scipy.constants\n",
    "import os\n",
    "import matplotlib.pyplot as plt\n",
    "from scipy.stats import linregress\n",
    "import pandas # pip install Jinja2\n",
    "import pint # pip install pint OR conda install pint\n",
    "import warnings\n",
    "\n",
    "warnings.simplefilter(\"ignore\")\n",
    "\n",
    "units = pint.UnitRegistry(autoconvert_offset_to_baseunit = True)\n",
    "units.default_format = '~'\n",
    "units.setup_matplotlib(True)\n",
    "\n",
    "ulog = u.wrap(np.log)\n",
    "upower = u.wrap(np.power)\n",
    "umultiply = u.wrap(np.multiply)\n",
    "udivide = u.wrap(np.divide)\n",
    "umean = u.wrap(np.mean)\n",
    "\n",
    "cm = 1/2.54 # For matplotlib figure sizes"
   ]
  },
  {
   "cell_type": "code",
   "execution_count": 36,
   "metadata": {},
   "outputs": [],
   "source": [
    "def extr_values(np_arr):\n",
    "    return unp.nominal_values(np_arr)\n",
    "\n",
    "def extr_sig(np_arr):\n",
    "    return unp.std_devs(np_arr)\n",
    "\n",
    "# u_x: np.array(u.ufloat) * ureq.unit{optional}\n",
    "# u_y: np.array(u.ufloat) * ureq.unit{optional}\n",
    "def graph_1(u_x, u_y,\n",
    "    xlabel='xlabel', ylabel='ylabel', legloc='upper left',\n",
    "    do_linfit=False,\n",
    "    y_axis_log=False, x_axis_log=False,\n",
    "    figsize=(12*cm, 12*cm), safeas='graph1.png'\n",
    "):\n",
    "    fig, ax = plt.subplots(1,1,figsize=figsize)\n",
    "\n",
    "    has_x_units_inside = False\n",
    "    if hasattr(u_x[0], 'units') and hasattr(u_x[0], 'magnitude'):\n",
    "        has_x_units_inside = True\n",
    "        x_unit_inside = u_x[0].units\n",
    "        u_x = np.array([x.magnitude for x in u_x])\n",
    "    \n",
    "    has_y_units_inside = False\n",
    "    if hasattr(u_y[0], 'units') and hasattr(u_y[0], 'magnitude'):\n",
    "        has_y_units_inside = True\n",
    "        y_unit_inside = u_y[0].units\n",
    "        u_y = np.array([y.magnitude for y in u_y])\n",
    "\n",
    "    \n",
    "    # Extract values and uncertainties from uncertainty arrays\n",
    "    X, Y, sig_Y = unp.nominal_values(u_x), unp.nominal_values(u_y), unp.std_devs(u_y)\n",
    "    \n",
    "    if y_axis_log:\n",
    "        ax.set_yscale(\"log\")\n",
    "    if x_axis_log:\n",
    "        ax.set_xscale(\"log\")\n",
    "    \n",
    "    if do_linfit:\n",
    "        fit_result = scipy.stats.linregress(X, Y)\n",
    "        u_Slope = u.ufloat(fit_result.slope, fit_result.stderr)\n",
    "        u_Intercept = u.ufloat(fit_result.intercept, fit_result.intercept_stderr)\n",
    "        #slope, intercept, rvalue, pvalue, sevalue, inteerr\n",
    "        print(\"slope: \", fit_result.slope)\n",
    "        print(\"slope_err:\", fit_result.stderr)\n",
    "        print(\"intercept: \", fit_result.intercept)\n",
    "        x_axis_spaced = np.linspace(np.min(X), np.max(X), 100)\n",
    "        ax.plot(x_axis_spaced, fit_result.slope*x_axis_spaced + fit_result.intercept,\n",
    "            'b--', label=r'm{}+b = ({:.1u}){} + ({:.1uP})'.format(xlabel, u_Slope, xlabel, u_Intercept))\n",
    "    \n",
    "    #ax.plot(x_axis_spaced, result.slope*x_axis_spaced + result.intercept, 'r--', label='label')\n",
    "    ax.errorbar(X, Y, yerr=sig_Y, linestyle='-', color='red', capsize=3, label='meas. tuples ({}, {}, {})'.format(xlabel, ylabel, r'$\\sigma$'))\n",
    "\n",
    "    # Pretty print units\n",
    "    units.setup_matplotlib(True)\n",
    "    if hasattr(u_x, 'units'):\n",
    "        ax.xaxis.set_units(u_x.units)\n",
    "        ax.set_xlabel(\"{} ({:~P})\".format(xlabel, u_x.units))\n",
    "    elif has_x_units_inside:\n",
    "        ax.xaxis.set_units(x_unit_inside)\n",
    "        ax.set_xlabel(\"{} ({:~P})\".format(xlabel, x_unit_inside))\n",
    "    else:\n",
    "        ax.set_xlabel(xlabel)\n",
    "    if hasattr(u_y, 'units'):\n",
    "        ax.yaxis.set_units(u_y.units)\n",
    "        ax.set_ylabel(\"{} ({:~P})\".format(ylabel, u_y.units))\n",
    "    elif has_y_units_inside:\n",
    "        ax.yaxis.set_units(y_unit_inside)\n",
    "        ax.set_ylabel(\"{} ({:~P})\".format(ylabel, y_unit_inside))\n",
    "    else:\n",
    "        ax.set_ylabel(ylabel)\n",
    "    \n",
    "    ax.legend(loc=legloc)\n",
    "    plt.tight_layout()\n",
    "    plt.savefig(safeas, dpi=500)\n",
    "    plt.show()\n",
    "\n",
    "    if do_linfit:\n",
    "        return u_Slope, u_Intercept"
   ]
  },
  {
   "cell_type": "code",
   "execution_count": 37,
   "metadata": {},
   "outputs": [],
   "source": [
    "# Area of a Circle\n",
    "def CircleArea(radius):\n",
    "    return np.pi * (radius**2)\n",
    "uCircleArea = u.wrap(CircleArea)"
   ]
  },
  {
   "cell_type": "markdown",
   "metadata": {},
   "source": [
    "## Given\n",
    "$l_{2} = (70.0\\pm0.2)~\\mathrm{mm}, R_{2} = (10.20\\pm0.01)~\\mathrm{m\\Omega}, D = (5.00\\pm0.02)~\\mathrm{mm}, S=(19.63\\pm0.16)~\\mathrm{mm^2}, A_{Nickel-Kupfer} = (20.40\\pm0.05)~\\mathrm{\\mu V~K^{-1}}$"
   ]
  },
  {
   "cell_type": "code",
   "execution_count": 38,
   "metadata": {},
   "outputs": [],
   "source": [
    "u_l2 = u.ufloat(70.0, 0.2) * units.mm\n",
    "u_R2 = u.ufloat(10.2, 0.01) * units.milliohm\n",
    "u_D = u.ufloat(5.00, 0.02) * units.mm\n",
    "u_S = uCircleArea(u_D/2.0)\n",
    "u_A__nicker_kupfer = u.ufloat(20.4, 0.05) * units.microvolt / units.degree_Kelvin"
   ]
  },
  {
   "cell_type": "markdown",
   "metadata": {},
   "source": [
    "# Measurements"
   ]
  },
  {
   "cell_type": "code",
   "execution_count": 39,
   "metadata": {},
   "outputs": [],
   "source": [
    "# TODO WHAT IS THE UNCERTAINTY OF THE EFFECTIVE HEATING CURRENT I, I2?\n",
    "I_unc = 99.99\n",
    "I_meas_unit = units.mA\n",
    "\n",
    "# EFFEKTIVE HEIZSTRÖME [1st I, 2nd I, 3rd I]\n",
    "I_meas = [150, 200, 250]\n",
    "u_I = np.array([u.ufloat(I, I_unc) * I_meas_unit for I in I_meas])\n",
    "\n",
    "# TODO WHAT IS THE UNCERTAINTY OF THE HEATING VOLTAGE\n",
    "V_unc = 99.99\n",
    "\n",
    "# TODO Time uncertainty for measurement of I2\n",
    "t_unc = 5 * units.s"
   ]
  },
  {
   "cell_type": "code",
   "execution_count": 40,
   "metadata": {},
   "outputs": [],
   "source": [
    "# Measurements [ 1st, 2nd, 3rd ]\n",
    "a_I2_meas_unit = units.mA\n",
    "a_t_meas_unit = units.min\n",
    "V_meas_unit = units.V\n",
    "\n",
    "# TODO HEIZSPANNUNGEN\n",
    "a_V_meas = [999., 888., 777.]\n",
    "au_V = np.array([u.ufloat(V, V_unc) * V_meas_unit for V in a_V_meas])\n",
    "\n",
    "a_I2_meas = [\n",
    "    np.array([99., 99., 99., 99., 99., 99., 99., 99.]),\n",
    "    np.array([99., 99., 99., 99., 99., 99., 99., 99.]),\n",
    "    np.array([99., 99., 99., 99., 99., 99., 99., 99.]),\n",
    "]\n",
    "a_t_meas = [\n",
    "    np.array([5., 10., 15., 20., 25., 30., 35., 40.]),\n",
    "    np.array([5., 10., 15., 20., 25., 30., 35., 40.]),\n",
    "    np.array([5., 10., 15., 20., 25., 30., 35., 40.]),\n",
    "]\n",
    "au_I2 = [ np.array([u.ufloat(I2, I_unc) * a_I2_meas_unit for I2 in I2_arr]) for I2_arr in a_I2_meas ]\n",
    "au_t = [ np.array([u.ufloat(t, t_unc.to(a_t_meas_unit).magnitude) * a_t_meas_unit for t in t_arr]) for t_arr in a_t_meas ]"
   ]
  },
  {
   "cell_type": "markdown",
   "metadata": {},
   "source": [
    "# Plot $I_{2}(t)$ and show at asymptote to determine $I_{2}^{EQ}$"
   ]
  },
  {
   "cell_type": "code",
   "execution_count": 45,
   "metadata": {},
   "outputs": [
    {
     "data": {
      "image/png": "[encoded data removed]",
      "text/plain": [
       "<Figure size 472.441x472.441 with 1 Axes>"
      ]
     },
     "metadata": {},
     "output_type": "display_data"
    },
    {
     "data": {
      "image/png": "[encoded data removed]",
      "text/plain": [
       "<Figure size 472.441x472.441 with 1 Axes>"
      ]
     },
     "metadata": {},
     "output_type": "display_data"
    },
    {
     "data": {
      "image/png": "[encoded data removed]",
      "text/plain": [
       "<Figure size 472.441x472.441 with 1 Axes>"
      ]
     },
     "metadata": {},
     "output_type": "display_data"
    }
   ],
   "source": [
    "for i in range(0, len(a_I2_meas)):\n",
    "    u_X = np.array([t.to_compact() for t in au_t[i]])\n",
    "    u_Y = np.array([I2.to_compact() for I2 in au_I2[i]])\n",
    "    graph_1(\n",
    "        u_X, u_Y,\n",
    "        xlabel='t',\n",
    "        ylabel=r'$I_{2}(t)$',\n",
    "        figsize=(12*cm, 12*cm),\n",
    "        safeas='graph_I2_of_t_{}.png'.format(i),\n",
    "    )"
   ]
  },
  {
   "cell_type": "code",
   "execution_count": 54,
   "metadata": {},
   "outputs": [
    {
     "data": {
      "text/plain": [
       "array([<Quantity((0.0+/-1.0)e+10, 'milliampere')>,\n",
       "       <Quantity((0.0+/-1.0)e+10, 'milliampere')>,\n",
       "       <Quantity((0.0+/-1.0)e+10, 'milliampere')>], dtype=object)"
      ]
     },
     "execution_count": 54,
     "metadata": {},
     "output_type": "execute_result"
    }
   ],
   "source": [
    "# Equilibrium I2 values\n",
    "# TODO INSERT THEM HERE\n",
    "I2_EQ_UNIT = units.mA\n",
    "a_I2_EQ_meas = np.array([ 999.99, 999.99, 999.99 ])\n",
    "au_I2_EQ = np.array([u.ufloat(I2_EQ, 9999999999.99) * I2_EQ_UNIT for I2_EQ in a_I2_EQ_meas])\n",
    "\n",
    "au_I2_EQ"
   ]
  },
  {
   "cell_type": "markdown",
   "metadata": {},
   "source": [
    "# Now calculate the values of $\\Delta T$ betw. C and D\n",
    "### Eq. 35:\n",
    "$\\Delta T = \\frac{I_{2}R_{2}}{A_{NickelCopper}}$"
   ]
  },
  {
   "cell_type": "code",
   "execution_count": 66,
   "metadata": {},
   "outputs": [],
   "source": [
    "def CalcDeltaT_BetwCandD(u_I2_EQ):\n",
    "    return (u_I2_EQ*u_R2)/u_A__nicker_kupfer\n",
    "uCalcDeltaT_BetwCandD = u.wrap(CalcDeltaT_BetwCandD)"
   ]
  },
  {
   "cell_type": "code",
   "execution_count": 67,
   "metadata": {},
   "outputs": [
    {
     "data": {
      "text/plain": [
       "array([<Quantity((0+/-5)e+09, 'kelvin * milliampere * milliohm / microvolt')>,\n",
       "       <Quantity((0+/-5)e+09, 'kelvin * milliampere * milliohm / microvolt')>,\n",
       "       <Quantity((0+/-5)e+09, 'kelvin * milliampere * milliohm / microvolt')>],\n",
       "      dtype=object)"
      ]
     },
     "execution_count": 67,
     "metadata": {},
     "output_type": "execute_result"
    }
   ],
   "source": [
    "au_DeltaT = np.array([uCalcDeltaT_BetwCandD(I2_EQ) for I2_EQ in au_I2_EQ])\n",
    "\n",
    "au_DeltaT"
   ]
  },
  {
   "cell_type": "markdown",
   "metadata": {},
   "source": [
    "# Now calculate the values $\\lambda_{W}$\n",
    "### With Eq. 36:\n",
    "$\\lambda_{W} = \\frac{ IVA_{nc}l_{2} }{ SI_{2}R_{2} }$"
   ]
  },
  {
   "cell_type": "code",
   "execution_count": 68,
   "metadata": {},
   "outputs": [],
   "source": [
    "def CalcLambdaW(I, V, I2):\n",
    "    return (I*V*u_A__nicker_kupfer*u_l2)/(u_S*I2*u_R2)\n",
    "uCalcLambdaW = u.wrap(CalcLambdaW)"
   ]
  },
  {
   "cell_type": "code",
   "execution_count": 69,
   "metadata": {},
   "outputs": [
    {
     "data": {
      "text/plain": [
       "array([<Quantity((0.0+/-1.1)e+10, 'kilogram * meter / kelvin / second ** 3')>,\n",
       "       <Quantity((0.0+/-1.3)e+10, 'kilogram * meter / kelvin / second ** 3')>,\n",
       "       <Quantity((0.0+/-1.4)e+10, 'kilogram * meter / kelvin / second ** 3')>],\n",
       "      dtype=object)"
      ]
     },
     "execution_count": 69,
     "metadata": {},
     "output_type": "execute_result"
    }
   ],
   "source": [
    "au_LambdaW = np.array([uCalcLambdaW(u_I[i], au_V[i], au_I2_EQ[i]).to_base_units().to_compact() for i in range(0, len(u_I))])\n",
    "\n",
    "au_LambdaW"
   ]
  },
  {
   "cell_type": "code",
   "execution_count": 70,
   "metadata": {},
   "outputs": [
    {
     "name": "stdout",
     "output_type": "stream",
     "text": [
      "(0.0+/-7.2)e+09 kg·m/K/s³\n",
      "(0.0+/-7.2)e+09\\ \\frac{\\mathrm{kg} \\cdot \\mathrm{m}}{\\left(\\mathrm{K} \\cdot \\mathrm{s}^{3}\\right)}\n"
     ]
    }
   ],
   "source": [
    "u_Mean_LambdaW = umean(au_LambdaW)"
   ]
  },
  {
   "cell_type": "markdown",
   "metadata": {},
   "source": [
    "# Make a beautiful Summary of all the Data of task two"
   ]
  },
  {
   "cell_type": "code",
   "execution_count": 71,
   "metadata": {},
   "outputs": [
    {
     "name": "stdout",
     "output_type": "stream",
     "text": [
      "TABLE (I, V, I2, DeltaT, LambdaW):\n"
     ]
    },
    {
     "data": {
      "text/html": [
       "<div>\n",
       "<style scoped>\n",
       "    .dataframe tbody tr th:only-of-type {\n",
       "        vertical-align: middle;\n",
       "    }\n",
       "\n",
       "    .dataframe tbody tr th {\n",
       "        vertical-align: top;\n",
       "    }\n",
       "\n",
       "    .dataframe thead th {\n",
       "        text-align: right;\n",
       "    }\n",
       "</style>\n",
       "<table border=\"1\" class=\"dataframe\">\n",
       "  <thead>\n",
       "    <tr style=\"text-align: right;\">\n",
       "      <th></th>\n",
       "      <th>I</th>\n",
       "      <th>V</th>\n",
       "      <th>I2</th>\n",
       "      <th>DeltaT</th>\n",
       "      <th>LambdaW</th>\n",
       "    </tr>\n",
       "  </thead>\n",
       "  <tbody>\n",
       "    <tr>\n",
       "      <th>0</th>\n",
       "      <td>(1.5+/-1.0)e+02 mA</td>\n",
       "      <td>(1.00+/-0.10)e+03 V</td>\n",
       "      <td>(0.0+/-1.0)e+10 mA</td>\n",
       "      <td>(0+/-5)e+09 K * mA * mΩ / µV</td>\n",
       "      <td>(0.0+/-1.1)e+10 kg * m / K / s ** 3</td>\n",
       "    </tr>\n",
       "    <tr>\n",
       "      <th>1</th>\n",
       "      <td>(2.0+/-1.0)e+02 mA</td>\n",
       "      <td>(8.9+/-1.0)e+02 V</td>\n",
       "      <td>(0.0+/-1.0)e+10 mA</td>\n",
       "      <td>(0+/-5)e+09 K * mA * mΩ / µV</td>\n",
       "      <td>(0.0+/-1.3)e+10 kg * m / K / s ** 3</td>\n",
       "    </tr>\n",
       "    <tr>\n",
       "      <th>2</th>\n",
       "      <td>(2.5+/-1.0)e+02 mA</td>\n",
       "      <td>(7.8+/-1.0)e+02 V</td>\n",
       "      <td>(0.0+/-1.0)e+10 mA</td>\n",
       "      <td>(0+/-5)e+09 K * mA * mΩ / µV</td>\n",
       "      <td>(0.0+/-1.4)e+10 kg * m / K / s ** 3</td>\n",
       "    </tr>\n",
       "  </tbody>\n",
       "</table>\n",
       "</div>"
      ],
      "text/plain": [
       "                    I                    V                  I2  \\\n",
       "0  (1.5+/-1.0)e+02 mA  (1.00+/-0.10)e+03 V  (0.0+/-1.0)e+10 mA   \n",
       "1  (2.0+/-1.0)e+02 mA    (8.9+/-1.0)e+02 V  (0.0+/-1.0)e+10 mA   \n",
       "2  (2.5+/-1.0)e+02 mA    (7.8+/-1.0)e+02 V  (0.0+/-1.0)e+10 mA   \n",
       "\n",
       "                         DeltaT                              LambdaW  \n",
       "0  (0+/-5)e+09 K * mA * mΩ / µV  (0.0+/-1.1)e+10 kg * m / K / s ** 3  \n",
       "1  (0+/-5)e+09 K * mA * mΩ / µV  (0.0+/-1.3)e+10 kg * m / K / s ** 3  \n",
       "2  (0+/-5)e+09 K * mA * mΩ / µV  (0.0+/-1.4)e+10 kg * m / K / s ** 3  "
      ]
     },
     "metadata": {},
     "output_type": "display_data"
    },
    {
     "name": "stdout",
     "output_type": "stream",
     "text": [
      "\n",
      "\n",
      "\n",
      "\n",
      "\\begin{tabular}{lllll}\n",
      "\\toprule\n",
      "                 I &                   V &                 I2 &                       DeltaT &                             LambdaW \\\\\n",
      "\\midrule\n",
      "(1.5+/-1.0)e+02 mA & (1.00+/-0.10)e+03 V & (0.0+/-1.0)e+10 mA & (0+/-5)e+09 K * mA * mΩ / µV & (0.0+/-1.1)e+10 kg * m / K / s ** 3 \\\\\n",
      "(2.0+/-1.0)e+02 mA &   (8.9+/-1.0)e+02 V & (0.0+/-1.0)e+10 mA & (0+/-5)e+09 K * mA * mΩ / µV & (0.0+/-1.3)e+10 kg * m / K / s ** 3 \\\\\n",
      "(2.5+/-1.0)e+02 mA &   (7.8+/-1.0)e+02 V & (0.0+/-1.0)e+10 mA & (0+/-5)e+09 K * mA * mΩ / µV & (0.0+/-1.4)e+10 kg * m / K / s ** 3 \\\\\n",
      "\\bottomrule\n",
      "\\end{tabular}\n",
      "\n",
      "\n",
      "\n",
      "\n",
      "\n"
     ]
    }
   ],
   "source": [
    "print(\"TABLE (I, V, I2, DeltaT, LambdaW):\")\n",
    "df_I_V_I2_dT_LambdaW = pandas.DataFrame({\n",
    "    'I': u_I,\n",
    "    'V': au_V,\n",
    "    'I2': au_I2_EQ,\n",
    "    'DeltaT': au_DeltaT,\n",
    "    'LambdaW': au_LambdaW,\n",
    "    })\n",
    "df_I_V_I2_dT_LambdaW.transpose()\n",
    "display(df_I_V_I2_dT_LambdaW)\n",
    "print('\\n\\n\\n')\n",
    "print(df_I_V_I2_dT_LambdaW.to_latex(index=False))\n",
    "print('\\n\\n\\n')"
   ]
  },
  {
   "cell_type": "code",
   "execution_count": 73,
   "metadata": {},
   "outputs": [
    {
     "name": "stdout",
     "output_type": "stream",
     "text": [
      "<LambdaW> = (0.0+/-7.2)e+09 kg·m/K/s³\n",
      "<LambdaW> = (0.0+/-7.2)e+09\\ \\frac{\\mathrm{kg} \\cdot \\mathrm{m}}{\\left(\\mathrm{K} \\cdot \\mathrm{s}^{3}\\right)}\n"
     ]
    }
   ],
   "source": [
    "print('<LambdaW> = {:.2u~P}'.format(u_Mean_LambdaW))\n",
    "print('<LambdaW> = {:.2u~L}'.format(u_Mean_LambdaW))"
   ]
  },
  {
   "cell_type": "markdown",
   "metadata": {},
   "source": [
    "# DONE"
   ]
  }
 ],
 "metadata": {
  "kernelspec": {
   "display_name": "Python 3.10.8 64-bit",
   "language": "python",
   "name": "python3"
  },
  "language_info": {
   "codemirror_mode": {
    "name": "ipython",
    "version": 3
   },
   "file_extension": ".py",
   "mimetype": "text/x-python",
   "name": "python",
   "nbconvert_exporter": "python",
   "pygments_lexer": "ipython3",
   "version": "3.10.8"
  },
  "orig_nbformat": 4,
  "vscode": {
   "interpreter": {
    "hash": "ec8e037e8dc204d3d865c2c299d9f950a845b1569963e458e46239ef266b6b39"
   }
  }
 },
 "nbformat": 4,
 "nbformat_minor": 2
}
