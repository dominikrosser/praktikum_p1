{
 "cells": [
  {
   "cell_type": "code",
   "execution_count": 1,
   "metadata": {},
   "outputs": [],
   "source": [
    "import numpy as np\n",
    "import os\n",
    "import numpy as np\n",
    "import uncertainties as u\n",
    "from uncertainties import ufloat\n",
    "from uncertainties.umath import sqrt\n",
    "from uncertainties.umath import __all__\n",
    "from uncertainties.umath import *\n",
    "import uncertainties.unumpy as unp\n",
    "import scipy.constants\n",
    "import os\n",
    "import matplotlib.pyplot as plt\n",
    "from scipy.stats import linregress\n",
    "import pandas # pip install Jinja2\n",
    "import pint # pip install pint OR conda install pint\n",
    "import warnings\n",
    "\n",
    "warnings.simplefilter(\"ignore\")\n",
    "\n",
    "units = pint.UnitRegistry(autoconvert_offset_to_baseunit = True)\n",
    "units.default_format = '~'\n",
    "units.setup_matplotlib(True)\n",
    "\n",
    "ulog = u.wrap(np.log)\n",
    "upower = u.wrap(np.power)\n",
    "umultiply = u.wrap(np.multiply)\n",
    "udivide = u.wrap(np.divide)\n",
    "umean = u.wrap(np.mean)\n",
    "\n",
    "cm = 1/2.54 # For matplotlib figure sizes"
   ]
  },
  {
   "cell_type": "markdown",
   "metadata": {},
   "source": [
    "# Get T the temperature from Task 1 in Kelvin"
   ]
  },
  {
   "cell_type": "code",
   "execution_count": 2,
   "metadata": {},
   "outputs": [],
   "source": [
    "# TODO insert from Task 1 bottom\n",
    "u_T = u.ufloat(999.99, 555.99) * units.K"
   ]
  },
  {
   "cell_type": "markdown",
   "metadata": {},
   "source": [
    "# Get $<\\lambda_{W}>$ from Task 2"
   ]
  },
  {
   "cell_type": "code",
   "execution_count": 12,
   "metadata": {},
   "outputs": [],
   "source": [
    "u_LambdaW = u.ufloat(9999,999) * 1e+09 * units.kg * units.m / units.K / (units.s**3)"
   ]
  },
  {
   "cell_type": "markdown",
   "metadata": {},
   "source": [
    "# Get $\\sigma$ from Task 1"
   ]
  },
  {
   "cell_type": "code",
   "execution_count": 13,
   "metadata": {},
   "outputs": [],
   "source": [
    "u_Sigma = u.ufloat(999,999) * 1e+09 * units.ampere**2 * units.s**3 / units.kg / units.m**3  # A²·s³/kg/m³"
   ]
  },
  {
   "cell_type": "markdown",
   "metadata": {},
   "source": [
    "# Calculate L"
   ]
  },
  {
   "cell_type": "code",
   "execution_count": 14,
   "metadata": {},
   "outputs": [],
   "source": [
    "def CalcL(lambdaW,sigma,T):\n",
    "    return lambdaW/(sigma*T)\n",
    "uCalcL = u.wrap(CalcL)"
   ]
  },
  {
   "cell_type": "code",
   "execution_count": 15,
   "metadata": {},
   "outputs": [
    {
     "name": "stdout",
     "output_type": "stream",
     "text": [
      "L = 0.010+/-0.012 kg²·m⁴/A²/K²/s⁶\n",
      "L = 0.010+/-0.012\\ \\frac{\\mathrm{kg}^{2} \\cdot \\mathrm{m}^{4}}{\\left(\\mathrm{A}^{2} \\cdot \\mathrm{K}^{2} \\cdot \\mathrm{s}^{6}\\right)}\n"
     ]
    }
   ],
   "source": [
    "u_L = uCalcL(u_LambdaW, u_Sigma, u_T)\n",
    "\n",
    "print('L = {:.2u~P}'.format(u_L))\n",
    "print('L = {:.2u~L}'.format(u_L))"
   ]
  },
  {
   "cell_type": "code",
   "execution_count": 18,
   "metadata": {},
   "outputs": [
    {
     "name": "stdout",
     "output_type": "stream",
     "text": [
      "L REFERENCE = 2.4×10⁻⁸ J²/A²/K²/s²\n",
      "L REFERENCE = 2.4\\times 10^{-8}\\ \\frac{\\mathrm{J}^{2}}{\\left(\\mathrm{A}^{2} \\cdot \\mathrm{K}^{2} \\cdot \\mathrm{s}^{2}\\right)}\n"
     ]
    }
   ],
   "source": [
    "u_L_REFERENCE_VALUE_SOMMERFELD_29_MANUAL = 2.4429e-08 * units.J**2 / units.A**2 / units.s**2 / units.K**2\n",
    "\n",
    "print('L REFERENCE = {:.2~P}'.format(u_L_REFERENCE_VALUE_SOMMERFELD_29_MANUAL))\n",
    "print('L REFERENCE = {:.2~L}'.format(u_L_REFERENCE_VALUE_SOMMERFELD_29_MANUAL))"
   ]
  },
  {
   "cell_type": "markdown",
   "metadata": {},
   "source": [
    "# COMPARE; THEN DONE!!!"
   ]
  }
 ],
 "metadata": {
  "kernelspec": {
   "display_name": "Python 3.10.8 64-bit",
   "language": "python",
   "name": "python3"
  },
  "language_info": {
   "codemirror_mode": {
    "name": "ipython",
    "version": 3
   },
   "file_extension": ".py",
   "mimetype": "text/x-python",
   "name": "python",
   "nbconvert_exporter": "python",
   "pygments_lexer": "ipython3",
   "version": "3.10.8"
  },
  "orig_nbformat": 4,
  "vscode": {
   "interpreter": {
    "hash": "ec8e037e8dc204d3d865c2c299d9f950a845b1569963e458e46239ef266b6b39"
   }
  }
 },
 "nbformat": 4,
 "nbformat_minor": 2
}
