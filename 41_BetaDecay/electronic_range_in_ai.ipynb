{
  "cells": [
    {
      "cell_type": "markdown",
      "metadata": {
        "id": "4QVxyTMjMgk1"
      },
      "source": [
        "Calculating the range of Electrons in Al\n",
        "Source: \n",
        "\n",
        "https://doi.org/10.1016/0029-554X(63)90196-4\n",
        "\n",
        "\"Eine einfache reichweite-energie-beziehung für elektronen im energiebereich von 3 keV bis 3 MeV\"\n",
        "K-H. Weber, Nucl. Instr. and Methods, vol 25, 1964, Pages 261-264"
      ]
    },
    {
      "cell_type": "code",
      "execution_count": 6,
      "metadata": {
        "id": "fcSY3aj5aG3N"
      },
      "outputs": [],
      "source": [
        "def Range(A,B,C,E):\n",
        "  return A*E*(1-B/(1+C*E))"
      ]
    },
    {
      "cell_type": "code",
      "execution_count": 9,
      "metadata": {
        "id": "lVjzUBQkCKcz"
      },
      "outputs": [],
      "source": [
        "a=1.479*0.001\n",
        "B=0.9852\n",
        "C=3.73\n",
        "A=1/a"
      ]
    },
    {
      "cell_type": "code",
      "execution_count": 17,
      "metadata": {
        "id": "mrAH66B3BhAL"
      },
      "outputs": [],
      "source": [
        "import numpy as np\n",
        "energie = np.linspace(0.001,3,100)\n"
      ]
    },
    {
      "cell_type": "code",
      "execution_count": 33,
      "metadata": {
        "colab": {
          "base_uri": "https://localhost:8080/",
          "height": 283
        },
        "id": "RCwwGTCSBo5k",
        "outputId": "09d974d3-5a43-4ab3-9c23-bead887629e5"
      },
      "outputs": [
        {
          "data": {
            "image/png": "[encoded data removed]",
            "text/plain": [
              "<Figure size 432x288 with 1 Axes>"
            ]
          },
          "metadata": {
            "needs_background": "light"
          },
          "output_type": "display_data"
        }
      ],
      "source": [
        "import matplotlib.pyplot as plt\n",
        "plt.loglog(Range(A,B,C,energie),energie)\n",
        "plt.grid(True, which=\"both\", ls=\"-\")\n",
        "plt.ylabel(\"Electron Energy (MeV)\")\n",
        "plt.xlabel(\"Range in Al (mg*cm^(-2))\")\n",
        "plt.show()"
      ]
    },
    {
      "cell_type": "code",
      "execution_count": 25,
      "metadata": {
        "colab": {
          "base_uri": "https://localhost:8080/"
        },
        "id": "Ug19ToK8CgdK",
        "outputId": "66d7203c-c796-4ab3-fa58-17c92571c3a6"
      },
      "outputs": [
        {
          "data": {
            "text/plain": [
              "19.09717349028669"
            ]
          },
          "execution_count": 25,
          "metadata": {},
          "output_type": "execute_result"
        }
      ],
      "source": [
        "Range(A,B,C,0.1)"
      ]
    },
    {
      "cell_type": "code",
      "execution_count": null,
      "metadata": {
        "id": "BfLtDlZTB89r"
      },
      "outputs": [],
      "source": []
    }
  ],
  "metadata": {
    "colab": {
      "collapsed_sections": [],
      "provenance": []
    },
    "kernelspec": {
      "display_name": "Python 3.9.7 ('base')",
      "language": "python",
      "name": "python3"
    },
    "language_info": {
      "name": "python",
      "version": "3.9.7"
    },
    "vscode": {
      "interpreter": {
        "hash": "fff16d8d1fda96371b9403ae217ea25778b107d9bb1b70f389b9fd6ea565b344"
      }
    }
  },
  "nbformat": 4,
  "nbformat_minor": 0
}
