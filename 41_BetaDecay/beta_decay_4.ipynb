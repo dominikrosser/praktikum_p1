{
 "cells": [
  {
   "cell_type": "code",
   "execution_count": 21,
   "metadata": {},
   "outputs": [],
   "source": [
    "import numpy as np\n",
    "import os\n",
    "import numpy as np\n",
    "import uncertainties as u\n",
    "from uncertainties import ufloat\n",
    "from uncertainties.umath import sqrt\n",
    "from uncertainties.umath import __all__\n",
    "from uncertainties.umath import *\n",
    "import uncertainties.unumpy as unp\n",
    "import scipy.constants\n",
    "import os\n",
    "import matplotlib.pyplot as plt\n",
    "from scipy.stats import linregress\n",
    "import pandas # pip install Jinja2\n",
    "import pint # pip install pint OR conda install pint\n",
    "units = pint.UnitRegistry()\n",
    "units.default_format = '~'\n",
    "import warnings\n",
    "warnings.simplefilter(\"ignore\")\n",
    "ulog = u.wrap(np.log)"
   ]
  },
  {
   "cell_type": "code",
   "execution_count": 20,
   "metadata": {},
   "outputs": [
    {
     "ename": "TypeError",
     "evalue": "loop of ufunc does not support argument 0 of type AffineScalarFunc which has no callable log method",
     "output_type": "error",
     "traceback": [
      "\u001b[0;31m---------------------------------------------------------------------------\u001b[0m",
      "\u001b[0;31mAttributeError\u001b[0m                            Traceback (most recent call last)",
      "\u001b[0;31mAttributeError\u001b[0m: 'AffineScalarFunc' object has no attribute 'log'",
      "\nThe above exception was the direct cause of the following exception:\n",
      "\u001b[0;31mTypeError\u001b[0m                                 Traceback (most recent call last)",
      "\u001b[0;32m/var/folders/9g/yfpxs45x1pv4blxh09v3hq900000gn/T/ipykernel_81232/2132339594.py\u001b[0m in \u001b[0;36m<module>\u001b[0;34m\u001b[0m\n\u001b[1;32m     11\u001b[0m \u001b[0mu_Ne\u001b[0m \u001b[0;34m=\u001b[0m \u001b[0mu_N\u001b[0m\u001b[0;34m-\u001b[0m\u001b[0mN_bg\u001b[0m\u001b[0;34m\u001b[0m\u001b[0;34m\u001b[0m\u001b[0m\n\u001b[1;32m     12\u001b[0m \u001b[0;31m#ln\u001b[0m\u001b[0;34m\u001b[0m\u001b[0;34m\u001b[0m\u001b[0m\n\u001b[0;32m---> 13\u001b[0;31m \u001b[0my_wert\u001b[0m\u001b[0;34m=\u001b[0m\u001b[0mulog\u001b[0m\u001b[0;34m(\u001b[0m\u001b[0mu_N\u001b[0m\u001b[0;34m/\u001b[0m\u001b[0mu_t\u001b[0m\u001b[0;34m)\u001b[0m\u001b[0;34m\u001b[0m\u001b[0;34m\u001b[0m\u001b[0m\n\u001b[0m\u001b[1;32m     14\u001b[0m \u001b[0;31m#Umwandlung in cm\u001b[0m\u001b[0;34m\u001b[0m\u001b[0;34m\u001b[0m\u001b[0m\n\u001b[1;32m     15\u001b[0m \u001b[0mu_x_cm\u001b[0m \u001b[0;34m=\u001b[0m \u001b[0mu_x\u001b[0m\u001b[0;34m/\u001b[0m\u001b[0;36m10\u001b[0m\u001b[0;34m\u001b[0m\u001b[0;34m\u001b[0m\u001b[0m\n",
      "\u001b[0;32m~/opt/anaconda3/lib/python3.9/site-packages/uncertainties/core.py\u001b[0m in \u001b[0;36mf_with_affine_output\u001b[0;34m(*args, **kwargs)\u001b[0m\n\u001b[1;32m    669\u001b[0m         \u001b[0;31m# uncertainty is provided:\u001b[0m\u001b[0;34m\u001b[0m\u001b[0;34m\u001b[0m\u001b[0m\n\u001b[1;32m    670\u001b[0m         \u001b[0;32mif\u001b[0m \u001b[0;34m(\u001b[0m\u001b[0;32mnot\u001b[0m \u001b[0mpos_w_uncert\u001b[0m\u001b[0;34m)\u001b[0m \u001b[0;32mand\u001b[0m \u001b[0;34m(\u001b[0m\u001b[0;32mnot\u001b[0m \u001b[0mnames_w_uncert\u001b[0m\u001b[0;34m)\u001b[0m\u001b[0;34m:\u001b[0m\u001b[0;34m\u001b[0m\u001b[0;34m\u001b[0m\u001b[0m\n\u001b[0;32m--> 671\u001b[0;31m             \u001b[0;32mreturn\u001b[0m \u001b[0mf\u001b[0m\u001b[0;34m(\u001b[0m\u001b[0;34m*\u001b[0m\u001b[0margs\u001b[0m\u001b[0;34m,\u001b[0m \u001b[0;34m**\u001b[0m\u001b[0mkwargs\u001b[0m\u001b[0;34m)\u001b[0m\u001b[0;34m\u001b[0m\u001b[0;34m\u001b[0m\u001b[0m\n\u001b[0m\u001b[1;32m    672\u001b[0m \u001b[0;34m\u001b[0m\u001b[0m\n\u001b[1;32m    673\u001b[0m         \u001b[0;31m### Nominal values of the (scalar) arguments:\u001b[0m\u001b[0;34m\u001b[0m\u001b[0;34m\u001b[0m\u001b[0m\n",
      "\u001b[0;31mTypeError\u001b[0m: loop of ufunc does not support argument 0 of type AffineScalarFunc which has no callable log method"
     ]
    }
   ],
   "source": [
    "# rho(Al)\n",
    "rho=u.UFloat(2.69,0.005) #g/cm^3\n",
    "N_bg=u.UFloat(73,1/np.sqrt(73)) #anzahl in 120 sekunden\n",
    "# Import meas 3\n",
    "X_dicke_meas, t_seconds_meas, N_anzahl_meas = np.genfromtxt(os.path.join(os.getcwd(), \"meas_3.csv\"), delimiter=',', skip_header=1, unpack=True)\n",
    "\n",
    "u_x = np.array([u.ufloat(X_val, 5.0) for X_val in X_dicke_meas])\n",
    "u_t = np.array([u.ufloat(t_val, 2.0/1000) for t_val in t_seconds_meas])\n",
    "u_N = np.array([u.ufloat(N_val, np.sqrt(N_val)) for N_val in N_anzahl_meas])\n",
    "#Berechnung N efff\n",
    "u_Ne = u_N-N_bg\n",
    "#ln\n",
    "y_wert=ulog(u_N/u_t)\n",
    "#Umwandlung in cm\n",
    "u_x_cm = u_x/10\n",
    "#rho*x\n",
    "rho_x = rho * u_x_cm \n",
    "\n",
    "\n",
    "def graph_N(X, N, sig_N):\n",
    "    X, Y = X[2:], N[2:]\n",
    "    result = scipy.stats.linregress(X, Y)\n",
    "    #slope, intercept, rvalue, pvalue, sevalue, inteerr\n",
    "    print(\"slope: \", result.slope)\n",
    "    print(\"slope_err:\", result.stderr)\n",
    "    print(\"intercept: \", result.intercept)\n",
    "    x_axis_spaced = np.linspace(np.min(V), np.max(V), 10)\n",
    "    fig, ax = plt.subplots(1,1,figsize=(12*cm, 12*cm))\n",
    "    #ax.plot(x,y,linestyle='-', color='red')\n",
    "    ax.plot(x_axis_spaced, result.slope*x_axis_spaced + result.intercept, 'r--', label='label')\n",
    "    ax.errorbar(V, N, yerr=sig_N, linestyle='-', color='red', capsize=3, label='errbar')\n",
    "    ax.set_xlabel('V')\n",
    "    ax.set_ylabel('N(V)')\n",
    "    ax.legend(loc='upper left')\n",
    "    plt.tight_layout()\n",
    "    plt.savefig('N_of_V', dpi=500)\n",
    "    plt.show()\n",
    "    return u.ufloat(result.slope, result.stderr), u.ufloat(result.intercept, result.intercept_stderr) # (slope+=unc), (intercept+=unc)\n",
    "\n",
    "graph_N(u_x_cm,y_wert , 2)"
   ]
  }
 ],
 "metadata": {
  "kernelspec": {
   "display_name": "Python 3.9.7 ('base')",
   "language": "python",
   "name": "python3"
  },
  "language_info": {
   "codemirror_mode": {
    "name": "ipython",
    "version": 3
   },
   "file_extension": ".py",
   "mimetype": "text/x-python",
   "name": "python",
   "nbconvert_exporter": "python",
   "pygments_lexer": "ipython3",
   "version": "3.9.7"
  },
  "orig_nbformat": 4,
  "vscode": {
   "interpreter": {
    "hash": "fff16d8d1fda96371b9403ae217ea25778b107d9bb1b70f389b9fd6ea565b344"
   }
  }
 },
 "nbformat": 4,
 "nbformat_minor": 2
}
