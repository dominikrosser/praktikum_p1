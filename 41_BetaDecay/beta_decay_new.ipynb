{
 "cells": [
  {
   "cell_type": "code",
   "execution_count": 1,
   "metadata": {},
   "outputs": [],
   "source": [
    "import numpy as np\n",
    "import os\n",
    "import numpy as np\n",
    "import uncertainties as u\n",
    "from uncertainties import ufloat\n",
    "from uncertainties.umath import sqrt\n",
    "from uncertainties.umath import __all__\n",
    "from uncertainties.umath import *\n",
    "import uncertainties.unumpy as unp\n",
    "import scipy.constants\n",
    "import os\n",
    "import matplotlib.pyplot as plt\n",
    "from scipy.stats import linregress\n",
    "import pandas # pip install Jinja2\n",
    "import pint # pip install pint OR conda install pint\n",
    "units = pint.UnitRegistry()\n",
    "units.default_format = '~'\n",
    "import warnings\n",
    "warnings.simplefilter(\"ignore\")\n",
    "cm = 1/2.54\n",
    "\n",
    "CIRCLE_DEG = 360.0\n",
    "CIRCLE_RAD = 2*scipy.constants.pi\n",
    "HALF_CIRCLE_RAD = scipy.constants.pi\n",
    "DEG_PER_RAD = CIRCLE_DEG / CIRCLE_RAD\n",
    "\n",
    "def r2d(x):\n",
    "    return x*DEG_PER_RAD\n",
    "\n",
    "def extr_values(np_arr):\n",
    "    return unp.nominal_values(np_arr)\n",
    "\n",
    "def extr_sig(np_arr):\n",
    "    return unp.std_devs(np_arr)\n",
    "\n",
    "def errorbar_plot_with_linregress(X, Y, SIG_Y, errbarlabel='errbarlabel', xlabel='xlabel', ylabel='ylabel', errbarcolor='blue', linfitlabel='linfitlabel', nolinregress=False, saveas='tmp.png'):\n",
    "    result = scipy.stats.linregress(X, Y)\n",
    "    #slope, intercept, rvalue, pvalue, sevalue, inteerr\n",
    "    print(\"slope: \", result.slope)\n",
    "    print(\"slope_err:\", result.stderr)\n",
    "    print(\"intercept: \", result.intercept)\n",
    "    x_axis_spaced = np.linspace(np.min(X), np.max(X), 10)\n",
    "    fig, ax = plt.subplots(1,1,figsize=(8*cm, 8*cm))\n",
    "    #ax.plot(x,y,linestyle='-', color='red')\n",
    "    if not nolinregress:\n",
    "        ax.plot(x_axis_spaced, result.slope*x_axis_spaced + result.intercept, 'r--', label=linfitlabel)\n",
    "    ax.errorbar(X, Y, yerr=SIG_Y, linestyle='-', color=errbarcolor, capsize=3, label=errbarlabel)\n",
    "    ax.set_xlabel(xlabel)\n",
    "    ax.set_ylabel(ylabel)\n",
    "    #ax.set_xlim([-1,1])\n",
    "    #ax.set_ylim([-4,4])\n",
    "    ax.legend(loc='upper left')\n",
    "    plt.tight_layout()\n",
    "    plt.savefig(saveas, dpi=500)\n",
    "    plt.show()\n",
    "    if not nolinregress:\n",
    "        return u.ufloat(result.slope, result.stderr), u.ufloat(result.intercept, result.intercept_stderr) # (slope+=unc), (intercept+=unc)"
   ]
  },
  {
   "cell_type": "code",
   "execution_count": 2,
   "metadata": {},
   "outputs": [
    {
     "name": "stdout",
     "output_type": "stream",
     "text": [
      "slope:  0.5591428571428572\n",
      "slope_err: 0.18855605997978966\n",
      "intercept:  6815.142857142857\n"
     ]
    },
    {
     "data": {
      "image/png": "[encoded data removed]",
      "text/plain": [
       "<Figure size 472.441x472.441 with 1 Axes>"
      ]
     },
     "metadata": {},
     "output_type": "display_data"
    },
    {
     "data": {
      "text/plain": [
       "(0.5591428571428572+/-0.18855605997978966,\n",
       " 6815.142857142857+/-145.03707947200505)"
      ]
     },
     "execution_count": 2,
     "metadata": {},
     "output_type": "execute_result"
    }
   ],
   "source": [
    "# Import meas 1\n",
    "V_volt_meas, t_seconds_meas, N_of_V_meas = np.genfromtxt(os.path.join(os.getcwd(), \"meas_1.csv\"), delimiter=',', skip_header=1, unpack=True)\n",
    "\n",
    "u_V = np.array([u.ufloat(V_val, 5.0) for V_val in V_volt_meas])\n",
    "u_t = np.array([u.ufloat(t_val, 2.0/1000) for t_val in t_seconds_meas])\n",
    "u_N = np.array([u.ufloat(N_val, np.sqrt(N_val)) for N_val in N_of_V_meas])\n",
    "\n",
    "def graph_N(V, N, sig_N):\n",
    "    X, Y = V[2:], N[2:]\n",
    "    result = scipy.stats.linregress(X, Y)\n",
    "    #slope, intercept, rvalue, pvalue, sevalue, inteerr\n",
    "    print(\"slope: \", result.slope)\n",
    "    print(\"slope_err:\", result.stderr)\n",
    "    print(\"intercept: \", result.intercept)\n",
    "    x_axis_spaced = np.linspace(np.min(V), np.max(V), 10)\n",
    "    fig, ax = plt.subplots(1,1,figsize=(12*cm, 12*cm))\n",
    "    #ax.plot(x,y,linestyle='-', color='red')\n",
    "    ax.plot(x_axis_spaced, result.slope*x_axis_spaced + result.intercept, 'r--', label='label')\n",
    "    ax.errorbar(V, N, yerr=sig_N, linestyle='-', color='red', capsize=3, label='errbar')\n",
    "    ax.set_xlabel('V')\n",
    "    ax.set_ylabel('N(V)')\n",
    "    ax.legend(loc='upper left')\n",
    "    plt.tight_layout()\n",
    "    plt.savefig('N_of_V', dpi=500)\n",
    "    plt.show()\n",
    "    return u.ufloat(result.slope, result.stderr), u.ufloat(result.intercept, result.intercept_stderr) # (slope+=unc), (intercept+=unc)\n",
    "\n",
    "graph_N(extr_values(u_V), extr_values(u_N), extr_sig(u_N))"
   ]
  },
  {
   "cell_type": "code",
   "execution_count": 4,
   "metadata": {},
   "outputs": [
    {
     "data": {
      "text/plain": [
       "44440.86061637556+/-2646.51782601156"
      ]
     },
     "execution_count": 4,
     "metadata": {},
     "output_type": "execute_result"
    }
   ],
   "source": [
    "# 2. Aktivität der Quelle\n",
    "u_t = u.ufloat(120, 2/1000) # s\n",
    "u_N2 = u.ufloat(9688, np.sqrt(9688)) # Einfallende Teilchen in der Zeit t\n",
    "u_N_bg = u.ufloat(74, np.sqrt(74))\n",
    "u_N_eff = u_N2 - u_N_bg\n",
    "\n",
    "# Raumwinkelberechnung\n",
    "u_D = u.ufloat(17.2, 0.5) # mm\n",
    "u_r = u_D/2 # mm\n",
    "u_d = u.ufloat(101, 0.5) # mm\n",
    "u_theta = u.wrap(np.arctan)(u_r/u_d) # rad\n",
    "\n",
    "u_epsilon = u.wrap(np.square)(u.wrap(np.sin)(u_theta/2))\n",
    "\n",
    "# Aktivität\n",
    "u_Aktivitaet = u_N_eff / (u_t * u_epsilon)\n",
    "\n",
    "u_Aktivitaet"
   ]
  },
  {
   "cell_type": "code",
   "execution_count": 6,
   "metadata": {},
   "outputs": [
    {
     "data": {
      "text/plain": [
       "1.4814814814814814"
      ]
     },
     "execution_count": 6,
     "metadata": {},
     "output_type": "execute_result"
    }
   ],
   "source": [
    "reach_Sr = 0.45\n",
    "not_reach_Sr = 1 - reach_Sr\n",
    "reach_Y = 0.9\n",
    "not_reach_Y = 1 - reach_Y\n",
    "\n",
    "rate_Sr = 0.5\n",
    "rate_Y = 0.5\n",
    "\n",
    "fact = 1/(rate_Sr * reach_Sr + rate_Y * reach_Y)\n",
    "fact\n",
    "\n",
    "u_Aktivitaet_Corrected = fact * u_Aktivitaet"
   ]
  },
  {
   "cell_type": "code",
   "execution_count": null,
   "metadata": {},
   "outputs": [],
   "source": []
  }
 ],
 "metadata": {
  "kernelspec": {
   "display_name": "Python 3.10.8 64-bit",
   "language": "python",
   "name": "python3"
  },
  "language_info": {
   "codemirror_mode": {
    "name": "ipython",
    "version": 3
   },
   "file_extension": ".py",
   "mimetype": "text/x-python",
   "name": "python",
   "nbconvert_exporter": "python",
   "pygments_lexer": "ipython3",
   "version": "3.10.8"
  },
  "orig_nbformat": 4,
  "vscode": {
   "interpreter": {
    "hash": "ec8e037e8dc204d3d865c2c299d9f950a845b1569963e458e46239ef266b6b39"
   }
  }
 },
 "nbformat": 4,
 "nbformat_minor": 2
}
