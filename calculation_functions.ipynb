{
 "cells": [
  {
   "cell_type": "code",
   "execution_count": null,
   "metadata": {},
   "outputs": [],
   "source": [
    "import numpy as np\n",
    "import matplotlib.pyplot as plt\n",
    "import os\n",
    "from scipy import signal\n",
    "from scipy.stats import norm\n",
    "from scipy.ndimage import gaussian_filter\n",
    "import math"
   ]
  },
  {
   "cell_type": "markdown",
   "metadata": {},
   "source": [
    "##### Mittelwert / Mean"
   ]
  },
  {
   "cell_type": "code",
   "execution_count": 58,
   "metadata": {},
   "outputs": [],
   "source": [
    "# meam = x_bar = sum(x)/n\n",
    "def Mean(x):\n",
    "    return np.mean(x)\n",
    "    \n",
    "# Mittelwert (Mean) = Erwartungswert = mu für grosse N\n",
    "def Mittelwert(x):\n",
    "    #return np.sum(x)/len(x)\n",
    "    return Mean(x)"
   ]
  },
  {
   "cell_type": "markdown",
   "metadata": {},
   "source": [
    "##### Standardabweichung sigma, Varianz var(x) = sigma^2"
   ]
  },
  {
   "cell_type": "code",
   "execution_count": 28,
   "metadata": {},
   "outputs": [],
   "source": [
    "# Standardabweichung / Standard_deviation / sigma\n",
    "# Die STD gibt das gewicht der pdf um den Erwartungswert an,\n",
    "# dh mit welcher Wahrscheinlichkeit ein Messergebnis im Bereich [mu - n*sigma, mu + n*sigma] ist\n",
    "def STD(x):\n",
    "    return np.std(x)\n",
    "\n",
    "def Var(x):\n",
    "    return STD(x)**2"
   ]
  },
  {
   "cell_type": "markdown",
   "metadata": {},
   "source": [
    "##### Dynamic Range DR"
   ]
  },
  {
   "cell_type": "code",
   "execution_count": 11,
   "metadata": {},
   "outputs": [],
   "source": [
    "# Dynamic Range DR\n",
    "# x_min: Signalauflösung (=min_step)\n",
    "# x_max: Grenze der Linearität / des Modells\n",
    "def DynamicRange(x_min, x_max):\n",
    "    return 20*np.log10(x_max / x_min)\n",
    "\n",
    "# Beispiel:\n",
    "## Da der Spannungsbereich von -1V bis +1V geht, wird insgesamt über 2V gemessen -> x_max = 2.\n",
    "## 2V / 2^bits = minimale Schrittgrösse\n",
    "x_max_beispiel = 2\n",
    "def min_step(x):\n",
    "    steps = np.zeros(len(x)-1) # initialisiere ein Array mit 0en um die Differenzen darin zu speichern\n",
    "    for i in range(len(steps)):\n",
    "        steps[i] = abs(x[i+1]-x[i]) #Differenzen\n",
    "    min_step = np.min(steps[np.nonzero(steps)]) # Minimalen Schritt finden (ohne 0)\n",
    "    print('minimale Schrittgrösse:', min_step)\n",
    "    return min_step\n",
    "#  dynamic_range = 20*np.log10(x_max/min_step)\n",
    "\n",
    "# Dynamic Range DR\n",
    "# p_min, p_max: Leistungswerte\n",
    "def DynamicRange_byPower(p_min, p_max):\n",
    "    return 10*np.log10(p_max / p_min)"
   ]
  },
  {
   "cell_type": "markdown",
   "metadata": {},
   "source": [
    "##### adc_bittiefe"
   ]
  },
  {
   "cell_type": "code",
   "execution_count": null,
   "metadata": {},
   "outputs": [],
   "source": [
    "def adc_bittiefe(x_max, min_step):\n",
    "    return np.log2(x_max/min_step)"
   ]
  },
  {
   "cell_type": "markdown",
   "metadata": {},
   "source": [
    "#### Messzeit, zeitliche Auflösung dT, Messrate, spektrale Auflösung"
   ]
  },
  {
   "cell_type": "code",
   "execution_count": 13,
   "metadata": {},
   "outputs": [],
   "source": [
    "# Messzeit T = Dauer des Messvorgangs\n",
    "# Zeitliche Auflösung dT = kleinstes Messbares Zeitintervall\n",
    "\n",
    "# Messrate = 1/dT\n",
    "# dt: Zeitliche Auflösung\n",
    "def Messrate(dt):\n",
    "    return 1/dt\n",
    "\n",
    "# Spektrale Auflösung = 1/T\n",
    "# T: Messzeit\n",
    "def SpektraleAufloesung(T):\n",
    "    return 1/T\n",
    "\n",
    "# Messbandbreite = 1/(2dt)\n",
    "# dt: Zeitliche Auflösung\n",
    "def Messbandbreite(dt):\n",
    "    return 1/(2*dt)"
   ]
  },
  {
   "cell_type": "code",
   "execution_count": null,
   "metadata": {},
   "outputs": [],
   "source": []
  },
  {
   "cell_type": "code",
   "execution_count": 76,
   "metadata": {},
   "outputs": [
    {
     "data": {
      "text/plain": [
       "(0.3486198538080352, 0.18500671850814904, 0.015339758815582919)"
      ]
     },
     "execution_count": 76,
     "metadata": {},
     "output_type": "execute_result"
    }
   ],
   "source": [
    "def StandardErrorOfTheMean(sample_x):\n",
    "    return np.std(sample_x)/len(sample_x)\n",
    "\n",
    "# Fehler des Mittelwerts sigma_xbar\n",
    "# x: N data points\n",
    "# n_bins: Anzahl bins um die einzelnen Mittelwerte auszurechnen\n",
    "# Der Fehler des Mittelwertes geht mit 1/sqrt(N=sample size) wie in der Vorlesung hergeleitet.\n",
    "# TODO\n",
    "def ErrorOfTheMean(x, n_bins):\n",
    "    bins = np.array_split(x, n_bins)\n",
    "    means = np.zeros(n_bins)\n",
    "    for i in range(0, len(means)):\n",
    "        means[i] = np.mean(bins[i])\n",
    "    return np.std(means)\n",
    "\n",
    "def ErrorOfTheMean_FrontToBack(x):\n",
    "    bins = [x[3:3+i] for i in range(1, len(x)+1-3)]\n",
    "    means = np.zeros(len(bins))\n",
    "    for i in range(0, len(means)):\n",
    "        means[i] = np.mean(bins[i])\n",
    "    return np.std(means)\n",
    "\n",
    "def ErrorOfTheMean_ByMeans(means):\n",
    "    return np.std(means)\n",
    "\n",
    "def Fehler_Des_Mittelwerts(x):\n",
    "    return ErrorOfTheMean(x, int((len(x)/10)+1))"
   ]
  },
  {
   "cell_type": "markdown",
   "metadata": {},
   "source": [
    "#### Root Mean Square / Root Mean Square Error / Mean Square Error / Messfehler / Error"
   ]
  },
  {
   "cell_type": "code",
   "execution_count": 14,
   "metadata": {},
   "outputs": [],
   "source": [
    "# Root Mean Square\n",
    "# x: Liste von Messwerten\n",
    "def RMS(x):\n",
    "    return np.sqrt(\n",
    "        np.sum(x**2) / len(x)\n",
    "    )\n",
    "\n",
    "# Mean Square Error\n",
    "def MSE(actual_values, predicted_values):\n",
    "    diff = np.subtract(actual_values, predicted_values)\n",
    "    squared_error = np.square(diff)\n",
    "    mse = squared_error.mean()\n",
    "    return mse\n",
    "\n",
    "# Root Mean Square Error\n",
    "def RMSE(actual_values, predicted_values):\n",
    "    mse = MSE(actual_values, predicted_values)\n",
    "    rmse = math.sqrt(mse)\n",
    "    return rmse\n",
    "\n",
    "def Messfehler(wert, erwartungswert):\n",
    "    return erwartungswert - wert\n",
    "\n",
    "def Error(x, x_expected):\n",
    "    return np.subtract(x_expected, x)"
   ]
  },
  {
   "cell_type": "markdown",
   "metadata": {},
   "source": [
    "#### Signal to Noise Ratio\n",
    "Das Singal-to-Noise Ratio ist ein Mass für das Verhältnis zwischen Signal und Rauschen in einer\n",
    "Messung. Ist das Ratio gleich oder kleiner als 1, so ist die Qualität des Signals schlecht. Die üblichste\n",
    "Definition ist mittels der Leistung des Signals (psignal) bzw. des Rauschens (pnoise):\n",
    "- SNR = p_signal / p_noise\n",
    "- SNR = (A_signal / A_noise)^2 mit A = sqrt(1/n * (x_1^2 + ... + x_n^2) )\n",
    "- SNR = 2H / h mit H = Durchmesser des peaks, h = Durchmesser des Noise"
   ]
  },
  {
   "cell_type": "code",
   "execution_count": 3,
   "metadata": {},
   "outputs": [],
   "source": [
    "# p_signal: Leistung des Signals\n",
    "# p_noise: Leistung des Rauschens\n",
    "def SNR(p_signal, p_noise):\n",
    "    return p_signal / p_noise\n",
    "\n",
    "# A_rms_signal: Root mean square der Signalmesswerte\n",
    "# A_rms_noise: Root mean square der Noisewerte\n",
    "def SNR_by_rms(A_rms_signal, A_rms_noise):\n",
    "    return (A_rms_signal / A_rms_noise)**2\n",
    "\n",
    "# x_signal: Liste von Werten im Signalbereich\n",
    "# x_noise: Liste von Werten im Noisebereich\n",
    "def SNR_mit_distkreter_reihe_von_messwerten(x_signal, x_noise):\n",
    "    return SNR_by_rms(RMS(x_signal), RMS(x_noise))\n"
   ]
  },
  {
   "cell_type": "markdown",
   "metadata": {},
   "source": [
    "##### Normalverteilung, PDF\n",
    "PDF = Probability Density Function der Normalverteilung: 1σ → 68 %, 2σ → 95 %, 3σ → 99.7 %, · · ·, 5σ → 99.99994 "
   ]
  },
  {
   "cell_type": "code",
   "execution_count": 98,
   "metadata": {},
   "outputs": [
    {
     "data": {
      "image/png": "[encoded data removed]",
      "text/plain": [
       "<Figure size 432x288 with 2 Axes>"
      ]
     },
     "metadata": {
      "needs_background": "light"
     },
     "output_type": "display_data"
    }
   ],
   "source": [
    "# Wahrscheinlichkeitsdichtefunktion der Normalverteilung\n",
    "# mu: Erwartungswert\n",
    "# sigma: Standardabweichung\n",
    "# def PDF_by_me_wrong(x, mu, sigma):\n",
    "#    q = -((x-mu)**2)/(2*(sigma**2))\n",
    "#    return (1/sigma*math.sqrt(2*np.pi))*np.exp(q)\n",
    "\n",
    "# Wahrscheinlichkeitsdichtefunktion der Normalverteilung\n",
    "def PDF(x):\n",
    "    _MEAN=np.mean(x)\n",
    "    _STD=np.std(x)\n",
    "    return norm.pdf(x, loc=_MEAN, scale=_STD)\n",
    "\n",
    "def plot_sample_1():\n",
    "    # Beispiel Plot mit histogramm und pdf\n",
    "    xxxxx=[1,2,3,4,5,6,2,3,4,4,3,4,3,2,5,3,3,2,1,3,4,5,6,6,5,4,3,2,2,3,4,5,9,8,3,4,5,6,4,7,8,5]\n",
    "    xxxxx.sort()\n",
    "    __pdf = PDF(xxxxx)\n",
    "    fig, ax = plt.subplots()\n",
    "    ax.hist(x=xxxxx, bins=75)\n",
    "    ax2 = ax.twinx()\n",
    "    ax2.plot(xxxxx, __pdf, color='red')\n",
    "    plt.show()\n",
    "#plot_sample_1()"
   ]
  },
  {
   "cell_type": "code",
   "execution_count": 87,
   "metadata": {},
   "outputs": [
    {
     "name": "stdout",
     "output_type": "stream",
     "text": [
      "105.98020095172552\n"
     ]
    },
    {
     "data": {
      "text/plain": [
       "0.682689492137086"
      ]
     },
     "execution_count": 87,
     "metadata": {},
     "output_type": "execute_result"
    }
   ],
   "source": [
    "# Random Values gauss distribution\n",
    "import random\n",
    "import scipy.integrate\n",
    "\n",
    "__mu = 100 # expected value \n",
    "__sigma = 50 # standard deviation\n",
    "\n",
    "# Generate Random values with gauss distribution\n",
    "print(random.gauss(__mu, __sigma))\n",
    "print(np.random.normal(__mu, __sigma, 10000)) # mean, std, length\n",
    "\n",
    "def gaussian_pdf(x, mu, sigma):\n",
    "    return norm.pdf(x, loc=mu, scale=sigma)\n",
    "\n",
    "# Area Under Curve of PDF = Probability Density Function (Gaussian / Normalverteilung)\n",
    "# The total area is the probability for something to be in [mu-n*sigma, mu+n*sigma]\n",
    "def AreaUnderNormalPDF(mu, sigma, NumStd):\n",
    "    area = scipy.integrate.quad(\n",
    "        gaussian_pdf,\n",
    "        mu - NumStd*sigma,\n",
    "        mu + NumStd*sigma,\n",
    "        (mu,sigma))[0]\n",
    "    return area\n",
    "\n",
    "# 1sigma ==> 68%\n",
    "AreaUnderNormalPDF(0, 1, 1)\n"
   ]
  },
  {
   "cell_type": "markdown",
   "metadata": {},
   "source": [
    "##### Probability Mass Function PMF, Mode, Median, Halbwertsbreite FWHM"
   ]
  },
  {
   "cell_type": "code",
   "execution_count": null,
   "metadata": {},
   "outputs": [],
   "source": [
    "# PMF berechnen aus einem beliebigen array\n",
    "def PMF(data_array, bin_nr):\n",
    "    y, bin_edges = np.histogram(data_array, bin_nr)\n",
    "    # Here we compute an array with bin centers based on bin_edges positions\n",
    "    x = [(bin_edges[i]+bin_edges[i+1])/2 for i in range(bin_nr)]\n",
    "    # We normalize y with its sum\n",
    "    yn = y / np.sum(y)\n",
    "    return x, yn\n",
    "\n",
    "# Here is an equivalent implementation that does not use np.histogram function (does not need to implemented by the students)\n",
    "def PMF_direct(data_array, bin_nr):\n",
    "    # Here we define the positions of bin edges (for bin_nr bins there will be bin_nr + 1 edges)\n",
    "    bin_edges = np.linspace(min(data_array), max(data_array), bin_nr + 1)\n",
    "    # Here we define the array with bin centers\n",
    "    x = [(bin_edges[i]+bin_edges[i+1])/2 for i in range(bin_nr)]\n",
    "    # Here we prepare the array in which we will store a histogram (initially filled with zeros)\n",
    "    y = np.zeros(bin_nr)\n",
    "    # For every data point we check to which bin it falls\n",
    "    for data_value in data_array:\n",
    "        for i in range(bin_nr):\n",
    "            if data_value >= bin_edges[i] and data_value < bin_edges[i + 1]:\n",
    "                y[i] += 1\n",
    "    # Finally, we normalize y with its sum\n",
    "    return x, y / np.sum(y)\n",
    "\n",
    "def get_bin_nr(factor, arr_len):\n",
    "    return int(round(factor*np.sqrt(arr_len)))\n",
    "\n",
    "# x_mode\n",
    "# Call this function like:\n",
    "#  x, pmf = PMF(data_array, bin_nr)\n",
    "#  x_mode = mode(x, pmf)\n",
    "def mode(x, PMF):\n",
    "    return x[np.argmax(PMF)]\n",
    "\n",
    "# x_median\n",
    "def median(x, PMF):\n",
    "    sub_sums = [np.sum(PMF[:i]) for i in range(1, len(PMF) + 1)]\n",
    "    return x[np.searchsorted(sub_sums, 1/2)]\n",
    "\n",
    "def FWHM_numerically(x, PMF):\n",
    "    # Variable that stores the mode position\n",
    "    mode_position = mode(x, PMF)\n",
    "    # Shift the PMF values by half of their maximal value\n",
    "    PMF_shifted = PMF - np.max(PMF) / 2\n",
    "    # Prepare empty arrays that will store the crossing positions in the rising and falling slope.\n",
    "    crossings_low = []\n",
    "    crossings_high = []\n",
    "    for i in range(len(PMF) - 1):\n",
    "        # Search for the crossing\n",
    "        if (PMF_shifted[i] * PMF_shifted[i + 1] <= 0) and not ((PMF_shifted[i] == 0) and (PMF_shifted[i + 1] == 0)):\n",
    "            # Interpolate between x[i] and x[i+1] values.\n",
    "            if (PMF_shifted[i] <= PMF_shifted[i + 1]):\n",
    "                crossing_position = np.interp(0, [PMF_shifted[i],PMF_shifted[i + 1]], [x[i],x[i+1]])\n",
    "            else:\n",
    "                crossing_position = np.interp(0, [PMF_shifted[i+1],PMF_shifted[i]], [x[i+1],x[i]])   \n",
    "            # Check if the current crossing is on the left of right side of the mode\n",
    "            if (crossing_position > mode_position):\n",
    "                crossings_high.append(crossing_position)\n",
    "            else:\n",
    "                crossings_low.append(crossing_position)        \n",
    "    # Determine the average position of the crossings occuring in the rising and falling slope, as well as their difference.\n",
    "    return np.average(crossings_low), np.average(crossings_high), np.average(crossings_high) - np.average(crossings_low)\n",
    "\n",
    "def FWHM_bySigma(data_array):\n",
    "    return 2*np.sqrt(2*np.log(2))*np.std(data_array)\n",
    "\n",
    "def example_pmf_mode_median_fwhm_plot(data_array):\n",
    "    bin_nr = get_bin_nr(0.8, len(data_array))\n",
    "    x, y = PMF(data_array, bin_nr) # x=x, y=PMF\n",
    "\n",
    "    # Plot the histogram with regular line plot\n",
    "    fig, ax = plt.subplots()\n",
    "    ax.plot(x,y)\n",
    "    ax.set_xlabel('Data value')\n",
    "    ax.set_ylabel('PMF')\n",
    "    plt.show()\n",
    "\n",
    "    # Plot the histogram with bar plot\n",
    "    fig, ax = plt.subplots()\n",
    "    ax.bar(x, y, width = x[1] - x[0])\n",
    "    ax.set_xlabel('Data value')\n",
    "    ax.set_ylabel('PMF')\n",
    "    plt.show()\n",
    "\n",
    "    # Mode, Median, Mean\n",
    "    print(\"Mode of the PMF =\", mode(x,y), \"; median of the PMF =\", median(x,y), \"; mean of the PMF\", np.mean(data_array))\n",
    "\n",
    "    # Plot the histogram together with vertical lines indicating the mode, median and mean.\n",
    "    fig, ax = plt.subplots()\n",
    "    ax.bar(x,y,width=(x[1] - x[0]))\n",
    "    ax.axvline(np.mean(data_array), color='g', label = \"mean = {0}\".format(np.round(np.mean(data_array), 4)))\n",
    "    ax.axvline(mode(x,y), color='r', label = \"mode = {0}\".format(np.round(mode(x,y), 4)))\n",
    "    ax.axvline(median(x,y), color='black', label = \"median = {0}\".format(np.round(median(x,y), 4)))\n",
    "    plt.legend(loc=\"upper right\")\n",
    "    ax.set_xlabel('Data value')\n",
    "    ax.set_ylabel('PMF')\n",
    "    plt.show()\n",
    "\n",
    "    # Determine FWHM and print it\n",
    "    low, high, FWHM_value = FWHM_numerically(x,y)\n",
    "    print(\"FWHM of the PMF =\", FWHM_value, \"; 2*sqrt(2*ln(2))*sigma =\", FWHM_bySigma(data_array))\n",
    "\n",
    "    # Plot the data together with the line segment indicating the FWHM\n",
    "    fig, ax = plt.subplots()\n",
    "    ax.bar(x,y,width=(x[1] - x[0]))\n",
    "    ax.axvline(np.mean(data_array), color='g', label = \"mean = {0}\".format(np.round(np.mean(data_array), 4)))\n",
    "    ax.axvline(mode(x, y), color='r', label = \"mode = {0}\".format(np.round(mode(x,y), 4)))\n",
    "    ax.axvline(median(x, y), color='black', label = \"median = {0}\".format(np.round(median(x,y), 4)))\n",
    "    ax.hlines(0.5 * np.max(y), xmin = low, xmax = high, color = 'purple', label = \"FWHM = {0}\".format(np.round(FWHM_value,4)))\n",
    "    ax.set_xlabel('Data value')\n",
    "    ax.set_ylabel('PMF')\n",
    "    plt.legend(loc=\"upper left\")\n",
    "    plt.show()"
   ]
  },
  {
   "cell_type": "markdown",
   "metadata": {},
   "source": [
    "##### M-tes Moment einer PMF\n",
    "Die Varianz=sigma^2 ist gegeben durch M_2 - M_1^2\n",
    "Der Mittelwert ist das Erste Moment: Mean = M_1"
   ]
  },
  {
   "cell_type": "code",
   "execution_count": null,
   "metadata": {},
   "outputs": [],
   "source": [
    "# Berechne das M-te Moment der PMF\n",
    "def moment(x, PMF, m):\n",
    "    return np.sum([PMF[i] * x[i] ** m for i in range(len(x))])\n",
    "\n",
    "def compute_Var_by_Moments(x, PMF):\n",
    "    return moment(x,PMF,2) - moment(x,PMF,1)**2\n",
    "\n",
    "def compute_STD_by_Moments(x, PMF):\n",
    "    return np.sqrt(compute_Var_by_Moments(x, PMF))\n",
    "\n",
    "def compute_Mean_by_Moments(x, PMF):\n",
    "    return moment(x,PMF,1)\n",
    "\n",
    "def example_moments(data_array):\n",
    "    # Compute the PMF\n",
    "    x, y = PMF(data_array, get_bin_nr(4, len(data_array)))\n",
    "    #x, y = PMF(data_array**2, bin_nr)\n",
    "    # Print the moments as well as the ratio between Mi and M1^i.\n",
    "    print(\"0th moment =\", moment(x,y,0))\n",
    "    print(\"1st moment =\", moment(x,y,1))\n",
    "    print(\"2nd moment =\", moment(x,y,2), \"; ratio M2/M1^2 =\", moment(x,y,2) / moment(x,y,1)**2)\n",
    "    print(\"3rd moment =\", moment(x,y,3), \"; ratio M3/M1^3 =\", moment(x,y,3) / moment(x,y,1)**3)\n",
    "    print(\"4th moment =\", moment(x,y,4), \"; ratio M4/M1^3 =\", moment(x,y,4) / moment(x,y,1)**4)\n",
    "    # The ratios of Mm/M1^m are close to 1 for symmetric gaussian-like noise.\n",
    "    # For more asymmetric PMF (obtained for 2nd or 3rd power of data),\n",
    "    # the ratios sizably deviate from 1, particularly for higher moments.\n",
    "\n",
    "    # Compute standard deviation based on 1st and 2nd moments\n",
    "    print(\"Sigma based on 1st and 2nd moments =\", compute_STD_by_Moments(x,y),\"; direct sigma =\", np.std(data_array))"
   ]
  },
  {
   "cell_type": "markdown",
   "metadata": {},
   "source": [
    "##### Sampling Frequency (Abtastrate) | f_S"
   ]
  },
  {
   "cell_type": "code",
   "execution_count": null,
   "metadata": {},
   "outputs": [],
   "source": [
    "# Sampling Frequency / Abtastrate f_s\n",
    "# t0: Messzeit (T)\n",
    "def SamplingFrequency(t0):\n",
    "    return 1/t0\n",
    "\n",
    "## Shannon-Nyquist Theorem:\n",
    "# Die Sampling Frequenz / Abtastrate muss mindestens 2x so hoch sein wie die Erwünschte/Maximale zu messende Frequenz des Signals\n",
    "# f_s = Sampling Rate\n",
    "def ShannonNyquist_MaxMeasurableFrequency(f_s):\n",
    "    return 1/(2*f_s)\n",
    "\n",
    "def ShannonNyquist_MinSamplingRateToMeasureFrequency(freq_max):\n",
    "    return 2*freq_max"
   ]
  },
  {
   "cell_type": "markdown",
   "metadata": {},
   "source": [
    "##### Binomialverteilung\n",
    "Die Binomialverteilung gibt die Wahrscheinlichkeit an, dass für einen Zustand Ψ mit n Variablen, k von denen einen Wert u annehmen.\n",
    "- mu = M1 = n*p\n",
    "- sigma = sqrt(n)\n",
    "- var = sigma**2 = M2 - M1^2 = npq"
   ]
  },
  {
   "cell_type": "code",
   "execution_count": 175,
   "metadata": {},
   "outputs": [
    {
     "data": {
      "image/png": "[encoded data removed]",
      "text/plain": [
       "<Figure size 432x288 with 1 Axes>"
      ]
     },
     "metadata": {
      "needs_background": "light"
     },
     "output_type": "display_data"
    }
   ],
   "source": [
    "def binomialkoeff(n, k):\n",
    "    return 1 if k == 0 or k == n else np.prod([(n + 1 - i) / i for i in range(1, k + 1)])\n",
    "\n",
    "# Wahrscheinlichkeit, dass für einen Zustand mit n Variablen\n",
    "# k von denen einen Wert u annehmen\n",
    "# p = P(u)\n",
    "# q = 1-p = wahrscheinlichkeit für nicht u\n",
    "def P_Binomialverteilung(k, n, p):\n",
    "    q = 1 - p\n",
    "    return binomialkoeff(n, k) * p**k * q**(n-k)\n",
    "\n",
    "def PMF_binomial_distribution(ks,n,p):\n",
    "    return scipy.stats.binom.pmf(ks,n,p)\n",
    "\n",
    "def example_binomial_distribution_plots():\n",
    "    n = 20\n",
    "    p = 0.5\n",
    "    ks = np.arange(0,21)\n",
    "    binomial_pmf = PMF_binomial_distribution(ks,n,p)\n",
    "    # Plot the histogram with regular line plot\n",
    "    fig, ax = plt.subplots()\n",
    "    ax.plot(ks,binomial_pmf)\n",
    "    ax.set_xlabel('k')\n",
    "    ax.set_ylabel('PMF')\n",
    "    plt.title('Binomial distribution PMF vs k with n=20, p=0.5')\n",
    "    plt.show()\n",
    "example_binomial_distribution_plots()\n",
    "\n",
    "# Erstes Moment der Binomialverteilung\n",
    "# entspricht dem Mittelwert der Binomialverteilung\n",
    "def Binomialverteilung_M1(n, p):\n",
    "    return n*p\n",
    "\n",
    "def Binomialverteilung_M2(n, p):\n",
    "    q = 1 - p\n",
    "    return n**2 * p**2 + n*p*q\n",
    "\n",
    "def Binomialverteilung_Mean(n, p):\n",
    "    return Binomialverteilung_M1(n,p)\n",
    "\n",
    "def Binomialverteilung_STD(n):\n",
    "    return np.sqrt(n)\n",
    "\n",
    "def AreaUnderBinomialPMF(n, p, k_min, k_max):\n",
    "    ks = np.arange(k_min, k_max+1)\n",
    "    binomial_pmf = PMF_binomial_distribution(ks, n, p)\n",
    "    return sum(binomial_pmf)\n",
    "    "
   ]
  },
  {
   "cell_type": "markdown",
   "metadata": {},
   "source": [
    "##### Poisson-Verteilung\n",
    "Die Poisson-Verteilung ist ein Grenzfall der Binomialverteilung für sehr seltene Ereignisse.\n",
    "- Die Anzahl der Messungen n ist sehr gross.\n",
    "- Die Anzahl der Ereignisse pro Messung k ist klein, d.h. n ≫ k\n",
    "- Die Wahrscheinlichkeit für ein Event p ist sehr klein (p → 0)\n",
    "- mu = M1\n",
    "- var = mu\n",
    "- sig = sqrt(mu)"
   ]
  },
  {
   "cell_type": "code",
   "execution_count": 178,
   "metadata": {},
   "outputs": [
    {
     "name": "stderr",
     "output_type": "stream",
     "text": [
      "C:\\Users\\domin\\AppData\\Local\\Temp/ipykernel_6152/3485963537.py:10: DeprecationWarning: Using factorial() with floats is deprecated\n",
      "  return [mu**k * np.exp(-mu) / math.factorial(k) for k in k_arr]\n",
      "C:\\Users\\domin\\AppData\\Local\\Temp/ipykernel_6152/3485963537.py:10: DeprecationWarning: Using factorial() with floats is deprecated\n",
      "  return [mu**k * np.exp(-mu) / math.factorial(k) for k in k_arr]\n",
      "C:\\Users\\domin\\AppData\\Local\\Temp/ipykernel_6152/3485963537.py:10: DeprecationWarning: Using factorial() with floats is deprecated\n",
      "  return [mu**k * np.exp(-mu) / math.factorial(k) for k in k_arr]\n",
      "C:\\Users\\domin\\AppData\\Local\\Temp/ipykernel_6152/3485963537.py:10: DeprecationWarning: Using factorial() with floats is deprecated\n",
      "  return [mu**k * np.exp(-mu) / math.factorial(k) for k in k_arr]\n",
      "C:\\Users\\domin\\AppData\\Local\\Temp/ipykernel_6152/3485963537.py:10: DeprecationWarning: Using factorial() with floats is deprecated\n",
      "  return [mu**k * np.exp(-mu) / math.factorial(k) for k in k_arr]\n",
      "C:\\Users\\domin\\AppData\\Local\\Temp/ipykernel_6152/3485963537.py:10: DeprecationWarning: Using factorial() with floats is deprecated\n",
      "  return [mu**k * np.exp(-mu) / math.factorial(k) for k in k_arr]\n",
      "C:\\Users\\domin\\AppData\\Local\\Temp/ipykernel_6152/3485963537.py:10: DeprecationWarning: Using factorial() with floats is deprecated\n",
      "  return [mu**k * np.exp(-mu) / math.factorial(k) for k in k_arr]\n"
     ]
    },
    {
     "data": {
      "image/png": "[encoded data removed]",
      "text/plain": [
       "<Figure size 432x288 with 1 Axes>"
      ]
     },
     "metadata": {
      "needs_background": "light"
     },
     "output_type": "display_data"
    }
   ],
   "source": [
    "# P(k) wahrscheinlichkeit k Ereignisse in einer Messung zu finden (sehr klein)\n",
    "def P_poisson(k, mu):\n",
    "    return mu**k * np.exp(-mu) / math.factorial(k)\n",
    "\n",
    "# PMF der Poisson-Verteilung\n",
    "# k_arr: Liste von Werten für k (Anz Ereignisse), e.g. np.linspace(0/*first*/, 99/*last/*, 100/*num*/)\n",
    "# mu = mean der Binomialverteilung = n*p, wobei p = wahrsch. für ein Event\n",
    "# gibt die PMF der wahrscheinlichkeiten für alle diese k's zurück\n",
    "def PMF_poisson_distribution(k_arr, mu):\n",
    "    return [mu**k * np.exp(-mu) / math.factorial(k) for k in k_arr]\n",
    "\n",
    "def plot_poisson_distribution_pmf(ks, mu):\n",
    "    # Plot the data\n",
    "    fig, ax = plt.subplots()\n",
    "    # plot graphs for different mu values\n",
    "    ax.plot(ks,PMF_poisson_distribution(ks,mu), color = 'blue', marker='o', markersize = '3', label = \"mu = {0}\".format(mu))\n",
    "    ax.set_xlabel('Frequency')\n",
    "    ax.set_ylabel('Probability')\n",
    "    plt.legend(loc=\"upper right\")\n",
    "    plt.show()\n",
    "\n",
    "def example_poisson_distribution_plots():\n",
    "    # Prepare arrays storingng frequencies and mus\n",
    "    ks = np.linspace(0, 20, 21)#[0,1,2,...,20]\n",
    "    mus = [0.2, 0.5, 1, 2, 5, 10, 20]\n",
    "    # Prepare an array that will store colors for each curve (this can be done also manually)\n",
    "    from matplotlib import cm\n",
    "    cmap = cm.get_cmap('inferno')\n",
    "    colors = cmap([np.arange(0, 1, 1 / len(mus))])[0]\n",
    "    # Plot the data\n",
    "    fig, ax = plt.subplots()\n",
    "    # plot graphs for different mu values\n",
    "    for i, mu in enumerate(mus):\n",
    "        ax.plot(ks,PMF_poisson_distribution(ks,mu), color = colors[i], marker='o', markersize = '3', label = \"mu = {0}\".format(mu))\n",
    "    ax.set_xlabel('Frequency')\n",
    "    ax.set_ylabel('Probability')\n",
    "    plt.legend(loc=\"upper right\")\n",
    "    plt.title('Poisson distribution of different mean values')\n",
    "    plt.show()\n",
    "example_poisson_distribution_plots()\n",
    "\n",
    "def Poissonverteilung_Mean_by_pmf(k_arr, pmf):\n",
    "    #pmf = PMF_poisson_distribution(k_arr, mu)\n",
    "    return compute_Mean_by_Moments(k_arr, pmf)\n",
    "\n",
    "def Poissonverteilung_Var(mean):\n",
    "    return mean\n",
    "\n",
    "def Poissonverteilung_Std(mean):\n",
    "    return np.sqrt(mean)\n",
    "\n",
    "# Area Under Curve of PDF = Probability Density Function (Gaussian / Normalverteilung)\n",
    "# The total area is the probability for something to be in [mu-n*sigma, mu+n*sigma]\n",
    "def AreaUnderPoissonPMF(mu, k_min, k_max):\n",
    "    ks = np.linspace(k_min, k_max, k_max - k_min + 1)\n",
    "    pmf = PMF_poisson_distribution(ks, mu)\n",
    "    plot_poisson_distribution_pmf(ks, mu)\n",
    "    return sum(pmf)\n",
    "#AreaUnderPoissonPMF(3, 1, 5)"
   ]
  },
  {
   "cell_type": "markdown",
   "metadata": {},
   "source": [
    "##### Kovarianz, Korrelations-Koeffizient, Auto-Kovarianz\n",
    "- Exercise Woche 6"
   ]
  },
  {
   "cell_type": "code",
   "execution_count": 123,
   "metadata": {},
   "outputs": [],
   "source": [
    "# x, y: Equally long arrays of values\n",
    "def covariance(x, y):\n",
    "    N = len(x)\n",
    "    x_mean, y_mean = Mean(x), Mean(y)\n",
    "    cov = 0.0\n",
    "    for i in range(0, N):\n",
    "        cov += (x[i] - x_mean)*(y[i] - y_mean)\n",
    "    cov /= N\n",
    "    return cov\n",
    "\n",
    "# x, y: Equally long arrays of values\n",
    "def correlation_coefficient(x, y):\n",
    "    sigma_x, sigma_y = STD(x), STD(y)\n",
    "    return covariance(x,y)/(sigma_x*sigma_y)\n",
    "\n",
    "# Computes standard deviation with the covariance\n",
    "# The result should be the same as np.std\n",
    "def STD_by_covariance(x):\n",
    "    return np.sqrt(covariance(x,x))\n",
    "\n",
    "def Var_by_covariance(x):\n",
    "    return covariance(x,x)\n",
    "\n",
    "# Autokovarianz von x mit seiner verschobenen Kopie, delta=Anzahl indexe verschoben, sollte nicht zu gross sein im Vergleich zu N\n",
    "def Rxx(x, delta):\n",
    "    delta = abs(delta)\n",
    "    # First calculate average value of x\n",
    "    xm = np.mean(x)\n",
    "    \n",
    "    # Determine the sum in the Rxx definition\n",
    "    # First, initialize with 0\n",
    "    dev_sum = 0\n",
    "    # Add values corresponding to each data point (keep in mind that after \n",
    "    # introducing the delta delay, only elements belonging to initial len(x) - delta subarray should be used in computation).\n",
    "    for i in range(len(x) - delta):\n",
    "        dev_sum += (x[i] - xm) * (x[i + delta] - xm)\n",
    "    \n",
    "    # Divide the sum by the number of data points in the overlapping parts of original and shifted arrays and return the result\n",
    "    return dev_sum / (len(x) - delta)\n"
   ]
  },
  {
   "cell_type": "markdown",
   "metadata": {},
   "source": [
    "##### Smoothing data with a gaussian filter"
   ]
  },
  {
   "cell_type": "code",
   "execution_count": 124,
   "metadata": {},
   "outputs": [],
   "source": [
    "from scipy.ndimage import gaussian_filter\n",
    "\n",
    "def smooth_data_with_gaussian_filter(x, smoothing_width):\n",
    "    x_smoothed = gaussian_filter(x, sigma = smoothing_width)\n",
    "    return x_smoothed"
   ]
  },
  {
   "cell_type": "markdown",
   "metadata": {},
   "source": [
    "##### Fourier Transform"
   ]
  },
  {
   "cell_type": "code",
   "execution_count": 132,
   "metadata": {},
   "outputs": [],
   "source": [
    "from scipy import signal\n",
    "\n",
    "# x, t: numpy arrays\n",
    "def fourier_transform(x, t):\n",
    "    # First determine the time interval between consecutive data points (data are assumed to be uniformly-spaced in time)\n",
    "    delta_t = t[1] - t[0]\n",
    "    \n",
    "    # Store the number of data points in variable N\n",
    "    N = len(t)\n",
    "    \n",
    "    # Prepare the N-element array with the values of frequencies that spans from -1 / (2 * delta_t) to 1 / (2 * delta_t)\n",
    "    # This can be done in two ways:    \n",
    "    # 1) Frequency axis used in np.fft.fft function\n",
    "    ff_freqs = np.linspace(-np.floor(N/2), np.floor((N-1)/2), N) / (N * delta_t)\n",
    "    # 2) Frequency axis computed directly based on the defintion from the lecture\n",
    "    #fmax = 1 / (2 * delta_t)\n",
    "    #ff_freqs = np.linspace(-fmax, fmax, N)\n",
    "    \n",
    "    # Compute the Fourier transform of the data in x for each frequency (note that the values are complex numbers)\n",
    "    ff_values = np.array([np.sum(np.exp(2 * np.pi * f * t * 1j) * x) * delta_t for f in ff_freqs])\n",
    "    \n",
    "    # Return the two arrays storing the frequencies and Fourier transform values\n",
    "    return ff_freqs, ff_values\n",
    "\n",
    "def fourier_transform_np_implementation(x, t):\n",
    "    delta_t = t[1] - t[0]\n",
    "    ff_values = np.fft.fft(x)*delta_t\n",
    "    ff_freqs = np.fft.fftfreq(len(t), d=delta_t)\n",
    "    return ff_freqs, ff_values\n",
    "\n",
    "# Plots frequencies vs Fourier transform\n",
    "def ft_graph(ff_freqs, ff_values):\n",
    "    fig, ax = plt.subplots()\n",
    "    ax.plot(ff_freqs, ff_values.real, label = \"real part\")\n",
    "    ax.plot(ff_freqs, ff_values.imag, label = \"imaginary part\")\n",
    "    ax.plot(ff_freqs, abs(ff_values), label = \"absolute value\")\n",
    "    # To better see the peaks reduce the range of the frequency axis\n",
    "    #ax.set_xlim([-10, 10])\n",
    "    #ax.axvline(-1 / 0.2, color = \"black\", linestyle = \"dashed\", linewidth=0.5)\n",
    "    #ax.axvline(1 / 0.2, color = \"black\", linestyle = \"dashed\", linewidth=0.5)\n",
    "    ax.set_xlabel('Frequency (Hz)')\n",
    "    ax.set_ylabel('Fourier transform (V/Hz)')\n",
    "    plt.legend(loc=\"upper center\")\n",
    "    plt.show()\n",
    "\n",
    "# t: array of time values evenly spaced, ys = [y1, ..., yn ] n arrays (data sets), values\n",
    "def ft_and_plot_vs_freq(t, ys):\n",
    "    for y in ys:\n",
    "        ff_freqs, ff_values = fourier_transform(y, t)\n",
    "        ft_graph(ff_freqs, ff_values)\n",
    "\n",
    "def ft_find_peaks_and_plot(ff_freqs, ff_values, threshhold=0.1):\n",
    "    ff_peaks = signal.find_peaks(abs(ff_values), threshold=threshhold)[0]\n",
    "    fig, ax = plt.subplots()\n",
    "    # Visualize the Fourier transform as well as the peak positions\n",
    "    ax.plot(ff_freqs, abs(ff_values))\n",
    "    #ax.set_xlim([-30, 30])\n",
    "    for peak_index in ff_peaks:\n",
    "        ax.axvline(ff_freqs[peak_index], color = \"black\", linestyle = \"dashed\", linewidth=0.5)\n",
    "    ax.set_xlabel('Frequency (Hz)')\n",
    "    ax.set_ylabel('Fourier transform (V/Hz)')\n",
    "    plt.show()\n"
   ]
  },
  {
   "cell_type": "markdown",
   "metadata": {},
   "source": [
    "##### Power Spectral Density (Spektrale Leistungsdichte)\n",
    "- Fourier Transform of the original data x, t\n",
    "- Fourier Transform of the autocovariance Rxx_vs_delta, deltas"
   ]
  },
  {
   "cell_type": "code",
   "execution_count": 133,
   "metadata": {},
   "outputs": [],
   "source": [
    "# =Sxx\n",
    "def PSD(x, t):\n",
    "    # Extract the time duration T of the dataset\n",
    "    T = t[len(t) - 1] - t[0]\n",
    "    # Compute the Fourier transform\n",
    "    ff_freqs, ff_values = fourier_transform(x, t)\n",
    "    psd_ffreqs = ff_freqs\n",
    "    psd_values = abs(ff_values) ** 2 / T\n",
    "    # Divide the squared absolute values of the Fourier transform by T and return the results\n",
    "    return psd_ffreqs, psd_values\n",
    "\n",
    "def PSD_by_Autocovariance(x, t):\n",
    "    # Compute the autocovariance of the y5 data for every delay from the range - T / 2 to T / 2\n",
    "    Rxx_vs_delta = np.array([Rxx(x,i) for i in range(-int(len(t)/2),int(len(t)/2)+1)])\n",
    "    # Store the values of time delays in a separate array\n",
    "    deltas = np.array([(t[1] - t[0]) * i for i in range(-int(len(t)/2),int(len(t)/2)+1)])\n",
    "    # Compute the Fourier transform of Rxx\n",
    "    psd_ff_freqs_Rxx, psd_ff_values_Rxx = fourier_transform(Rxx_vs_delta, deltas)\n",
    "    return psd_ff_freqs_Rxx, psd_ff_values_Rxx\n",
    "\n",
    "def example_plot_PSD_and_PSDbyRxx_and_compare(x, t):\n",
    "    PSD_ffreqs, PSD_values = PSD(x, t)\n",
    "    ff_freqs_Rxx, ff_values_Rxx = PSD_by_Autocovariance(x, t)\n",
    "    # Visualize the results and compare them\n",
    "    fig, ax = plt.subplots()\n",
    "    ax.plot(PSD_ffreqs, PSD_values, label = \"direct\")\n",
    "    ax.plot(ff_freqs_Rxx, ff_values_Rxx.real, label = \"Rxx real\")\n",
    "    ax.plot(ff_freqs_Rxx, ff_values_Rxx.imag, label = \"Rxx imag\")\n",
    "    # If needed, restict the horizontal axis\n",
    "    #ax.set_xlim([0, 20])\n",
    "    ax.set_xlabel('Frequency (Hz)')\n",
    "    ax.set_ylabel('PSD (V^2/Hz)')\n",
    "    plt.legend(loc=\"upper right\")\n",
    "    plt.show()\n",
    "\n",
    "# Std by psd works only if mean is zero\n",
    "# Parseval Theorem\n",
    "def STD_by_psd(x, t):\n",
    "    if (abs(np.mean(x)) > 0.1):\n",
    "        print(\"Achtung: Std mit PSD auszurechnen muss mean=0 haben!!!!!!\")\n",
    "        print(\"Error!!!!!!\")\n",
    "     # Compute the PSD\n",
    "    freqs, PSD_values = PSD(x, t)\n",
    "    # Sum the PSD values, multiply them by the frequency interval and return the square root of the sum\n",
    "    return np.sqrt(np.sum(PSD_values) * (freqs[1] - freqs[0]))\n",
    "\n",
    "# Maximale Frequenz, die ohne Aliasing gesampelt werden kann\n",
    "# return: f_max (Nyquist Freq)\n",
    "def nyquist_frequency_fmax(delta_t):\n",
    "    return 1/(2*delta_t)\n",
    "\n",
    "# delta_f = Frequenzauflösung (kleinster Unterscheidbarer Frequenzintervall)\n",
    "# N*delta_t = Messzeit T\n",
    "# N anz messpunkte\n",
    "# delta_t Messintervall\n",
    "def frequenzaufloesung_delta_f(N, delta_t):\n",
    "    f_max = nyquist_frequency_fmax(delta_t)\n",
    "    return 2*f_max / N\n",
    "\n"
   ]
  },
  {
   "cell_type": "markdown",
   "metadata": {},
   "source": [
    "##### Maximum Likelihood, Likelihood Funktion, Log-Likelihood Funktion\n",
    "- Die Likelihood Funktion ist KEINE Wahrscheinlichkeitsverteilung,\n",
    "- insbesonderen NICHT normiert"
   ]
  },
  {
   "cell_type": "code",
   "execution_count": null,
   "metadata": {},
   "outputs": [],
   "source": [
    "# TODO TODO TODO"
   ]
  },
  {
   "cell_type": "markdown",
   "metadata": {},
   "source": [
    "##### Linear fit by trying out parameters\n",
    "Wie Ex. 8 Aufg. 1"
   ]
  },
  {
   "cell_type": "code",
   "execution_count": 221,
   "metadata": {},
   "outputs": [
    {
     "data": {
      "image/png": "[encoded data removed]",
      "text/plain": [
       "<Figure size 170.079x170.079 with 1 Axes>"
      ]
     },
     "metadata": {
      "needs_background": "light"
     },
     "output_type": "display_data"
    },
    {
     "data": {
      "image/png": "[encoded data removed]",
      "text/plain": [
       "<Figure size 226.772x170.079 with 2 Axes>"
      ]
     },
     "metadata": {
      "needs_background": "light"
     },
     "output_type": "display_data"
    },
    {
     "name": "stdout",
     "output_type": "stream",
     "text": [
      "a0=0.6\n",
      "a1=1.0\n"
     ]
    },
    {
     "data": {
      "image/png": "[encoded data removed]",
      "text/plain": [
       "<Figure size 170.079x170.079 with 1 Axes>"
      ]
     },
     "metadata": {
      "needs_background": "light"
     },
     "output_type": "display_data"
    }
   ],
   "source": [
    "cm = 1/2.54\n",
    "\n",
    "# helper function for 2D plot. You don't need to do anything here. This function moves an array by half a space so the 2D plot function further down in the notebook is correctly aligned with the array endpoints. \n",
    "def remesh(array):\n",
    "    dx = array[1]-array[0]\n",
    "    array = array-dx # shift by one unit to the left\n",
    "    return np.hstack((array, array[-1]+dx)) # add one element on the right and return\n",
    "\n",
    "# fit a model: y = a0 + a1x by trial and error, minimizing Residual\n",
    "def linear_fit_by_trying_out_parameters(xs, ys, sigmas, a0_tries, a1_tries):\n",
    "    a0_try = a0_tries#np.linspace(0,2,201)\n",
    "    a1_try = a1_tries#np.linspace(0,3,301)\n",
    "    x, y, sig = xs, ys, sigmas\n",
    "    # Plot Values surrounded by errors so we can see some stuff\n",
    "    fig, ax = plt.subplots(1,1,figsize=(6*cm, 6*cm))\n",
    "    ax.errorbar(x, y, yerr=sig, linestyle='', capsize=3, label='y(x)')\n",
    "    ax.set_xlabel('x')\n",
    "    ax.set_ylabel('y')\n",
    "    ax.set_title('data')\n",
    "    #ax.set_xlim([0,1])\n",
    "    #ax.set_ylim([0,2])\n",
    "    ax.legend(loc='upper left')\n",
    "    plt.show()\n",
    "    ###\n",
    "    # Compute Residuals\n",
    "    S = np.zeros((len(a1_try), len(a0_try)))\n",
    "    for i, a1_i in enumerate(a1_try):\n",
    "        for j, a0_j in enumerate(a0_try):\n",
    "            S[i,j] = np.sum(1/sig**2 * (y - (a0_j + a1_i*x))**2)\n",
    "    ###\n",
    "    # now plot log(S)\n",
    "    fig, ax = plt.subplots(1,1, figsize=(8*cm, 6*cm))\n",
    "    # shape into a meshgrid for 2D plot\n",
    "    a0_grid, a1_grid = np.meshgrid(remesh(a0_try), remesh(a1_try))\n",
    "    # plot log(S)\n",
    "    c = ax.pcolor(a0_grid, a1_grid, np.log(S))\n",
    "    # cosmetics\n",
    "    fig.colorbar(c, ax=ax, label='log(S)')\n",
    "    ax.set_xlabel('a0')\n",
    "    ax.set_ylabel('a1')\n",
    "    ax.set_title('sum of residuals')\n",
    "    plt.show()\n",
    "    ### MINIMUMS\n",
    "    # by looking for the index with the minimum value of S, we can find the optimum for a0 and a1\n",
    "    min_index_S = np.argmin(S) # this function returns the index of the flattened S array with the minimum value of S\n",
    "    # now we recover the correct a0 and a1 fit values\n",
    "    a0_index = min_index_S % len(a0_try)\n",
    "    a1_index = min_index_S // len(a0_try)\n",
    "    a0_fit = a0_try[a0_index]\n",
    "    a1_fit = a1_try[a1_index]\n",
    "    # ==============\n",
    "    print(f'a0={a0_fit:.1f}')\n",
    "    print(f'a1={a1_fit:.1f}')\n",
    "    # finally, we plot the data with the acquired fit values \n",
    "    fig, ax = plt.subplots(1,1,figsize=(6*cm, 6*cm))\n",
    "    ax.errorbar(x, y, yerr=sig, linestyle='', capsize=3, label='y(x)')\n",
    "    ax.plot(x, a0_fit + a1_fit*x, label='fit')\n",
    "    ax.set_title('data with fit \\n a0=%.1f, a1=%.1f' % (a0_fit, a1_fit))\n",
    "    ax.set_xlabel('x')\n",
    "    ax.set_ylabel('y')\n",
    "    #ax.set_xlim([0,1])\n",
    "    #ax.set_ylim([0,2])\n",
    "    ax.legend(loc='upper left')\n",
    "    plt.show()\n",
    "    return a0_fit, a1_fit\n",
    "\n",
    "def example_generate_data_and_linear_fit_by_trying_out_parameters():\n",
    "    x = np.linspace(0,1,20, endpoint=False) # x values\n",
    "    y = x + np.random.normal(loc=0, scale=0.1, size=len(x)) + 0.5 # y values with some gaussian randomness (mu=0, sigma=0.1) and offset of 0.5\n",
    "    sig = 0.1 + np.random.random(len(x))*0.1 # sigma values\n",
    "    a0_tries = np.linspace(-5, 5, 200)\n",
    "    a1_tries = np.linspace(-5, 5, 200)\n",
    "    linear_fit_by_trying_out_parameters(x,y,sig,a0_tries,a1_tries)\n",
    "example_generate_data_and_linear_fit_by_trying_out_parameters()\n"
   ]
  },
  {
   "cell_type": "markdown",
   "metadata": {},
   "source": [
    "##### Linear fit by calculating analytical solution\n",
    "Wie Ex. 8 Aufg 2"
   ]
  },
  {
   "cell_type": "code",
   "execution_count": 151,
   "metadata": {},
   "outputs": [
    {
     "name": "stdout",
     "output_type": "stream",
     "text": [
      "solution vector:\n",
      "[[0.51227595]\n",
      " [1.02806279]]\n",
      "Covarianz Matrix:\n",
      "[[ 0.00374419 -0.00574309]\n",
      " [-0.00574309  0.01238684]]\n"
     ]
    },
    {
     "data": {
      "image/png": "[encoded data removed]",
      "text/plain": [
       "<Figure size 170.079x198.425 with 1 Axes>"
      ]
     },
     "metadata": {
      "needs_background": "light"
     },
     "output_type": "display_data"
    },
    {
     "name": "stdout",
     "output_type": "stream",
     "text": [
      "a0 =  0.51\n",
      "a1 =  1.03\n",
      "a0_err =  0.06\n",
      "a1_err =  0.11\n"
     ]
    }
   ],
   "source": [
    "# fit a0 + a1*x = y, with analytical method\n",
    "def linear_fit_analytical(xs, ys, sigmas):\n",
    "    x=xs\n",
    "    y=ys\n",
    "    sig = sigmas\n",
    "    w = 1/sig**2\n",
    "    # normalmatrix 2x2\n",
    "    N = np.zeros((2,2))\n",
    "    N[0,0] = np.sum(w)\n",
    "    N[0,1] = np.sum(w * x)\n",
    "    N[1,0] = np.sum(w * x)\n",
    "    N[1,1] = np.sum(w * x**2)\n",
    "    # solution vector\n",
    "    Y = np.zeros((2,1))\n",
    "    Y[0] = np.sum(w * y)\n",
    "    Y[1] = np.sum(w * x * y)\n",
    "    # mit der Lösung\n",
    "    a = np.linalg.inv(N)@Y\n",
    "    # A@B is a shorthand for np.dot(A,B) and retuns the matrix product, while A*B attempts elementwise multiplication\n",
    "    print(\"solution vector:\")\n",
    "    print(a)\n",
    "    # und der Covarianz-Matrix\n",
    "    C = np.linalg.inv(N)\n",
    "    print(\"Covarianz Matrix:\")\n",
    "    print(C)\n",
    "    a0_error = np.sqrt(C[0,0])\n",
    "    a1_error = np.sqrt(C[1,1])\n",
    "    fig, ax = plt.subplots(1,1,figsize=(6*cm, 7*cm))\n",
    "    ax.errorbar(x, y, yerr=sig, linestyle='', capsize=3, label='y(x)')\n",
    "    ax.plot(x, a[0,0] + a[1,0]*x, label='fit')\n",
    "    ax.set_title('data with analytical fit \\n $a0=%.3f \\pm %.3f$ \\n $a1=%.3f \\pm %.3f$' % (a[0], a0_error, a[1], a1_error ))\n",
    "    ax.set_xlabel('x')\n",
    "    ax.set_ylabel('y')\n",
    "    #ax.set_xlim([0,1])\n",
    "    #ax.set_ylim([0,2])\n",
    "    ax.legend(loc='upper left')\n",
    "    fig.tight_layout(pad=0.1)\n",
    "    plt.show()\n",
    "    print('a0 = ', '%.5f' % a[0])\n",
    "    print('a1 = ', '%.5f' % a[1])\n",
    "    print('a0_err = ', '%.5f' % a0_error)\n",
    "    print('a1_err = ', '%.5f' % a1_error)\n",
    "\n",
    "def example_generate_data_and_linear_fit_analytical():\n",
    "    x = np.linspace(0,1,20, endpoint=False) # x values\n",
    "    y = x + np.random.normal(loc=0, scale=0.1, size=len(x)) + 0.5 # y values with some gaussian randomness (mu=0, sigma=0.1) and offset of 0.5\n",
    "    sig = 0.1 + np.random.random(len(x))*0.1 # sigma values\n",
    "    linear_fit_analytical(x,y,sig)\n",
    "#example_generate_data_and_linear_fit_analytical()"
   ]
  },
  {
   "cell_type": "markdown",
   "metadata": {},
   "source": [
    "##### Polynomial fit by calculating analytical solution"
   ]
  },
  {
   "cell_type": "code",
   "execution_count": 179,
   "metadata": {},
   "outputs": [
    {
     "data": {
      "image/png": "[encoded data removed]",
      "text/plain": [
       "<Figure size 170.079x170.079 with 1 Axes>"
      ]
     },
     "metadata": {
      "needs_background": "light"
     },
     "output_type": "display_data"
    },
    {
     "name": "stdout",
     "output_type": "stream",
     "text": [
      "solution vector:\n",
      "[[ 1.99021893]\n",
      " [-4.04237426]\n",
      " [-1.97282609]\n",
      " [ 9.05343547]]\n",
      "Covarianz Matrix:\n",
      "[[ 2.25600629e-03 -2.86339355e-04 -3.86820132e-03 -2.07528899e-05]\n",
      " [-2.86339355e-04  1.79041199e-02 -1.45506663e-03 -2.57759046e-02]\n",
      " [-3.86820132e-03 -1.45506663e-03  1.17374759e-02  3.47184071e-03]\n",
      " [-2.07528899e-05 -2.57759046e-02  3.47184071e-03  4.41827767e-02]]\n",
      "Errors:\n",
      "[0.04749743 0.13380628 0.10833963 0.210197  ]\n",
      "a 0  =  [1.99021893]\n",
      "a 0 _err =  0.047497434547172326\n",
      "a 1  =  [-4.04237426]\n",
      "a 1 _err =  0.133806277674048\n",
      "a 2  =  [-1.97282609]\n",
      "a 2 _err =  0.10833963230644506\n",
      "a 3  =  [9.05343547]\n",
      "a 3 _err =  0.21019699504611952\n"
     ]
    },
    {
     "data": {
      "image/png": "[encoded data removed]",
      "text/plain": [
       "<Figure size 170.079x226.772 with 1 Axes>"
      ]
     },
     "metadata": {
      "needs_background": "light"
     },
     "output_type": "display_data"
    }
   ],
   "source": [
    "def polynomial_fit_analytical(xs, ys, sigmas, polyOrder=3):\n",
    "    x = xs\n",
    "    y = ys\n",
    "    sig = sigmas\n",
    "    n = polyOrder + 1\n",
    "    N = np.zeros((n, n))\n",
    "    Y = np.zeros((n,1))\n",
    "    w = 1/sig**2\n",
    "    for row in range(n):\n",
    "        Y[row] = np.sum(w * x**row * y)\n",
    "        for column in range(n):\n",
    "            N[row, column] = np.sum(w * x**(row + column))\n",
    "    # mit der Lösung\n",
    "    a = np.linalg.inv(N)@Y \n",
    "    print(\"solution vector:\")\n",
    "    print(a)\n",
    "    # und der Covarianz-Matrix\n",
    "    C = np.linalg.inv(N)\n",
    "    print(\"Covarianz Matrix:\")\n",
    "    print(C)\n",
    "    a_errors = np.zeros(n)\n",
    "    for i in range(0, n):\n",
    "        a_errors[i] = np.sqrt(C[i,i])\n",
    "    print(\"Errors:\")\n",
    "    print(a_errors)\n",
    "    fig, ax = plt.subplots(1,1,figsize=(6*cm, 8*cm))\n",
    "    ax.errorbar(x, y, yerr=sig, linestyle='', capsize=3, label='y(x)')\n",
    "    polynom = np.zeros(len(x)) + a[0,0]\n",
    "    for i in range(1, n):\n",
    "        polynom += a[i,0]*x**i\n",
    "    ax.plot(x, polynom, label='fit')\n",
    "    #ax.set_title(polyOrder, 'th order data with analytical fit \\n $a0=%.1f \\pm %.2f$ \\n $a1=%.1f \\pm %.2f$ \\n $a2=%.1f \\pm %.2f$ \\n $a3=%.1f \\pm %.2f$' % (a[0], a_errors[0], a[1], a_errors[1], a[2], a_errors[2], a[3], a_errors[3]))\n",
    "    for i in range(0, n):\n",
    "        print('a',i, ' = ', a[i])\n",
    "        print('a',i, '_err = ', a_errors[i])\n",
    "    ax.set_xlabel('x')\n",
    "    ax.set_ylabel('y')\n",
    "    #ax.set_xlim([-1,1])\n",
    "    #ax.set_ylim([-4,4])\n",
    "    ax.legend(loc='lower right')\n",
    "    fig.tight_layout(pad=0.1)\n",
    "    plt.show()\n",
    "\n",
    "def example_polynomial_fit_third_order_analytical():\n",
    "    # create data\n",
    "    np.random.seed(1) # so we always get the same random data\n",
    "    x = np.linspace(-1,1,20, endpoint=False) # x values\n",
    "    a0, a1, a2, a3 = 2.0, -4.0, -2.0, 9.0\n",
    "    #======================= write here\n",
    "    y = a0 + a1*x + a2*x**2 + a3*x**3 + np.random.normal(loc=0, scale=0.1, size=len(x)) # y values with some gaussian randomness (mu=0, sigma=0.3) and offset of 0.5\n",
    "    #=======================\n",
    "    sig =  0.1 + np.random.random(len(x))*0.1 # sigma values\n",
    "    fig, ax = plt.subplots(1,1,figsize=(6*cm, 6*cm))\n",
    "    ax.errorbar(x, y, yerr=sig, linestyle='', capsize=3, label='y(x)')\n",
    "    ax.set_xlabel('x')\n",
    "    ax.set_ylabel('y')\n",
    "    ax.set_title('data')\n",
    "    ax.legend(loc='lower right')\n",
    "    plt.show()\n",
    "    polynomial_fit_analytical(x, y, sig, polyOrder=3)\n",
    "example_polynomial_fit_third_order_analytical()\n"
   ]
  },
  {
   "cell_type": "markdown",
   "metadata": {},
   "source": [
    "##### Non linear fit by trying out parameters\n",
    "Ex. 9 Aufg. 1"
   ]
  },
  {
   "cell_type": "code",
   "execution_count": 168,
   "metadata": {},
   "outputs": [
    {
     "data": {
      "image/png": "[encoded data removed]",
      "text/plain": [
       "<Figure size 170.079x170.079 with 1 Axes>"
      ]
     },
     "metadata": {
      "needs_background": "light"
     },
     "output_type": "display_data"
    },
    {
     "data": {
      "image/png": "[encoded data removed]",
      "text/plain": [
       "<Figure size 226.772x170.079 with 2 Axes>"
      ]
     },
     "metadata": {
      "needs_background": "light"
     },
     "output_type": "display_data"
    },
    {
     "name": "stdout",
     "output_type": "stream",
     "text": [
      "decay Time T = 3.06450\n",
      "amplitude A = 4.90000\n"
     ]
    },
    {
     "data": {
      "image/png": "[encoded data removed]",
      "text/plain": [
       "<Figure size 170.079x170.079 with 1 Axes>"
      ]
     },
     "metadata": {
      "needs_background": "light"
     },
     "output_type": "display_data"
    }
   ],
   "source": [
    "def exp_decay(t, decay_time, amplitude):\n",
    "    return amplitude * np.exp(-t/decay_time)\n",
    "\n",
    "# Copy this stuff and adjust it to your specific function\n",
    "# this example fits to  y(t) = A*exp(t/T)\n",
    "def non_linear_fit_by_trying_out_parameters(t,y,sig, T_tries, A_tries):\n",
    "    w = 1/sig**2\n",
    "    # Residuals for A_tries x T_tries\n",
    "    S = np.zeros((len(A_tries), len(T_tries)))\n",
    "    for i, amp_i in enumerate(A_tries):\n",
    "        for j, dt_j in enumerate(T_tries):\n",
    "            S[i,j] = np.sum(1/sig**2 * (y - exp_decay(t, dt_j, amp_i))**2) # ADJUST THIS LINE FOR YOUR FUNCTION\n",
    "    # Plot log(S) for minimum visualization\n",
    "    fig, ax = plt.subplots(1,1, figsize=(8*cm, 6*cm))\n",
    "    c = ax.pcolormesh(T_tries, A_tries, np.log(S), shading='nearest')\n",
    "    fig.colorbar(c, ax=ax, label='log(S)')\n",
    "    ax.set_xlabel('decay time T')\n",
    "    ax.set_ylabel('amplitude A')\n",
    "    ax.set_title('sum of residuals')\n",
    "    plt.show()\n",
    "    # Find the minimum A and T inside S\n",
    "    min_index_S = np.argmin(S) # this function returns the index of the flattened S array with the minimum value of S\n",
    "    T_index = min_index_S % len(T_tries)\n",
    "    A_index = min_index_S // len(T_tries)\n",
    "    T_fit = T_tries[T_index] # T fit\n",
    "    A_fit = A_tries[A_index] # A fit\n",
    "    print(f'decay Time T = {T_fit:.5f}')\n",
    "    print(f'amplitude A = {A_fit:.5f}')\n",
    "\n",
    "    # finally, we plot the data with the acquired fit values\n",
    "    fig, ax = plt.subplots(1,1,figsize=(6*cm,6*cm))\n",
    "    ax.errorbar(t, y, yerr=sig, linestyle='', capsize=3, label='y(t)')\n",
    "    ax.plot(t, exp_decay(t, T_fit, A_fit))\n",
    "    ax.set_title('data with fit \\n decay time = %.5f \\n amplitude= %.5f' % (T_fit, A_fit))\n",
    "    ax.set_xlabel('t')\n",
    "    ax.set_ylabel('y')\n",
    "    ax.legend(loc='upper right')\n",
    "    plt.show()\n",
    "\n",
    "def example_non_linear_fit_by_trying_out_parameters():\n",
    "    param_T = 3\n",
    "    param_A = 5\n",
    "    t = np.linspace(0, 10, 20, endpoint=False)\n",
    "    y = exp_decay(t, param_T, param_A) + np.random.normal(loc=0, scale=0.1, size=len(t))\n",
    "    sig = 0.1 + np.random.random(len(t))*0.1\n",
    "    fig, ax = plt.subplots(1,1,figsize=(6*cm, 6*cm))\n",
    "    ax.errorbar(t, y, yerr=sig, linestyle='', capsize=3, label='y(x)')\n",
    "    ax.set_xlabel('x')\n",
    "    ax.set_ylabel('y')\n",
    "    ax.set_title('data')\n",
    "    ax.legend(loc='upper right')\n",
    "    plt.show()\n",
    "\n",
    "    T_tries = np.linspace(0.1, 5, 201)\n",
    "    A_tries = np.linspace(0, 10, 301)\n",
    "    non_linear_fit_by_trying_out_parameters(t, y, sig, T_tries=T_tries, A_tries=A_tries)\n",
    "example_non_linear_fit_by_trying_out_parameters()\n",
    "\n"
   ]
  },
  {
   "cell_type": "markdown",
   "metadata": {},
   "source": [
    "##### Non-linear fit using gradient descent [SIMPLE (WEAK) VERSION]\n",
    "In this exercise we optimize the blind parameter search from Aufg. 1 using gradient descent. The idea is that instead of searching the whole parameter space, we only search along the direction of decreasing S. That should eventually bring us close to the minimum. "
   ]
  },
  {
   "cell_type": "code",
   "execution_count": 203,
   "metadata": {},
   "outputs": [
    {
     "name": "stdout",
     "output_type": "stream",
     "text": [
      "Fit Results:\n",
      "============\n",
      "Best fit:  [3.11452997 2.03583238]\n",
      "Iterations:  25796\n",
      "final da:  0.0009998670206959853\n",
      "============\n",
      "Covariance Matrix: \n",
      "[[ 0.04847485 -0.01222171]\n",
      " [-0.01222171  0.00723501]]\n",
      "a errors:\n",
      "[0.22017004 0.08505884]\n"
     ]
    },
    {
     "data": {
      "image/png": "[encoded data removed]",
      "text/plain": [
       "<Figure size 170.079x170.079 with 1 Axes>"
      ]
     },
     "metadata": {
      "needs_background": "light"
     },
     "output_type": "display_data"
    }
   ],
   "source": [
    "# Sum of residuals for any function f(x) with data y(x) and weights w(x)\n",
    "def Sres(x, y, w, func, a):\n",
    "    return np.sum(w*(y-func(x,a))**2)\n",
    "\n",
    "# Function to compute the Gradient (with dS[i]=dS/da[i])\n",
    "# Numerical calculation of the first derivative of S\n",
    "def dS(S, x, y, w, model, a, delta):\n",
    "    # Number of fit parameters\n",
    "    m = len(a)\n",
    "\n",
    "    delta_S = np.zeros(m)\n",
    "    # iterate over all parameters\n",
    "    for i in range(0, m):\n",
    "        # Differential vector for only the differentiation parameter (partial differentiation)\n",
    "        delta_a = np.zeros(m)\n",
    "        delta_a[i] = delta\n",
    "        # Differential vector at the position a\n",
    "        delta_a_plus = a + delta_a\n",
    "        delta_a_minus = a - delta_a\n",
    "        # Calculate partial differential for i-th parameter \n",
    "        delta_S[i] = (S(x, y, w, model, delta_a_plus)-S(x, y, w, model, delta_a_minus))/(2*delta)\n",
    "    return delta_S\n",
    "\n",
    "# Numerical calculation of the second derivative of S\n",
    "def dS2(S, x, y, w, model, a, delta):\n",
    "    # Number of fit parameters\n",
    "    m = len(a)\n",
    "    # Return vector \n",
    "    delta_S = np.zeros((m,m))\n",
    "    # Iterate over all parameters\n",
    "    for i in range(0,m):\n",
    "        for j in range(0,m):\n",
    "            # Differential vector for only the differentiation parameter (partial differentiation)\n",
    "            delta_ai = np.zeros(m)\n",
    "            delta_aj = np.zeros(m)\n",
    "            delta_ai[i] = delta\n",
    "            delta_aj[j] = delta\n",
    "                       \n",
    "            # Differential vector at the position a\n",
    "            delta_a_plusplus = a + delta_ai + delta_aj\n",
    "            delta_a_plusminus = a + delta_ai - delta_aj\n",
    "            delta_a_minusplus = a - delta_ai + delta_aj\n",
    "            delta_a_minusminus = a - delta_ai - delta_aj\n",
    "            \n",
    "            # Calculate partial differential for i-th parameter \n",
    "            delta_S[i,j] = (S(x, y, w, model, delta_a_plusplus)-S(x, y, w, model, delta_a_minusplus)-S(x, y, w, model, delta_a_plusminus)+S(x, y, w, model, delta_a_minusminus))/(2*delta)**2\n",
    "    return delta_S\n",
    "\n",
    "# Gradient descent without adaptive step size\n",
    "# model: this selects the function we fit to\n",
    "# min gradient: the convergence criterion. When the gradient gets under this value, the loops stops\n",
    "# max_i: max number of iterations\n",
    "# aplha: this parameter determins how fast we adapt the parameters in the search. In each step we change the guess for our fit parameters by alpha x gradient. \n",
    "# delta: this is the range over which we determine the gradient (the slope) of S with respect to a parameter a. We compute (S(a + delta) - S(a - delta))/(2*delta) to approximate the partial derivative of S with respect to a.  \n",
    "def gradient_descent_simple(S, x, y, w, model, a_init, min_gradient, max_i, alpha, delta):\n",
    "    # Gradient descent fitting\n",
    "    # First step\n",
    "    # ----------\n",
    "    # Next Values of parameters\n",
    "    a_next = a_init\n",
    "    # Calculate gradient for given value of parameters\n",
    "    gradient =  dS(S, x, y, w, model, a_next, delta)\n",
    "    # Magnitude of the gradient\n",
    "    d_a = [np.linalg.norm(gradient)]\n",
    "    # Start iteration\n",
    "    # ---------------\n",
    "    i = 0\n",
    "    while ((d_a[i]>min_gradient) and (i<max_i)):\n",
    "        # Calculate next step using the gradient \n",
    "        a_next = a_next - alpha * gradient\n",
    "        # Calculate next gradient and Hesse matrix\n",
    "        gradient =  dS(S, x, y, w, model, a_next, delta)\n",
    "        # Termination condition\n",
    "        d_a = np.append(d_a, np.linalg.norm(gradient))\n",
    "        # Next Step\n",
    "        i = i+1\n",
    "    # =========== compute covariance matrix\n",
    "    hesse = dS2(S, x, y, w, model, a_next, delta)\n",
    "    cov_matrix = 2*np.linalg.inv(hesse)\n",
    "    # ===========\n",
    "    return a_next, i, d_a, cov_matrix\n",
    "\n",
    "def gradient_descent_simple_with_plot(t, y, sig, model, a_init):\n",
    "    w = 1/sig**2\n",
    "\n",
    "    model = model\n",
    "    min_gradient = 0.001\n",
    "    max_i = 30000\n",
    "    alpha = 1e-5\n",
    "    delta = 1e-3\n",
    "    a_init = a_init#np.array([1,1])\n",
    "    a_fit, iterations, d_a, cov_matrix = gradient_descent_simple(Sres, t, y, w, model, a_init, min_gradient, max_i, alpha, delta)\n",
    "    print('Fit Results:')\n",
    "    print('============')\n",
    "    print('Best fit: ', a_fit)\n",
    "    print('Iterations: ', iterations)\n",
    "    print('final da: ', d_a[-1])\n",
    "    print('============')\n",
    "    print('Covariance Matrix: ')\n",
    "    print(cov_matrix)\n",
    "\n",
    "    a_errors = np.zeros(len(a_fit))\n",
    "    for i in range(0, len(a_fit)):\n",
    "        a_errors[i] = np.sqrt(cov_matrix[i,i])\n",
    "    print('a errors:')\n",
    "    print(a_errors)\n",
    "\n",
    "    # finally, we plot the data with the acquired fit values \n",
    "    fig, ax = plt.subplots(1,1,figsize=(6*cm, 6*cm))\n",
    "    ax.errorbar(t, y, yerr=sig, linestyle='', capsize=3, label='y(x)')\n",
    "    ax.plot(t, exp_decay(t, *a_fit), label='fit')\n",
    "    # add the errors of the fit parameters to the title of the plot\n",
    "    # ax.set_title('data with fit \\n decay time = %.1f \\n amplitude= %.1f' % (a_fit[1], a_fit[0])) # <--\n",
    "    ax.set_title('data with fit \\n decay time=$%.1f \\pm %.2f$ \\n amplitude=$%.1f \\pm %.2f$' % (a_fit[1], a_errors[1], a_fit[0], a_errors[0]))\n",
    "    ax.set_xlabel('x')\n",
    "    ax.set_ylabel('y')\n",
    "    ax.legend(loc='upper right')\n",
    "    plt.show()\n",
    "\n",
    "\n",
    "def example_gradient_descent_simple():\n",
    "    # Example model\n",
    "    def exp_decay_model(x, a):\n",
    "        return a[1]*np.exp(-x/a[0])\n",
    "\n",
    "    t = np.linspace(0,10,20, endpoint=False) # x values\n",
    "    y = exp_decay_model(t, [3, 2]) + np.random.normal(loc=0, scale=0.1, size=len(t))\n",
    "    sig = 0.1 + np.random.random(len(t))*0.1 # sigma values\n",
    "\n",
    "    gradient_descent_simple_with_plot(t,y,sig,model=exp_decay_model,a_init=np.array([2,1]))\n",
    "\n",
    "example_gradient_descent_simple()\n"
   ]
  },
  {
   "cell_type": "markdown",
   "metadata": {},
   "source": [
    "##### Non-linear fit using gradient descent [Adaptive Step Size Version]"
   ]
  },
  {
   "cell_type": "code",
   "execution_count": 212,
   "metadata": {},
   "outputs": [
    {
     "name": "stdout",
     "output_type": "stream",
     "text": [
      "Fit Results:\n",
      "============\n",
      "Best fit:  [3.15369424 1.88057277]\n",
      "Iterations:  3312\n",
      "final da:  0.0009972710906925209\n",
      "============\n",
      "Covariance Matrix: \n",
      "[[ 0.07130392 -0.01933848]\n",
      " [-0.01933848  0.01110313]]\n",
      "a errors:\n",
      "[0.26702794 0.10537141]\n"
     ]
    },
    {
     "data": {
      "image/png": "[encoded data removed]",
      "text/plain": [
       "<Figure size 170.079x170.079 with 1 Axes>"
      ]
     },
     "metadata": {
      "needs_background": "light"
     },
     "output_type": "display_data"
    },
    {
     "name": "stdout",
     "output_type": "stream",
     "text": [
      "Fit Results:\n",
      "============\n",
      "Best fit:  [-0.08364907  5.18225756]\n",
      "Iterations:  1401\n",
      "final da:  0.0009980971459430546\n",
      "============\n",
      "Covariance Matrix: \n",
      "[[ 0.02315624 -0.00113982]\n",
      " [-0.00113982  0.01640396]]\n",
      "a errors:\n",
      "[0.15217175 0.12807793]\n"
     ]
    },
    {
     "data": {
      "image/png": "[encoded data removed]",
      "text/plain": [
       "<Figure size 170.079x170.079 with 1 Axes>"
      ]
     },
     "metadata": {
      "needs_background": "light"
     },
     "output_type": "display_data"
    }
   ],
   "source": [
    "def gradient_descent_adaptive(S, x, y, w, model, a_init, min_gradient, max_i, alpha, delta):\n",
    "    # Gradient descent fitting\n",
    "    # First step\n",
    "    # ----------\n",
    "    # Next Values of parameters\n",
    "    a_next = a_init\n",
    "    # Calculate gradient and Hesse matrix for given value of parameters\n",
    "    gradient =  dS(S, x, y, w, model, a_next, delta)\n",
    "    hesse = dS2(S, x, y, w, model, a_next, delta)\n",
    "    hdiag = np.diagonal(hesse)\n",
    "    # Magnitude of the gradient\n",
    "    d_a = [np.linalg.norm(gradient)]\n",
    "    # Start iteration\n",
    "    # ---------------\n",
    "    i = 0\n",
    "    while ((d_a[i]>min_gradient) and (i<max_i)):\n",
    "        # Calculate next step using the gradient \n",
    "        # ============= scale alpha with the inverse of the second derivative\n",
    "        a_next = a_next - alpha * 1/(hdiag+0.0001) * gradient\n",
    "        # =============\n",
    "        # Calculate next gradient and Hesse matrix\n",
    "        gradient =  dS(S, x, y, w, model, a_next, delta)\n",
    "        hesse = dS2(S, x, y, w, model, a_next, delta)\n",
    "        hdiag = np.diagonal(hesse)\n",
    "        # Termination condition\n",
    "        d_a = np.append(d_a, np.linalg.norm(gradient))\n",
    "        # Next Step\n",
    "        i = i+1\n",
    "    # =========== compute covariance matrix\n",
    "    cov_matrix = 2*np.linalg.inv(hesse)\n",
    "    # ===========\n",
    "    return a_next, i, d_a, cov_matrix\n",
    "\n",
    "def gradient_descent_adaptive_with_plot(t, y, sig, model, a_init, alpha=1e-2, delta=1e-3, a_labels=['decay_time', 'amplitude']):\n",
    "    w = 1/sig**2\n",
    "\n",
    "    model = model\n",
    "    min_gradient = 0.001\n",
    "    max_i = 12000\n",
    "    alpha = alpha#1e-2\n",
    "    delta = delta#1e-3\n",
    "    a_init = a_init#np.array([1,1])\n",
    "    a_fit, iterations, d_a, cov_matrix = gradient_descent_adaptive(Sres, t, y, w, model, a_init, min_gradient, max_i, alpha, delta)\n",
    "    print('Fit Results:')\n",
    "    print('============')\n",
    "    print('Best fit: ', a_fit)\n",
    "    print('Iterations: ', iterations)\n",
    "    print('final da: ', d_a[-1])\n",
    "    print('============')\n",
    "    print('Covariance Matrix: ')\n",
    "    print(cov_matrix)\n",
    "\n",
    "    a_errors = np.zeros(len(a_fit))\n",
    "    for i in range(0, len(a_fit)):\n",
    "        a_errors[i] = np.sqrt(cov_matrix[i,i])\n",
    "    print('a errors:')\n",
    "    print(a_errors)\n",
    "\n",
    "    # finally, we plot the data with the acquired fit values \n",
    "    fig, ax = plt.subplots(1,1,figsize=(6*cm, 6*cm))\n",
    "    ax.errorbar(t, y, yerr=sig, linestyle='', capsize=3, label='y(x)')\n",
    "    ax.plot(t, model(t, a_fit), label='fit')\n",
    "    # add the errors of the fit parameters to the title of the plot\n",
    "    # ax.set_title('data with fit \\n decay time = %.1f \\n amplitude= %.1f' % (a_fit[1], a_fit[0])) # <--\n",
    "    ax.set_title('data with fit \\n %s=$%.3f \\pm %.3f$ \\n %s=$%.3f \\pm %.3f$' % (a_labels[1], a_fit[1], a_errors[1], a_labels[0], a_fit[0], a_errors[0]))\n",
    "    ax.set_xlabel('x')\n",
    "    ax.set_ylabel('y')\n",
    "    ax.legend(loc='upper right')\n",
    "    plt.show()\n",
    "\n",
    "def example_gradient_descent_adaptive_decay_model():\n",
    "    # Example model\n",
    "    def exp_decay_model(x, a):\n",
    "        return a[1]*np.exp(-x/a[0])\n",
    "    t = np.linspace(0,10,20, endpoint=False) # x values\n",
    "    y = exp_decay_model(t, [3, 2]) + np.random.normal(loc=0, scale=0.1, size=len(t))\n",
    "    sig = 0.1 + np.random.random(len(t))*0.1 # sigma values\n",
    "    gradient_descent_adaptive_with_plot(\n",
    "        t,y,sig,\n",
    "        model=exp_decay_model,\n",
    "        a_init=np.array([1,1]),\n",
    "        a_labels=['T', 'A'])\n",
    "example_gradient_descent_adaptive_decay_model()\n",
    "\n",
    "def example_gradient_descent_adaptive_gaussian_model():\n",
    "    def gaussian_model(x, a):\n",
    "        x0 = a[0]\n",
    "        std = a[1]\n",
    "        return np.exp(-1/2 * ((x-x0)/std)**2)\n",
    "    x = np.linspace(-20,20,200,endpoint=False)\n",
    "    x0 = 0\n",
    "    std = 5\n",
    "    y = gaussian_model(x, np.array([x0, std])) + np.random.normal(loc=0, scale=0.1, size=len(x))\n",
    "    sig = 0.1 + np.random.random(len(x))*0.1\n",
    "    gradient_descent_adaptive_with_plot(\n",
    "        x,y,sig,\n",
    "        model=gaussian_model,\n",
    "        a_init=[1,1],\n",
    "        alpha=0.01,\n",
    "        delta=0.0001,\n",
    "        a_labels=['mean', 'std'])\n",
    "example_gradient_descent_adaptive_gaussian_model()\n",
    "    "
   ]
  },
  {
   "cell_type": "code",
   "execution_count": null,
   "metadata": {},
   "outputs": [],
   "source": [
    "##### Fitting using lmfit"
   ]
  },
  {
   "cell_type": "code",
   "execution_count": 7,
   "metadata": {},
   "outputs": [
    {
     "name": "stdout",
     "output_type": "stream",
     "text": [
      "[[Model]]\n",
      "    Model(gaussian)\n",
      "[[Fit Statistics]]\n",
      "    # fitting method   = leastsq\n",
      "    # function evals   = 46\n",
      "    # data points      = 200\n",
      "    # variables        = 3\n",
      "    chi-square         = 5935.37412\n",
      "    reduced chi-square = 30.1288027\n",
      "    Akaike info crit   = 684.073595\n",
      "    Bayesian info crit = 693.968547\n",
      "[[Variables]]\n",
      "    amplitude:  13.2262787 +/- 0.25999789 (1.97%) (init = -0.5)\n",
      "    center:     0.04745275 +/- 0.12007036 (253.03%) (init = 0.4215385)\n",
      "    sigma:      5.21747153 +/- 0.11458748 (2.20%) (init = 7.4)\n",
      "    fwhm:       12.2862063 +/- 0.26983290 (2.20%) == '2.3548200*sigma'\n",
      "    height:     1.01131784 +/- 0.01922219 (1.90%) == '0.3989423*amplitude/max(1e-15, sigma)'\n",
      "[[Correlations]] (unreported correlations are < 0.100)\n",
      "    C(amplitude, sigma)  = 0.588\n",
      "    C(amplitude, center) = -0.179\n",
      "    C(center, sigma)     = -0.132\n"
     ]
    },
    {
     "data": {
      "image/png": "[encoded data removed]",
      "text/plain": [
       "<Figure size 432x288 with 1 Axes>"
      ]
     },
     "metadata": {
      "needs_background": "light"
     },
     "output_type": "display_data"
    }
   ],
   "source": [
    "import numpy as np\n",
    "from lmfit import Model\n",
    "from lmfit.models import GaussianModel, ConstantModel\n",
    "import matplotlib.pyplot as plt\n",
    "\n",
    "def lmfit_fitting_gaussian(x, y, sig):\n",
    "    def gaussian_model(x, a):\n",
    "        x0, std = a[0], a[1]\n",
    "        return np.exp(-1/2 * ((x-x0)/std)**2)\n",
    "    w = 1/sig**2 # Or: 1/sig**2\n",
    "    model = GaussianModel()\n",
    "    pars = model.guess(y, x=x, amplitude=-0.5)\n",
    "    result = model.fit(y, pars, x=x, weights=w)\n",
    "    print(result.fit_report())\n",
    "    plt.plot(x, y, 'ro', ms=6)\n",
    "    plt.plot(x, result.best_fit, 'b--')\n",
    "    \n",
    "def example_lmfit_fitting_gaussian():\n",
    "    def gaussian_model(x, a):\n",
    "        x0 = a[0]\n",
    "        std = a[1]\n",
    "        return np.exp(-1/2 * ((x-x0)/std)**2)\n",
    "    x = np.linspace(-20,20,200, endpoint=False) # x values\n",
    "    x0 = 0\n",
    "    std = 5\n",
    "    y = gaussian_model(x, [x0, std]) + np.random.normal(loc=0, scale=0.1, size=len(x))  \n",
    "    sig = 0.1 + np.random.random(len(x))*0.1 # sigma values\n",
    "    lmfit_fitting_gaussian(x, y, sig)\n",
    "example_lmfit_fitting_gaussian()"
   ]
  },
  {
   "cell_type": "markdown",
   "metadata": {},
   "source": [
    "##### Polynomial Fit Polynom Fit mit Numpy"
   ]
  },
  {
   "cell_type": "code",
   "execution_count": 35,
   "metadata": {},
   "outputs": [
    {
     "name": "stdout",
     "output_type": "stream",
     "text": [
      "[ 2.39960908  1.78313191 20.37888229] \n",
      " [[ 5.76210853e-05 -8.66510237e-22 -7.83646760e-05]\n",
      " [-8.66510237e-22  6.26733020e-05 -9.51676677e-22]\n",
      " [-7.83646760e-05 -9.51676677e-22  1.91811650e-04]]\n"
     ]
    },
    {
     "data": {
      "image/png": "[encoded data removed]",
      "text/plain": [
       "<Figure size 170.079x170.079 with 1 Axes>"
      ]
     },
     "metadata": {
      "needs_background": "light"
     },
     "output_type": "display_data"
    }
   ],
   "source": [
    "import numpy as np\n",
    "from matplotlib import pyplot as plt\n",
    "\n",
    "def example_model(x, a):\n",
    "    return a[2] + a[1]*x + a[0]*x**2\n",
    "\n",
    "x = np.linspace(-2, 2, 101)\n",
    "y = example_model(x, [2.4, 1.8, 20.4]) + 0.1*np.array([np.random.normal() for i in range(0,101)])\n",
    "w = np.ones(101)*0.05\n",
    "\n",
    "# Polifit\n",
    "degree_ = 2\n",
    "a, cov = np.polyfit(x, y, degree_, w = w, cov = True)\n",
    "\n",
    "print(a, \"\\n\",cov)\n",
    "\n",
    "cm = 1/2.54\n",
    "fig, ax = plt.subplots(1,1,figsize=(6*cm, 6*cm))\n",
    "ax.errorbar(x, y, yerr=w, linestyle='', capsize=3, label='y(x)')\n",
    "ax.plot(x, example_model(x, a), label='fit')\n",
    "ax.set_xlabel('X')\n",
    "ax.set_ylabel('Y(X)')\n",
    "plt.show()"
   ]
  },
  {
   "cell_type": "markdown",
   "metadata": {},
   "source": [
    "##### Exp Fit Exponential Fit Numpy"
   ]
  },
  {
   "cell_type": "code",
   "execution_count": 41,
   "metadata": {},
   "outputs": [
    {
     "name": "stdout",
     "output_type": "stream",
     "text": [
      "Coefficients (a's):\n",
      "[4.06944544 0.49840469]\n",
      "Covariance Matrix:\n",
      "[[ 5.13492746e-05 -1.27543441e-06]\n",
      " [-1.27543441e-06  3.18254636e-08]]\n"
     ]
    },
    {
     "data": {
      "image/png": "[encoded data removed]",
      "text/plain": [
       "<Figure size 432x288 with 1 Axes>"
      ]
     },
     "metadata": {
      "needs_background": "light"
     },
     "output_type": "display_data"
    }
   ],
   "source": [
    "from scipy.optimize import curve_fit\n",
    "\n",
    "x = np.linspace(0,10,101)\n",
    "y = 4*np.exp(0.5*x) + np.random.random(101)\n",
    "y_err = 100*np.random.random(101)\n",
    "\n",
    "def example_model_exp(x, a0, a1):\n",
    "    return a0*np.exp(a1*x)\n",
    "\n",
    "a, cov = curve_fit(example_model_exp, x, y, sigma = y_err)\n",
    "\n",
    "print(\"Coefficients (a's):\")\n",
    "print(a)\n",
    "print(\"Covariance Matrix:\")\n",
    "print(cov)\n",
    "\n",
    "fig, ax = plt.subplots(1,1)\n",
    "ax.errorbar(x, y, yerr=y_err, linestyle='', capsize=3, label='y(x)')\n",
    "ax.plot(x, example_model_exp(x, a[0], a[1]), label='fit', color='r')\n",
    "ax.set_xlabel('x')\n",
    "ax.set_ylabel('y')\n",
    "ax.legend(loc='upper left')\n",
    "plt.show()"
   ]
  },
  {
   "cell_type": "markdown",
   "metadata": {},
   "source": [
    "##### Andere Funktionen fitten mit scipy.optimize.curve_fit"
   ]
  },
  {
   "cell_type": "code",
   "execution_count": 84,
   "metadata": {},
   "outputs": [
    {
     "name": "stdout",
     "output_type": "stream",
     "text": [
      "Coefficients (a's):\n",
      "[3. 2. 1.]\n",
      "Covariance Matrix:\n",
      "[[ 1.37787073e-32 -1.62110252e-33 -5.43028783e-33]\n",
      " [-1.62110252e-33  5.92156827e-34  1.33693439e-33]\n",
      " [-5.43028783e-33  1.33693439e-33  3.61399444e-33]]\n"
     ]
    },
    {
     "data": {
      "image/png": "[encoded data removed]",
      "text/plain": [
       "<Figure size 432x288 with 1 Axes>"
      ]
     },
     "metadata": {
      "needs_background": "light"
     },
     "output_type": "display_data"
    }
   ],
   "source": [
    "from scipy.optimize import curve_fit\n",
    "\n",
    "def example_model_3(x, a0, a1, a2):\n",
    "    return a0*np.sin(a1*x) + a2*x\n",
    "\n",
    "x = np.linspace(-5,5,600)\n",
    "y = example_model_3(x, 3, 2, 1)\n",
    "y_err = 0.5*np.random.random(600)\n",
    "\n",
    "a, cov = curve_fit(example_model_3, x, y, sigma = y_err)\n",
    "\n",
    "print(\"Coefficients (a's):\")\n",
    "print(a)\n",
    "print(\"Covariance Matrix:\")\n",
    "print(cov)\n",
    "\n",
    "fig, ax = plt.subplots(1,1)\n",
    "ax.errorbar(x, y, yerr=y_err, linestyle='', capsize=3, label='y(x)')\n",
    "ax.plot(x, example_model_3(x, a[0], a[1], a[2]), label='fit', color='r')\n",
    "ax.set_xlabel('x')\n",
    "ax.set_ylabel('y')\n",
    "ax.legend(loc='upper left')\n",
    "plt.show()"
   ]
  },
  {
   "cell_type": "code",
   "execution_count": null,
   "metadata": {},
   "outputs": [],
   "source": []
  }
 ],
 "metadata": {
  "interpreter": {
   "hash": "86a6feb1a6fecea27d619e2dbbc2ccb7691ddc89c77e6f1e0e9ad857efd275d2"
  },
  "kernelspec": {
   "display_name": "Python 3.9.7 ('base')",
   "language": "python",
   "name": "python3"
  },
  "language_info": {
   "codemirror_mode": {
    "name": "ipython",
    "version": 3
   },
   "file_extension": ".py",
   "mimetype": "text/x-python",
   "name": "python",
   "nbconvert_exporter": "python",
   "pygments_lexer": "ipython3",
   "version": "3.9.7"
  },
  "orig_nbformat": 4
 },
 "nbformat": 4,
 "nbformat_minor": 2
}
