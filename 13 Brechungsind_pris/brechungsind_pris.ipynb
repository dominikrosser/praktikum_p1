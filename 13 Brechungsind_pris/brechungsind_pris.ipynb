{
 "cells": [
  {
   "cell_type": "markdown",
   "metadata": {},
   "source": [
    "# Formeln vom Manual"
   ]
  },
  {
   "cell_type": "code",
   "execution_count": 28,
   "metadata": {},
   "outputs": [],
   "source": [
    "import numpy as np\n",
    "import uncertainties as u\n",
    "from uncertainties import ufloat\n",
    "from uncertainties.umath import sqrt\n",
    "from uncertainties.umath import __all__\n",
    "from uncertainties.umath import *\n",
    "import uncertainties.unumpy as unp\n",
    "import scipy.constants\n",
    "import os\n",
    "import matplotlib.pyplot as plt\n",
    "from scipy.stats import linregress\n",
    "import pandas # pip install Jinja2\n",
    "import pint # pip install pint OR conda install pint\n",
    "units = pint.UnitRegistry()\n",
    "units.default_format = '~'\n",
    "umean = u.wrap(np.mean)\n",
    "ustd = u.wrap(np.std)\n",
    "usin = u.wrap(np.sin)\n",
    "no_unit = (units.m/units.m)\n",
    "usquare = u.wrap(np.square)\n",
    "import warnings\n",
    "warnings.simplefilter(\"ignore\")\n",
    "cm = 1/2.54\n",
    "\n",
    "def strip_units(np_arr):\n",
    "    return np.array([(a.to_base_units().magnitude if type(a)!=float else a) for a in np_arr])\n",
    "\n",
    "def extr_values(np_arr):\n",
    "    return unp.nominal_values(np_arr)\n",
    "\n",
    "def extr_sig(np_arr):\n",
    "    return unp.std_devs(np_arr)\n",
    "\n",
    "def errorbar_plot_with_linregress(X, Y, SIG_Y, errbarlabel='errbarlabel', xlabel='xlabel', ylabel='ylabel', errbarcolor='blue', linfitlabel='linfitlabel', nolinregress=False):\n",
    "    result = scipy.stats.linregress(X, Y)\n",
    "    #slope, intercept, rvalue, pvalue, sevalue, inteerr\n",
    "    print(\"slope: \", result.slope)\n",
    "    print(\"slope_err:\", result.stderr)\n",
    "    print(\"intercept: \", result.intercept)\n",
    "    x_axis_spaced = np.linspace(np.min(X), np.max(X), 10)\n",
    "    fig, ax = plt.subplots(1,1,figsize=(8*cm, 8*cm))\n",
    "    #ax.plot(x,y,linestyle='-', color='red')\n",
    "    if not nolinregress:\n",
    "        ax.plot(x_axis_spaced, result.slope*x_axis_spaced + result.intercept, 'r--', label=linfitlabel)\n",
    "    ax.errorbar(X, Y, yerr=SIG_Y, linestyle='', color=errbarcolor, capsize=3, label=errbarlabel)\n",
    "    ax.set_xlabel(xlabel)\n",
    "    ax.set_ylabel(ylabel)\n",
    "    #ax.set_xlim([-1,1])\n",
    "    #ax.set_ylim([-4,4])\n",
    "    ax.legend(loc='upper left')\n",
    "    plt.show()\n",
    "    if not nolinregress:\n",
    "        return u.ufloat(result.slope, result.stderr), u.ufloat(result.intercept, result.intercept_stderr) # (slope+=unc), (intercept+=unc)\n",
    "\n",
    "# Formel (2)\n",
    "# n'2(nu) = 1 + A/(nu0dash^2-nu^2)\n",
    "# nu0dash, A sind Materialkonstanten\n",
    "def n_squared_of_nu(nu, nu0dash, A):\n",
    "    n_sq = 1 + A/(u.wrap(np.square)(nu0dash)-u.wrap(np.square)(nu))\n",
    "    return n_sq\n",
    "\n",
    "def n_squared_of_nu_squared(nu_squared, nu0dash, A):\n",
    "    n_sq = 1 + A/(nu0dash**2-nu_squared)\n",
    "    return n_sq\n",
    "\n",
    "# Formel (2) und die Wurzel gezogen\n",
    "def n_of_nu(nu, nu0dash, A):\n",
    "    #n = u.wrap(np.sqrt)(n_squared_of_nu(nu, nu0dash,A))\n",
    "    n = np.array([u.wrap(np.sqrt)(n_squared_of_nu(nu_i, nu0dash, A)) for nu_i in nu])\n",
    "    return n\n",
    "\n",
    "def n_of_phi_delta0(phi, delta0):\n",
    "    left = usin((delta0 + phi)/2)\n",
    "    right = usin(phi/2)\n",
    "    eta = left/right\n",
    "    return eta\n",
    "\n",
    "# nu0dash, A sind Materialkonstanten\n",
    "def f_of_nu_squared(nu_squared, nu0dash, A):\n",
    "    denom = (n_squared_of_nu_squared(nu_squared, nu0dash, A)-1.0)\n",
    "    f = 1/ np.array(strip_units([(d if np.abs(d) >= 0.0000001 else 0.0000001) for d in denom])) * no_unit\n",
    "    return f\n",
    "\n",
    "# used if n_squared is already known\n",
    "def f_of_n_squared(n_squared):\n",
    "    f = 1/(n_squared-1)\n",
    "    return f\n",
    "\n",
    "# calculate frequency from wavelength\n",
    "def nu_of_lambda(lambda_, c0=scipy.constants.c*units.meter/units.s):\n",
    "    return c0/lambda_\n",
    "\n",
    "def delta0_of_A1_A2(A1, A2):\n",
    "    return (A1 - A2)/2\n",
    "\n",
    "# Testchange"
   ]
  },
  {
   "cell_type": "markdown",
   "metadata": {},
   "source": [
    "# First Task: Determine $\\varphi$\n",
    "Measure both positions where the reflections of the slit image are observed: $A_{1}$, $A_{2}$. Then $\\beta = A_{1} - A_{2}$. Make sure the signs are correct (can we take the absolute value?). Do this three times, so we get three $\\beta$ values. Take the mean of $\\beta$. Then $\\varphi = \\pi - \\beta$."
   ]
  },
  {
   "cell_type": "code",
   "execution_count": 29,
   "metadata": {},
   "outputs": [
    {
     "name": "stdout",
     "output_type": "stream",
     "text": [
      "Table of Data:\n",
      "           A1 [rad]            A2 []           $\\beta$\n",
      "0  -0.6880+/-0.0006  1.4003+/-0.0006  -2.0883+/-0.0008\n",
      "1  -0.6673+/-0.0006  1.4268+/-0.0006  -2.0941+/-0.0008\n",
      "2  -0.5533+/-0.0006  1.5405+/-0.0006  -2.0938+/-0.0008 \n",
      "\n",
      "Table latex:\n",
      "\\begin{tabular}{|l|l|l|l|}\n",
      " & A1 [rad] & A2 [] & $\\beta$ \\\\\n",
      "0 & -0.6880+/-0.0006 & 1.4003+/-0.0006 & -2.0883+/-0.0008 \\\\\n",
      "1 & -0.6673+/-0.0006 & 1.4268+/-0.0006 & -2.0941+/-0.0008 \\\\\n",
      "2 & -0.5533+/-0.0006 & 1.5405+/-0.0006 & -2.0938+/-0.0008 \\\\\n",
      "\\end{tabular}\n",
      " \n",
      "\n",
      "Mean(beta)+=prop_unc_a:  -2.0921+/-0.0005 rad \n",
      "\n",
      "Mean(beta)+=Std(betas): -2.0921+/-0.0027 rad\n",
      "Standard deviation of the betas was higher so this was taken instead of the propagation of the errors of measurement of A.\n",
      "Beta End Result:  2.0921+/-0.0027 rad\n",
      "Phi end result: 1.0495+/-0.0005 rad\n"
     ]
    },
    {
     "data": {
      "text/html": [
       "119.87+/-0.15"
      ],
      "text/latex": [
       "$119.87+/-0.15\\$"
      ],
      "text/plain": [
       "119.86666666666666+/-0.15335748602047816 <Unit('dimensionless')>"
      ]
     },
     "execution_count": 29,
     "metadata": {},
     "output_type": "execute_result"
    }
   ],
   "source": [
    "A1_deg, A2_deg, A1_deg_minutes, A2_deg_minutes = np.genfromtxt(os.path.join(os.getcwd(), \"task1_measure_phi_data.csv\"), delimiter=',', skip_header=1, unpack=True)\n",
    "A1_meas_deg = A1_deg - 360 + (1.0/60.0)*A1_deg_minutes\n",
    "A2_meas_deg = A2_deg + (1.0/60.0)*A2_deg_minutes\n",
    "A1_meas = np.radians(A1_meas_deg)\n",
    "A2_meas = np.radians(A2_meas_deg)\n",
    "\n",
    "A_meas_uncertainty_guess_deg = (1.0/60.0)*(2) # = (2)degmin' is unc of device but its difficult to read off minutes so we set 2' A meas uncertainty in degrees\n",
    "A_meas_uncertainty_guess = np.radians(A_meas_uncertainty_guess_deg)\n",
    "A_unit = units.rad\n",
    "A1s = np.array([u.ufloat(a1, A_meas_uncertainty_guess) for a1 in A1_meas]) *A_unit\n",
    "A2s = np.array([u.ufloat(a2, A_meas_uncertainty_guess) for a2 in A2_meas]) *A_unit\n",
    "\n",
    "Betas =  (A1s - A2s)\n",
    "Betas_Std = np.std(extr_values(Betas))\n",
    "\n",
    "Beta = umean(Betas)\n",
    "\n",
    "# PRINT AND GENERATE LATEX\n",
    "DF_TABLE_1 = pandas.DataFrame({\"A1 [%s]\"%(units.rad): A1s, \"A2 []\": A2s, r'$\\beta$': Betas})\n",
    "print(\"Table of Data:\")\n",
    "print(DF_TABLE_1, '\\n')\n",
    "print(\"Table latex:\")\n",
    "print(DF_TABLE_1.style.to_latex(column_format='|l|l|l|l|'), '\\n')\n",
    "print(\"Mean(beta)+=prop_unc_a: \", Beta, '\\n')\n",
    "print(\"Mean(beta)+=Std(betas):\", u.ufloat(Beta.nominal_value,Betas_Std)*A_unit)\n",
    "\n",
    "Beta_Result = Beta\n",
    "if (Beta.std_dev < Betas_Std):\n",
    "    Beta_Result = u.ufloat(Beta.nominal_value, Betas_Std)*A_unit\n",
    "    print(\"Standard deviation of the betas was higher so this was taken instead of the propagation of the errors of measurement of A.\")\n",
    "else:\n",
    "    Beta_Result = Beta\n",
    "    print(\"Standard deviation of the betas was lower than the propagation of the errors of measurement of A. So the propagated error was taken.\")\n",
    "\n",
    "print(\"Beta End Result: \", np.abs(Beta_Result))\n",
    "\n",
    "Phi_Result = np.abs((scipy.constants.pi*A_unit - Beta) - 2*scipy.constants.pi*A_unit)\n",
    "#Phi_Result_Deg = np.abs(((scipy.constants.pi*A_unit - Beta) / (2*np.pi) * 360 / A_unit) -360)\n",
    "Phi_Result_Deg = Phi_Result / (2*np.pi) * 360 / A_unit\n",
    "print(\"Phi end result:\", Phi_Result)\n",
    "\n",
    "Beta_Result_Deg = np.abs(Beta_Result / (2*np.pi) * 360 / A_unit)\n",
    "Beta_Result_Deg"
   ]
  },
  {
   "cell_type": "markdown",
   "metadata": {},
   "source": [
    "# Second Task{Determine $\\eta$ and the dispersion curve.}\n",
    "For various wavelengths of the incident light, we are going to measure for which positions $A_{1}, A_{2}$ the deflection angle $\\delta$ approaches its minimum $\\delta^*$. For known $\\boldsymbol{\\lambda's}$ we will $\\overline{measure}$ and $\\underline{calculate}$ the ($\\boldsymbol{\\lambda}$, $\\underline{\\nu^2} = (\\frac{c_{0}}{\\lambda})^2$, $\\overline{A_{1}}$, $\\overline{A_{2}}$, $\\underline{\\delta^*} = \\frac{A_{1}-A_{2}}{2}$, $\\underline{\\eta}$, $\\underline{f(\\nu^2)} =\\frac{1}{\\eta^2(v)-1}$) tuples.\n",
    "\n",
    "SEE FUNCTIONS DEFINED IN THE FIRST BLOCK"
   ]
  },
  {
   "cell_type": "code",
   "execution_count": 38,
   "metadata": {},
   "outputs": [
    {
     "name": "stdout",
     "output_type": "stream",
     "text": [
      "slope:  -1.3348864636941402e-31\n",
      "slope_err: 5.968883442952754e-33\n",
      "intercept:  0.6537652683362825\n"
     ]
    },
    {
     "data": {
      "image/png": "[encoded data removed]",
      "text/plain": [
       "<Figure size 314.961x314.961 with 1 Axes>"
      ]
     },
     "metadata": {},
     "output_type": "display_data"
    },
    {
     "data": {
      "text/html": [
       "<table><tbody><tr><th>Magnitude</th><td style='text-align:left;'><pre>[47.37499999999998+/-0.04714045207910317<br> 47.78333333333333+/-0.04714045207910317<br> 48.258333333333326+/-0.04714045207910317<br> 48.27916666666667+/-0.04714045207910317<br> 48.53333333333331+/-0.04714045207910317<br> 49.24166666666664+/-0.04714045207910317<br> 50.16666666666668+/-0.04714045207910317<br> 51.150000000000006+/-0.04714045207910317<br> 51.791666666666686+/-0.04714045207910317]</pre></td></tr><tr><th>Units</th><td style='text-align:left;'></td></tr></tbody></table>"
      ],
      "text/latex": [
       "$\\begin{pmatrix}47.37+/-0.05 & 47.78+/-0.05 & 48.26+/-0.05 & 48.28+/-0.05 & 48.53+/-0.05 & 49.24+/-0.05 & 50.17+/-0.05 & 51.15+/-0.05 & 51.79+/-0.05\\end{pmatrix}\\$"
      ],
      "text/plain": [
       "array([47.37499999999998+/-0.04714045207910317,\n",
       "       47.78333333333333+/-0.04714045207910317,\n",
       "       48.258333333333326+/-0.04714045207910317,\n",
       "       48.27916666666667+/-0.04714045207910317,\n",
       "       48.53333333333331+/-0.04714045207910317,\n",
       "       49.24166666666664+/-0.04714045207910317,\n",
       "       50.16666666666668+/-0.04714045207910317,\n",
       "       51.150000000000006+/-0.04714045207910317,\n",
       "       51.791666666666686+/-0.04714045207910317], dtype=object) <Unit('dimensionless')>"
      ]
     },
     "execution_count": 38,
     "metadata": {},
     "output_type": "execute_result"
    }
   ],
   "source": [
    "# SET UNCERTAINTIES\n",
    "A_meas_uncertainty_guess_deg = (1.0/60.0)*(4) # = (2)degmin' is unc of device but its difficult to read off minutes so we set 2' A meas uncertainty in degrees\n",
    "A_meas_uncertainty_guess2 = np.radians(A_meas_uncertainty_guess_deg)\n",
    "A_meas_uncertainty_guess = A_meas_uncertainty_guess2 # already defined above\n",
    "Lambda_uncertainty_guess = 0.05 # nanometer\n",
    "\n",
    "# SET UNITS\n",
    "A_unit = units.rad\n",
    "Lambda_unit = units.nanometer\n",
    "\n",
    "# IMPORT DATA\n",
    "Lambda_meas, A1_meas_deg, A2_meas_deg, A1_meas_degmin, A2_meas_degmin, Lambda_labels = np.genfromtxt(os.path.join(os.getcwd(), \"task2_measure_lambda_a1_a2.csv\"), delimiter=',', skip_header=1, unpack=True)\n",
    "A1_meas = np.radians(A1_meas_deg + (1.0/60.0)*A1_meas_degmin)\n",
    "A2_meas = np.radians(A2_meas_deg + (1.0/60.0)*A2_meas_degmin)\n",
    "A1s = np.array([u.ufloat(a1 + 2*np.pi, A_meas_uncertainty_guess) for a1 in A1_meas]) *A_unit\n",
    "A2s = np.array([u.ufloat(a2, A_meas_uncertainty_guess) for a2 in A2_meas]) *A_unit\n",
    "Lambdas = np.array([u.ufloat(l, Lambda_uncertainty_guess) for l in Lambda_meas]) *Lambda_unit\n",
    "\n",
    "# CALCULATE BELONGING VALUES\n",
    "Nus = nu_of_lambda(Lambdas).to_base_units().to_compact()\n",
    "Nu_Squareds = np.square(Nus).to_base_units().to_compact()\n",
    "Delta0s = delta0_of_A1_A2(A1s, A2s).to_base_units().to_compact()\n",
    "# Using Eq. 8 to figure out the refractive indexes\n",
    "Etas = np.array([n_of_phi_delta0(Phi_Result.magnitude, Delta0.magnitude) for Delta0 in Delta0s]) * no_unit\n",
    "Eta_Squareds = usquare(Etas)\n",
    "Fs = f_of_n_squared(Eta_Squareds)\n",
    "\n",
    "slope_withErr, intercept_withErr = errorbar_plot_with_linregress(extr_values(Nu_Squareds), extr_values(Fs), extr_sig(Fs), nolinregress=False, xlabel=r'$\\nu^2$', ylabel=r'$f(\\nu^2)$')\n",
    "\n",
    "# CALCULATE MATERIAL CONSTANTS FROM THE CURVE\n",
    "nu0dash_Squared = intercept_withErr\n",
    "nu0dash = u.wrap(np.sqrt)(nu0dash_Squared) * (1/units.s)# u.ufloat(998.38, 7.433) * (1/units.s) # TODO\n",
    "A_param = (1/slope_withErr) * (1/units.s**2) # u.ufloat(848.83, 3.443) * (1/units.s**2)# TODO\n",
    "\n",
    "Delta0s / (2*scipy.constants.pi) * 360 / units.rad"
   ]
  },
  {
   "cell_type": "markdown",
   "metadata": {},
   "source": [
    "# Task 3 Calculate f again with EQ 2 and compare"
   ]
  },
  {
   "cell_type": "code",
   "execution_count": 34,
   "metadata": {},
   "outputs": [
    {
     "name": "stdout",
     "output_type": "stream",
     "text": [
      "slope:  -3.700311316013958e-30\n",
      "slope_err: 2.084055865596676e-38\n",
      "intercept:  2.220446049250313e-16\n"
     ]
    },
    {
     "data": {
      "image/png": "[encoded data removed]",
      "text/plain": [
       "<Figure size 314.961x314.961 with 1 Axes>"
      ]
     },
     "metadata": {},
     "output_type": "display_data"
    },
    {
     "data": {
      "text/plain": [
       "(array([2.5465137664097837+/-0.016691824722606486,\n",
       "        2.6373361733980483+/-0.01781606300842085,\n",
       "        2.7511940813013385+/-0.019276115630733417,\n",
       "        2.7564058674196503+/-0.019344297886662976,\n",
       "        2.8215636887828017+/-0.020206681716137036,\n",
       "        3.0199439851404355+/-0.02294594988255033,\n",
       "        3.323564708992839+/-0.027469648887887062,\n",
       "        3.7185562176392537+/-0.033954284142574856,\n",
       "        4.0293263510983035+/-0.03953272489861138], dtype=object) <Unit('dimensionless')>,\n",
       " array([-0.6969072970887278+/-0.06390987609745684,\n",
       "        -0.8557483566543744+/-0.07847641602146649,\n",
       "        -0.9916822497822521+/-0.09094225785199336,\n",
       "        -0.998913869986091+/-0.09160543503788769,\n",
       "        -1.1151552071020394+/-0.10226537260049812,\n",
       "        -1.3761187784751243+/-0.12619711084348081,\n",
       "        -1.7510768958218734+/-0.16058279031082817,\n",
       "        -1.999793842415945+/-0.18339149971996352,\n",
       "        -2.030548003268241+/-0.18621182651341442], dtype=object) <Unit('dimensionless')>)"
      ]
     },
     "execution_count": 34,
     "metadata": {},
     "output_type": "execute_result"
    }
   ],
   "source": [
    "# TASK 3 NOW WE USE EQ 2 AND COMPARE\n",
    "Eta_Squareds__EQ2 = n_squared_of_nu(Nus, nu0dash, A_param).to_base_units().to_compact()\n",
    "Etas__EQ2 = np.array([u.wrap(np.sqrt)(eta_sq.to_base_units().magnitude) for eta_sq in Eta_Squareds__EQ2]) * no_unit\n",
    "Fs__EQ2 = f_of_nu_squared(Nu_Squareds, nu0dash, A_param)\n",
    "errorbar_plot_with_linregress(extr_values(Nu_Squareds), extr_values(Fs__EQ2), extr_sig(Fs__EQ2), nolinregress=True)\n",
    "\n",
    "Fs, Fs__EQ2"
   ]
  },
  {
   "cell_type": "code",
   "execution_count": 32,
   "metadata": {},
   "outputs": [
    {
     "ename": "NameError",
     "evalue": "name 'Fs__EQ2' is not defined",
     "output_type": "error",
     "traceback": [
      "\u001b[1;31m---------------------------------------------------------------------------\u001b[0m",
      "\u001b[1;31mNameError\u001b[0m                                 Traceback (most recent call last)",
      "Cell \u001b[1;32mIn [32], line 2\u001b[0m\n\u001b[0;32m      1\u001b[0m \u001b[39m# PRINT AND GENERATE LATEX\u001b[39;00m\n\u001b[1;32m----> 2\u001b[0m DF_TABLE_2 \u001b[39m=\u001b[39m pandas\u001b[39m.\u001b[39mDataFrame({\u001b[39m\"\u001b[39m\u001b[39mLambdas\u001b[39m\u001b[39m\"\u001b[39m: Lambdas, \u001b[39m\"\u001b[39m\u001b[39mNus [\u001b[39m\u001b[39m%s\u001b[39;00m\u001b[39m]\u001b[39m\u001b[39m\"\u001b[39m\u001b[39m%\u001b[39m(\u001b[39m\"\u001b[39m\u001b[39m\"\u001b[39m): Nus, \u001b[39m\"\u001b[39m\u001b[39mNuSquareds []\u001b[39m\u001b[39m\"\u001b[39m: Nu_Squareds, \u001b[39m\"\u001b[39m\u001b[39mA1s\u001b[39m\u001b[39m\"\u001b[39m: A1s, \u001b[39m\"\u001b[39m\u001b[39mA2s\u001b[39m\u001b[39m\"\u001b[39m: A2s, \u001b[39m\"\u001b[39m\u001b[39mdelt*s\u001b[39m\u001b[39m\"\u001b[39m: Delta0s, \u001b[39m\"\u001b[39m\u001b[39mn\u001b[39m\u001b[39m'\u001b[39m\u001b[39ms\u001b[39m\u001b[39m\"\u001b[39m: Etas, \u001b[39m\"\u001b[39m\u001b[39mf\u001b[39m\u001b[39m'\u001b[39m\u001b[39ms\u001b[39m\u001b[39m\"\u001b[39m: Fs, \u001b[39m\"\u001b[39m\u001b[39mf\u001b[39m\u001b[39m'\u001b[39m\u001b[39ms by Eq (2):\u001b[39m\u001b[39m\"\u001b[39m: Fs__EQ2})\n\u001b[0;32m      3\u001b[0m \u001b[39mprint\u001b[39m(\u001b[39m\"\u001b[39m\u001b[39mTable of Data:\u001b[39m\u001b[39m\"\u001b[39m)\n\u001b[0;32m      4\u001b[0m \u001b[39mprint\u001b[39m(DF_TABLE_2, \u001b[39m'\u001b[39m\u001b[39m\\n\u001b[39;00m\u001b[39m'\u001b[39m)\n",
      "\u001b[1;31mNameError\u001b[0m: name 'Fs__EQ2' is not defined"
     ]
    }
   ],
   "source": [
    "# PRINT AND GENERATE LATEX\n",
    "DF_TABLE_2 = pandas.DataFrame({\"Lambdas\": Lambdas, \"Nus [%s]\"%(\"\"): Nus, \"NuSquareds []\": Nu_Squareds, \"A1s\": A1s, \"A2s\": A2s, \"delt*s\": Delta0s, \"n's\": Etas, \"f's\": Fs, \"f's by Eq (2):\": Fs__EQ2})\n",
    "print(\"Table of Data:\")\n",
    "print(DF_TABLE_2, '\\n')\n",
    "print(\"Table latex:\")\n",
    "print(DF_TABLE_2.style.to_latex(column_format='|l|l|l|l|l|l|l|l|'), '\\n')\n",
    "print(\"A: \", A_param, '\\n')\n",
    "print(\"nu_0dash:\", nu0dash)"
   ]
  },
  {
   "cell_type": "code",
   "execution_count": 2,
   "metadata": {},
   "outputs": [
    {
     "data": {
      "text/plain": [
       "0.016666666666666666"
      ]
     },
     "execution_count": 2,
     "metadata": {},
     "output_type": "execute_result"
    }
   ],
   "source": []
  },
  {
   "cell_type": "code",
   "execution_count": null,
   "metadata": {},
   "outputs": [],
   "source": []
  }
 ],
 "metadata": {
  "kernelspec": {
   "display_name": "Python 3.10.8 64-bit",
   "language": "python",
   "name": "python3"
  },
  "language_info": {
   "codemirror_mode": {
    "name": "ipython",
    "version": 3
   },
   "file_extension": ".py",
   "mimetype": "text/x-python",
   "name": "python",
   "nbconvert_exporter": "python",
   "pygments_lexer": "ipython3",
   "version": "3.10.8"
  },
  "orig_nbformat": 4,
  "vscode": {
   "interpreter": {
    "hash": "ec8e037e8dc204d3d865c2c299d9f950a845b1569963e458e46239ef266b6b39"
   }
  }
 },
 "nbformat": 4,
 "nbformat_minor": 2
}
