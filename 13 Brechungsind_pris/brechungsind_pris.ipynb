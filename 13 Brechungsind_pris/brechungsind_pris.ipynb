{
 "cells": [
  {
   "cell_type": "markdown",
   "metadata": {},
   "source": [
    "# Formeln vom Manual"
   ]
  },
  {
   "cell_type": "code",
   "execution_count": 3,
   "metadata": {},
   "outputs": [],
   "source": [
    "import numpy as np\n",
    "import uncertainties as u\n",
    "import os\n",
    "import pint # pip install pint OR conda install pint\n",
    "units = pint.UnitRegistry()\n",
    "\n",
    "# Formel (2)\n",
    "# n'2(nu) = 1 + A/(nu0dash^2-nu^2)\n",
    "# nu0dash, A sind Materialkonstanten\n",
    "def n_squared_of_nu(nu, nu0dash, A):\n",
    "    n_sq = 1 + A/(nu0dash**2-nu**2)\n",
    "    return n_sq\n",
    "\n",
    "# Formel (2) und die Wurzel gezogen\n",
    "def n_of_nu(nu, nu0dash, A):\n",
    "    n = np.sqrt(n_squared_of_nu(nu, nu0dash,A))\n",
    "    return n"
   ]
  },
  {
   "cell_type": "markdown",
   "metadata": {},
   "source": [
    "# First Task: Determine $\\varphi$\n",
    "Measure both positions where the reflections of the slit image are observed: $A_{1}$, $A_{2}$. Then $\\beta = A_{1} - A_{2}$. Make sure the signs are correct (can we take the absolute value?). Do this three times, so we get three $\\beta$ values. Take the mean of $\\beta$. Then $\\varphi = \\pi - \\beta$."
   ]
  },
  {
   "cell_type": "code",
   "execution_count": null,
   "metadata": {},
   "outputs": [],
   "source": [
    "A1_meas, A2_meas = np.genfromtxt(os.path.join(os.getcwd(), \"task1_measure_phi_data.csv\"), delimiter=',', skip_header=1, unpack=True)\n",
    "\n",
    "A_meas_uncertainty_guess = 0.000 # TODO change this value\n",
    "A1 = [u.ufloat(a1, A_meas_uncertainty_guess) for a1 in A1_meas] * units.mm # TODO may have to change units if not mm was measured\n",
    "A2 = [u.ufloat(a2, A_meas_uncertainty_guess) for a2 in A2_meas] * units.mm # TODO may have to change units if not mm was measured\n",
    "\n"
   ]
  },
  {
   "cell_type": "markdown",
   "metadata": {},
   "source": []
  }
 ],
 "metadata": {
  "kernelspec": {
   "display_name": "Python 3.10.8 64-bit",
   "language": "python",
   "name": "python3"
  },
  "language_info": {
   "codemirror_mode": {
    "name": "ipython",
    "version": 3
   },
   "file_extension": ".py",
   "mimetype": "text/x-python",
   "name": "python",
   "nbconvert_exporter": "python",
   "pygments_lexer": "ipython3",
   "version": "3.10.8"
  },
  "orig_nbformat": 4,
  "vscode": {
   "interpreter": {
    "hash": "ec8e037e8dc204d3d865c2c299d9f950a845b1569963e458e46239ef266b6b39"
   }
  }
 },
 "nbformat": 4,
 "nbformat_minor": 2
}
