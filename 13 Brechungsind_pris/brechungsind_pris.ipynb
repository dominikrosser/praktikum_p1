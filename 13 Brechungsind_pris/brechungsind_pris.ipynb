{
 "cells": [
  {
   "cell_type": "markdown",
   "metadata": {},
   "source": [
    "# Formeln vom Manual"
   ]
  },
  {
   "cell_type": "code",
   "execution_count": 130,
   "metadata": {},
   "outputs": [],
   "source": [
    "import numpy as np\n",
    "import uncertainties as u\n",
    "from uncertainties import ufloat\n",
    "from uncertainties.umath import sqrt\n",
    "from uncertainties.umath import __all__\n",
    "from uncertainties.umath import *\n",
    "import uncertainties.unumpy as unp\n",
    "import scipy.constants\n",
    "import os\n",
    "import matplotlib.pyplot as plt\n",
    "from scipy.stats import linregress\n",
    "import pandas # pip install Jinja2\n",
    "import pint # pip install pint OR conda install pint\n",
    "units = pint.UnitRegistry()\n",
    "units.default_format = '~'\n",
    "umean = u.wrap(np.mean)\n",
    "ustd = u.wrap(np.std)\n",
    "usin = u.wrap(np.sin)\n",
    "no_unit = (units.m/units.m)\n",
    "usquare = u.wrap(np.square)\n",
    "import warnings\n",
    "warnings.simplefilter(\"ignore\")\n",
    "cm = 1/2.54\n",
    "\n",
    "def strip_units(np_arr):\n",
    "    return np.array([(a.to_base_units().magnitude if type(a)!=float else a) for a in np_arr])\n",
    "\n",
    "def extr_values(np_arr):\n",
    "    return unp.nominal_values(np_arr)\n",
    "\n",
    "def extr_sig(np_arr):\n",
    "    return unp.std_devs(np_arr)\n",
    "\n",
    "def errorbar_plot_with_linregress(X, Y, SIG_Y, errbarlabel='errbarlabel', xlabel='xlabel', ylabel='ylabel', errbarcolor='blue', linfitlabel='linfitlabel', nolinregress=False, saveas='tmp.png'):\n",
    "    result = scipy.stats.linregress(X, Y)\n",
    "    #slope, intercept, rvalue, pvalue, sevalue, inteerr\n",
    "    print(\"slope: \", result.slope)\n",
    "    print(\"slope_err:\", result.stderr)\n",
    "    print(\"intercept: \", result.intercept)\n",
    "    x_axis_spaced = np.linspace(np.min(X), np.max(X), 10)\n",
    "    fig, ax = plt.subplots(1,1,figsize=(8*cm, 8*cm))\n",
    "    #ax.plot(x,y,linestyle='-', color='red')\n",
    "    if not nolinregress:\n",
    "        ax.plot(x_axis_spaced, result.slope*x_axis_spaced + result.intercept, 'r--', label=linfitlabel)\n",
    "    ax.errorbar(X, Y, yerr=SIG_Y, linestyle='', color=errbarcolor, capsize=3, label=errbarlabel)\n",
    "    ax.set_xlabel(xlabel)\n",
    "    ax.set_ylabel(ylabel)\n",
    "    #ax.set_xlim([-1,1])\n",
    "    #ax.set_ylim([-4,4])\n",
    "    ax.legend(loc='upper left')\n",
    "    plt.tight_layout()\n",
    "    plt.savefig(saveas, dpi=500)\n",
    "    plt.show()\n",
    "    if not nolinregress:\n",
    "        return u.ufloat(result.slope, result.stderr), u.ufloat(result.intercept, result.intercept_stderr) # (slope+=unc), (intercept+=unc)\n",
    "\n",
    "# Formel (2)\n",
    "# n'2(nu) = 1 + A/(nu0dash^2-nu^2)\n",
    "# nu0dash, A sind Materialkonstanten\n",
    "def n_squared_of_nu(nu, nu0dash, A):\n",
    "    n_sq = 1 + A / (u.wrap(np.square)(nu0dash) - u.wrap(np.square)(nu))\n",
    "    return n_sq\n",
    "\n",
    "def n_squared_of_nu_squared(nu_squared, nu0dash, A):\n",
    "    n_sq = 1 + A/(nu0dash**2-nu_squared)\n",
    "    return n_sq\n",
    "\n",
    "# Formel (2) und die Wurzel gezogen\n",
    "def n_of_nu(nu, nu0dash, A):\n",
    "    #n = u.wrap(np.sqrt)(n_squared_of_nu(nu, nu0dash,A))\n",
    "    n = np.array([u.wrap(np.sqrt)(n_squared_of_nu(nu_i, nu0dash, A)) for nu_i in nu])\n",
    "    return n\n",
    "\n",
    "def n_of_phi_delta0(phi, delta0):\n",
    "    left = usin((delta0 + phi)/2)\n",
    "    right = usin(phi/2)\n",
    "    eta = left/right\n",
    "    return eta\n",
    "\n",
    "# nu0dash, A sind Materialkonstanten\n",
    "def f_of_nu_squared(nu_squared, nu0dash, A):\n",
    "    denom = (n_squared_of_nu_squared(nu_squared, nu0dash, A) -1.0 )\n",
    "    denom = np.array(strip_units([(d if np.abs(d) >= 0.00000000000001 else (0.00000000000001 if d >= 0.0 else -0.00000000000001) ) for d in denom])) * no_unit\n",
    "    f = 1.0 / denom\n",
    "    return f\n",
    "\n",
    "# used if n_squared is already known\n",
    "def f_of_n_squared(n_squared):\n",
    "    f = 1/(n_squared-1)\n",
    "    return f\n",
    "\n",
    "# calculate frequency from wavelength\n",
    "def nu_of_lambda(lambda_, c0=scipy.constants.c*units.meter/units.s):\n",
    "    return c0/lambda_\n",
    "\n",
    "def delta0_of_A1_A2(A1, A2):\n",
    "    return (A1 - A2)/2\n",
    "\n",
    "# Testchange"
   ]
  },
  {
   "cell_type": "markdown",
   "metadata": {},
   "source": [
    "# First Task: Determine $\\varphi$\n",
    "Measure both positions where the reflections of the slit image are observed: $A_{1}$, $A_{2}$. Then $\\beta = A_{1} - A_{2}$. Make sure the signs are correct (can we take the absolute value?). Do this three times, so we get three $\\beta$ values. Take the mean of $\\beta$. Then $\\varphi = \\pi - \\beta$."
   ]
  },
  {
   "cell_type": "code",
   "execution_count": 131,
   "metadata": {},
   "outputs": [
    {
     "name": "stdout",
     "output_type": "stream",
     "text": [
      "Betaprop:  0.02721655269759087 deg / rad betastd:  0.15335748602046065 deg\n",
      "Standard deviation of the betas was higher so this was taken instead of the propagation of the errors of measurement of A.\n",
      "Table of Data:\n",
      "         A1 [deg]         A2 [deg]        $\\beta$\n",
      "0  39.417+/-0.033  279.767+/-0.033  119.65+/-0.05\n",
      "1  38.233+/-0.033  278.250+/-0.033  119.98+/-0.05\n",
      "2  31.700+/-0.033  271.733+/-0.033  119.97+/-0.05 \n",
      "\n",
      "Table latex:\n",
      "\\begin{tabular}{|l|l|l|l|}\n",
      " & A1 [deg] & A2 [deg] & $\\beta$ \\\\\n",
      "0 & 39.417+/-0.033 & 279.767+/-0.033 & 119.65+/-0.05 \\\\\n",
      "1 & 38.233+/-0.033 & 278.250+/-0.033 & 119.98+/-0.05 \\\\\n",
      "2 & 31.700+/-0.033 & 271.733+/-0.033 & 119.97+/-0.05 \\\\\n",
      "\\end{tabular}\n",
      " \n",
      "\n",
      "Mean(beta)+=prop_unc_a:  119.867+/-0.027 deg \n",
      "\n",
      "Mean(beta)+=Std(betas): 119.8667+/-0.0027 deg\n",
      "Beta End Result (rad, deg): ( 2.0921+/-0.0027 rad , 119.87+/-0.15 deg )\n",
      "Beta End Result (rad, deg): ((+2.092+/-0.003)e+00\\ \\mathrm{radian},(+1.199+/-0.002)e+02\\ \\mathrm{degree})\n",
      "\n",
      "Phi end result (rad, deg): ( 1.0495+/-0.0027 rad , 60.13+/-0.15 deg )\n",
      "Phi end result (rad, deg): ((+1.050+/-0.003)e+00\\ \\mathrm{radian},+60.13+/-0.15\\ \\mathrm{degree})\n"
     ]
    }
   ],
   "source": [
    "A1_deg, A2_deg, A1_deg_minutes, A2_deg_minutes = np.genfromtxt(os.path.join(os.getcwd(), \"task1_measure_phi_data.csv\"), delimiter=',', skip_header=1, unpack=True)\n",
    "\n",
    "CIRCLE_DEG = 360.0\n",
    "CIRCLE_RAD = 2*scipy.constants.pi\n",
    "HALF_CIRCLE_RAD = scipy.constants.pi\n",
    "DEG_PER_RAD = CIRCLE_DEG / CIRCLE_RAD\n",
    "\n",
    "A1_meas_deg = np.mod(CIRCLE_DEG - (A1_deg + (1.0/60.0)*A1_deg_minutes), CIRCLE_DEG)\n",
    "A2_meas_deg = np.mod(CIRCLE_DEG - (A2_deg + (1.0/60.0)*A2_deg_minutes), CIRCLE_DEG)\n",
    "A1_meas = np.radians(A1_meas_deg)\n",
    "A2_meas = np.radians(A2_meas_deg)\n",
    "\n",
    "# 2 degmin' is unc of device but its difficult to read off minutes so we set 2' A meas uncertainty in degrees\n",
    "A_meas_uncertainty_guess_deg = np.mod((1.0/60.0)*(2), CIRCLE_DEG)\n",
    "A_meas_uncertainty_guess = np.mod(np.radians(A_meas_uncertainty_guess_deg), CIRCLE_RAD)\n",
    "A1s = np.array([u.ufloat(a1, A_meas_uncertainty_guess) for a1 in A1_meas]) * units.rad\n",
    "A2s = np.array([u.ufloat(a2, A_meas_uncertainty_guess) for a2 in A2_meas]) * units.rad\n",
    "\n",
    "Betas =  np.mod(A1s - A2s, CIRCLE_RAD)\n",
    "Betas_Std = np.std(extr_values(Betas))*units.rad\n",
    "\n",
    "Beta = umean(Betas)\n",
    "\n",
    "Beta_Result = Beta\n",
    "print(\"Betaprop: \", DEG_PER_RAD * Beta.std_dev / units.rad * units.deg, \"betastd: \", DEG_PER_RAD * Betas_Std / units.rad * units.deg)\n",
    "if (Beta.std_dev < Betas_Std):\n",
    "    Beta_Result = u.ufloat(Beta.nominal_value, Betas_Std) * units.rad\n",
    "    print(\"Standard deviation of the betas was higher so this was taken instead of the propagation of the errors of measurement of A.\")\n",
    "else:\n",
    "    Beta_Result = Beta\n",
    "    print(\"Standard deviation of the betas was lower than the propagation of the errors of measurement of A. So the propagated error was taken.\")\n",
    "\n",
    "Phi_Result = HALF_CIRCLE_RAD*units.rad - Beta_Result\n",
    "\n",
    "# Calculate same stuff in deg for reference\n",
    "A1s_deg = A1s * DEG_PER_RAD / units.rad * units.deg\n",
    "A2s_deg = A2s * DEG_PER_RAD / units.rad * units.deg\n",
    "Betas_deg = Betas * DEG_PER_RAD / units.rad * units.deg\n",
    "Betas_Std_deg = Betas_Std * DEG_PER_RAD / units.rad * units.deg\n",
    "Beta_deg = Beta * DEG_PER_RAD / units.rad * units.deg\n",
    "Beta_Result_Deg = Beta_Result * DEG_PER_RAD / units.rad * units.deg\n",
    "Phi_Result_Deg = Phi_Result * DEG_PER_RAD / units.rad * units.deg\n",
    "\n",
    "# PRINT AND GENERATE LATEX\n",
    "DF_TABLE_1 = pandas.DataFrame({\"A1 [%s]\"%(A1s_deg.units): A1s_deg, \"A2 [%s]\"%(A2s_deg.units): A2s_deg, r'$\\beta$': Betas_deg})\n",
    "print(\"Table of Data:\")\n",
    "print(DF_TABLE_1, '\\n')\n",
    "print(\"Table latex:\")\n",
    "pandas.options.display.float_format = '{:L.1u}'.format\n",
    "print(DF_TABLE_1.style.to_latex(column_format='|l|l|l|l|'), '\\n')\n",
    "print(\"Mean(beta)+=prop_unc_a: \", Beta_deg, '\\n')\n",
    "print(\"Mean(beta)+=Std(betas):\", u.ufloat(Beta_deg.nominal_value,Betas_Std_deg) * units.deg)\n",
    "\n",
    "print(\"Beta End Result (rad, deg): (\", Beta_Result, \",\", Beta_Result_Deg, \")\")\n",
    "print(\"Beta End Result (rad, deg): ({:L+.1ue},{:L+.1ue})\\n\".format(Beta_Result, Beta_Result_Deg))\n",
    "\n",
    "print(\"Phi end result (rad, deg): (\", Phi_Result, \",\", Phi_Result_Deg, \")\")\n",
    "print(\"Phi end result (rad, deg): ({:L+.1ue},{:L+.2u})\".format(Phi_Result, Phi_Result_Deg))"
   ]
  },
  {
   "cell_type": "code",
   "execution_count": 132,
   "metadata": {},
   "outputs": [
    {
     "name": "stdout",
     "output_type": "stream",
     "text": [
      "Table latex:\n",
      "\\begin{tabular}{|l|l|l|l|}\n",
      " & A_1 [°] & A_1 ['] & A_2 [°] & A_2 ['] \\\\\n",
      "0 & 320.000000 & 35.000000 & 80.000000 & 14.000000 \\\\\n",
      "1 & 321.000000 & 46.000000 & 81.000000 & 45.000000 \\\\\n",
      "2 & 328.000000 & 18.000000 & 88.000000 & 16.000000 \\\\\n",
      "\\end{tabular}\n",
      " \n",
      "\n"
     ]
    }
   ],
   "source": [
    "# Print raw data for measuring \\varphi ALREADY IN LATEX\n",
    "A1_deg, A2_deg, A1_deg_minutes, A2_deg_minutes\n",
    "DF_TABLE_COLLECTED_1 = pandas.DataFrame({\n",
    "    \"A_1 [°]\": A1_deg, \"A_1 [']\": A1_deg_minutes,\n",
    "    \"A_2 [°]\": A2_deg, \"A_2 [']\": A2_deg_minutes,\n",
    "    })\n",
    "print(\"Table latex:\")\n",
    "print(DF_TABLE_COLLECTED_1.style.to_latex(column_format='|l|l|l|l|'), '\\n')"
   ]
  },
  {
   "cell_type": "markdown",
   "metadata": {},
   "source": [
    "# Second Task{Determine $\\eta$ and the dispersion curve.}\n",
    "For various wavelengths of the incident light, we are going to measure for which positions $A_{1}, A_{2}$ the deflection angle $\\delta$ approaches its minimum $\\delta^*$. For known $\\boldsymbol{\\lambda's}$ we will $\\overline{measure}$ and $\\underline{calculate}$ the ($\\boldsymbol{\\lambda}$, $\\underline{\\nu^2} = (\\frac{c_{0}}{\\lambda})^2$, $\\overline{A_{1}}$, $\\overline{A_{2}}$, $\\underline{\\delta^*} = \\frac{A_{1}-A_{2}}{2}$, $\\underline{\\eta}$, $\\underline{f(\\nu^2)} =\\frac{1}{\\eta^2(v)-1}$) tuples.\n",
    "\n",
    "SEE FUNCTIONS DEFINED IN THE FIRST BLOCK"
   ]
  },
  {
   "cell_type": "code",
   "execution_count": 133,
   "metadata": {},
   "outputs": [
    {
     "name": "stdout",
     "output_type": "stream",
     "text": [
      "slope:  -1.3348864636941376e-31\n",
      "slope_err: 5.96888344295284e-33\n",
      "intercept:  0.6537652683362818\n"
     ]
    },
    {
     "data": {
      "image/png": "[encoded data removed]",
      "text/plain": [
       "<Figure size 314.961x314.961 with 1 Axes>"
      ]
     },
     "metadata": {},
     "output_type": "display_data"
    },
    {
     "data": {
      "text/plain": [
       "0.6537652683362818+/-0.0022509390733066485"
      ]
     },
     "execution_count": 133,
     "metadata": {},
     "output_type": "execute_result"
    }
   ],
   "source": [
    "# SET UNCERTAINTIES\n",
    "A_meas_uncertainty_guess_deg = (1.0/60.0)*(4) # = (2)degmin' is unc of device but its difficult to read off minutes so we set 2' A meas uncertainty in degrees\n",
    "A_meas_uncertainty_guess2 = np.radians(A_meas_uncertainty_guess_deg)\n",
    "A_meas_uncertainty_guess = A_meas_uncertainty_guess2 # already defined above\n",
    "Lambda_uncertainty_guess = 0.05 # nanometer\n",
    "\n",
    "# SET UNITS\n",
    "A_unit = units.rad\n",
    "Lambda_unit = units.nanometer\n",
    "\n",
    "# IMPORT DATA\n",
    "Lambda_meas, A1_meas_deg, A2_meas_deg, A1_meas_degmin, A2_meas_degmin, Lambda_labels = np.genfromtxt(os.path.join(os.getcwd(), \"task2_measure_lambda_a1_a2.csv\"), delimiter=',', skip_header=1, unpack=True)\n",
    "A1_meas = np.radians(A1_meas_deg + (1.0/60.0)*A1_meas_degmin)\n",
    "A2_meas = np.radians(A2_meas_deg + (1.0/60.0)*A2_meas_degmin)\n",
    "A1s = np.array([u.ufloat(a1 + 2*np.pi, A_meas_uncertainty_guess) for a1 in A1_meas]) *A_unit\n",
    "A2s = np.array([u.ufloat(a2, A_meas_uncertainty_guess) for a2 in A2_meas]) *A_unit\n",
    "Lambdas = np.array([u.ufloat(l, Lambda_uncertainty_guess) for l in Lambda_meas]) *Lambda_unit\n",
    "\n",
    "# CALCULATE BELONGING VALUES\n",
    "Nus = nu_of_lambda(Lambdas).to_base_units().to_compact()\n",
    "Nu_Squareds = np.square(Nus).to_base_units().to_compact()\n",
    "Delta0s = delta0_of_A1_A2(A1s, A2s).to_base_units().to_compact()\n",
    "# Using Eq. 8 to figure out the refractive indexes\n",
    "Etas = np.array([n_of_phi_delta0(Phi_Result.magnitude, Delta0.magnitude) for Delta0 in Delta0s]) * no_unit\n",
    "Eta_Squareds = usquare(Etas)\n",
    "Fs = f_of_n_squared(Eta_Squareds)\n",
    "\n",
    "slope_withErr, intercept_withErr = errorbar_plot_with_linregress(extr_values(Nu_Squareds), extr_values(Fs), extr_sig(Fs), nolinregress=False, xlabel=r'$\\nu^2$ $[1/s^2]$', ylabel=r'$f(\\nu^2)$ by Eq. 8', linfitlabel=r'linear fit to $f(\\nu^2)$', errbarlabel='propagated errors', saveas='fit_task_two.png')\n",
    "\n",
    "# CALCULATE MATERIAL CONSTANTS FROM THE CURVE\n",
    "A_param = -(1/slope_withErr) * (1/units.s**2)\n",
    "nu0dash_Squared = intercept_withErr * (-1/slope_withErr)\n",
    "nu0dash = u.wrap(np.sqrt)(nu0dash_Squared) * (1/units.s)\n",
    "\n",
    "def r2d(x):\n",
    "    return x * DEG_PER_RAD / units.rad * units.deg\n",
    "# Now calculate the degree values as well\n",
    "A1s_Deg = r2d(A1s)\n",
    "A2s_Deg = r2d(A2s)\n",
    "Lambdas = Lambdas\n",
    "# OTHER USEFUL LISTS: Nus, Nu_Squareds, Etas, Eta_Squareds, Fs\n",
    "# OTHER QUANTITIES: A_param, nu0dash\n",
    "Delta0s_Deg = r2d(Delta0s)\n",
    "\n",
    "intercept_withErr"
   ]
  },
  {
   "cell_type": "markdown",
   "metadata": {},
   "source": [
    "# Task 3 Calculate f again with EQ 2 and compare"
   ]
  },
  {
   "cell_type": "code",
   "execution_count": 102,
   "metadata": {},
   "outputs": [
    {
     "name": "stdout",
     "output_type": "stream",
     "text": [
      "slope:  -1.3348864636941387e-31\n",
      "slope_err: 7.518226784129532e-40\n",
      "intercept:  0.653765268336282\n"
     ]
    },
    {
     "data": {
      "image/png": "[encoded data removed]",
      "text/plain": [
       "<Figure size 314.961x314.961 with 1 Axes>"
      ]
     },
     "metadata": {},
     "output_type": "display_data"
    },
    {
     "data": {
      "text/plain": [
       "(-1.3348864636941387e-31+/-7.518226784129532e-40,\n",
       " 0.653765268336282+/-2.835215428835014e-10)"
      ]
     },
     "execution_count": 102,
     "metadata": {},
     "output_type": "execute_result"
    }
   ],
   "source": [
    "# TASK 3 NOW WE USE EQ 2 AND COMPARE\n",
    "Eta_Squareds__EQ2 = n_squared_of_nu(Nus, nu0dash, A_param).to_base_units().to_compact()\n",
    "Etas__EQ2 = np.array([u.wrap(np.sqrt)(eta_sq.to_base_units().magnitude) for eta_sq in Eta_Squareds__EQ2]) * no_unit\n",
    "Fs__EQ2 = f_of_nu_squared(Nu_Squareds, nu0dash, A_param)\n",
    "slope_withErr__Eq2, intercept_withErr__Eq2 = errorbar_plot_with_linregress(extr_values(Nu_Squareds), extr_values(Fs__EQ2), extr_sig(Fs__EQ2), nolinregress=False, xlabel=r'$\\nu^2$ $[1/s^2]$', ylabel=r'$f(\\nu^2)$ [] by Eq. 2', errbarlabel='propagated errors', linfitlabel=r'fit $f(\\nu^2)$ by Eq. 2')\n",
    "\n",
    "slope_withErr__Eq2, intercept_withErr__Eq2"
   ]
  },
  {
   "cell_type": "code",
   "execution_count": 103,
   "metadata": {},
   "outputs": [
    {
     "name": "stdout",
     "output_type": "stream",
     "text": [
      "Table of Data:\n",
      "    Lambdas [nm]              Nus [1 / s]  NuSquareds [1 / s ** 2]  \\\n",
      "0  690.80+/-0.05  (4.33979+/-0.00031)e+14  (1.88337+/-0.00027)e+29   \n",
      "1  623.40+/-0.05    (4.8090+/-0.0004)e+14    (2.3126+/-0.0004)e+29   \n",
      "2  579.10+/-0.05    (5.1769+/-0.0004)e+14    (2.6800+/-0.0005)e+29   \n",
      "3  577.00+/-0.05    (5.1957+/-0.0005)e+14    (2.6995+/-0.0005)e+29   \n",
      "4  546.10+/-0.05    (5.4897+/-0.0005)e+14    (3.0137+/-0.0006)e+29   \n",
      "5  491.60+/-0.05    (6.0983+/-0.0006)e+14    (3.7189+/-0.0008)e+29   \n",
      "6  435.80+/-0.05    (6.8791+/-0.0008)e+14    (4.7322+/-0.0011)e+29   \n",
      "7  407.80+/-0.05    (7.3515+/-0.0009)e+14    (5.4044+/-0.0013)e+29   \n",
      "8  404.70+/-0.05    (7.4078+/-0.0009)e+14    (5.4875+/-0.0014)e+29   \n",
      "\n",
      "         A1s [rad]         A2s[rad]     delt0s [rad]           n's []  \\\n",
      "0  6.3658+/-0.0012  4.7121+/-0.0012  0.8268+/-0.0008  1.6097+/-0.0022   \n",
      "1  6.3748+/-0.0012  4.7069+/-0.0012  0.8340+/-0.0008  1.6139+/-0.0022   \n",
      "2  6.3821+/-0.0012  4.6976+/-0.0012  0.8423+/-0.0008  1.6188+/-0.0022   \n",
      "3  6.3827+/-0.0012  4.6974+/-0.0012  0.8426+/-0.0008  1.6190+/-0.0022   \n",
      "4  6.3879+/-0.0012  4.6938+/-0.0012  0.8471+/-0.0008  1.6216+/-0.0022   \n",
      "5  6.3995+/-0.0012  4.6807+/-0.0012  0.8594+/-0.0008  1.6287+/-0.0023   \n",
      "6  6.4170+/-0.0012  4.6658+/-0.0012  0.8756+/-0.0008  1.6380+/-0.0023   \n",
      "7  6.4315+/-0.0012  4.6461+/-0.0012  0.8927+/-0.0008  1.6477+/-0.0023   \n",
      "8  6.4344+/-0.0012  4.6266+/-0.0012  0.9039+/-0.0008  1.6540+/-0.0024   \n",
      "\n",
      "   f's by Eq. 8 []   f's by Eq 2 []  \n",
      "0  0.6284+/-0.0028  0.6286+/-0.0025  \n",
      "1  0.6231+/-0.0028  0.6229+/-0.0026  \n",
      "2  0.6171+/-0.0028  0.6180+/-0.0028  \n",
      "3  0.6168+/-0.0028  0.6177+/-0.0028  \n",
      "4  0.6137+/-0.0027  0.6135+/-0.0029  \n",
      "5  0.6050+/-0.0027  0.6041+/-0.0032  \n",
      "6  0.5942+/-0.0027    0.591+/-0.004  \n",
      "7  0.5831+/-0.0026    0.582+/-0.004  \n",
      "8  0.5761+/-0.0026    0.581+/-0.004   \n",
      "\n",
      "Table latex:\n",
      "\\begin{tabular}{|l|l|l|l|l|l|l|l|}\n",
      " & Lambdas [nm] & Nus [1 / s] & NuSquareds [1 / s ** 2] & A1s [rad] & A2s[rad] & delt0s [rad] & n's [] & f's by Eq. 8 [] & f's by Eq 2 [] \\\\\n",
      "0 & 690.80+/-0.05 & (4.33979+/-0.00031)e+14 & (1.88337+/-0.00027)e+29 & 6.3658+/-0.0012 & 4.7121+/-0.0012 & 0.8268+/-0.0008 & 1.6097+/-0.0022 & 0.6284+/-0.0028 & 0.6286+/-0.0025 \\\\\n",
      "1 & 623.40+/-0.05 & (4.8090+/-0.0004)e+14 & (2.3126+/-0.0004)e+29 & 6.3748+/-0.0012 & 4.7069+/-0.0012 & 0.8340+/-0.0008 & 1.6139+/-0.0022 & 0.6231+/-0.0028 & 0.6229+/-0.0026 \\\\\n",
      "2 & 579.10+/-0.05 & (5.1769+/-0.0004)e+14 & (2.6800+/-0.0005)e+29 & 6.3821+/-0.0012 & 4.6976+/-0.0012 & 0.8423+/-0.0008 & 1.6188+/-0.0022 & 0.6171+/-0.0028 & 0.6180+/-0.0028 \\\\\n",
      "3 & 577.00+/-0.05 & (5.1957+/-0.0005)e+14 & (2.6995+/-0.0005)e+29 & 6.3827+/-0.0012 & 4.6974+/-0.0012 & 0.8426+/-0.0008 & 1.6190+/-0.0022 & 0.6168+/-0.0028 & 0.6177+/-0.0028 \\\\\n",
      "4 & 546.10+/-0.05 & (5.4897+/-0.0005)e+14 & (3.0137+/-0.0006)e+29 & 6.3879+/-0.0012 & 4.6938+/-0.0012 & 0.8471+/-0.0008 & 1.6216+/-0.0022 & 0.6137+/-0.0027 & 0.6135+/-0.0029 \\\\\n",
      "5 & 491.60+/-0.05 & (6.0983+/-0.0006)e+14 & (3.7189+/-0.0008)e+29 & 6.3995+/-0.0012 & 4.6807+/-0.0012 & 0.8594+/-0.0008 & 1.6287+/-0.0023 & 0.6050+/-0.0027 & 0.6041+/-0.0032 \\\\\n",
      "6 & 435.80+/-0.05 & (6.8791+/-0.0008)e+14 & (4.7322+/-0.0011)e+29 & 6.4170+/-0.0012 & 4.6658+/-0.0012 & 0.8756+/-0.0008 & 1.6380+/-0.0023 & 0.5942+/-0.0027 & 0.591+/-0.004 \\\\\n",
      "7 & 407.80+/-0.05 & (7.3515+/-0.0009)e+14 & (5.4044+/-0.0013)e+29 & 6.4315+/-0.0012 & 4.6461+/-0.0012 & 0.8927+/-0.0008 & 1.6477+/-0.0023 & 0.5831+/-0.0026 & 0.582+/-0.004 \\\\\n",
      "8 & 404.70+/-0.05 & (7.4078+/-0.0009)e+14 & (5.4875+/-0.0014)e+29 & 6.4344+/-0.0012 & 4.6266+/-0.0012 & 0.9039+/-0.0008 & 1.6540+/-0.0024 & 0.5761+/-0.0026 & 0.581+/-0.004 \\\\\n",
      "\\end{tabular}\n",
      " \n",
      "\n",
      "A:  (7.49+/-0.33)e+30 / s ** 2 \n",
      "\n",
      "nu_0dash: (2.21+/-0.05)e+15 / s\n"
     ]
    }
   ],
   "source": [
    "# PRINT AND GENERATE LATEX\n",
    "DF_TABLE_2 = pandas.DataFrame({\"Lambdas [%s]\"%(Lambdas.units): Lambdas, \"Nus [%s]\"%(Nus.units): Nus, \"NuSquareds [%s]\"%(Nu_Squareds.units): Nu_Squareds, \"A1s [%s]\"%(A1s.units): A1s, \"A2s[%s]\"%(A2s.units): A2s, \"delt0s [%s]\"%(Delta0s.units): Delta0s, \"n's [%s]\"%(Etas.units): Etas, \"f's by Eq. 8 [%s]\"%(Fs.units): Fs, \"f's by Eq 2 [%s]\"%(Fs__EQ2.units): Fs__EQ2})\n",
    "print(\"Table of Data:\")\n",
    "print(DF_TABLE_2, '\\n')\n",
    "print(\"Table latex:\")\n",
    "print(DF_TABLE_2.style.to_latex(column_format='|l|l|l|l|l|l|l|l|'), '\\n')\n",
    "print(\"A: \", A_param, '\\n')\n",
    "print(\"nu_0dash:\", nu0dash)"
   ]
  },
  {
   "cell_type": "code",
   "execution_count": 2,
   "metadata": {},
   "outputs": [
    {
     "data": {
      "text/plain": [
       "0.016666666666666666"
      ]
     },
     "execution_count": 2,
     "metadata": {},
     "output_type": "execute_result"
    }
   ],
   "source": []
  },
  {
   "cell_type": "code",
   "execution_count": null,
   "metadata": {},
   "outputs": [],
   "source": []
  }
 ],
 "metadata": {
  "kernelspec": {
   "display_name": "Python 3.10.8 64-bit",
   "language": "python",
   "name": "python3"
  },
  "language_info": {
   "codemirror_mode": {
    "name": "ipython",
    "version": 3
   },
   "file_extension": ".py",
   "mimetype": "text/x-python",
   "name": "python",
   "nbconvert_exporter": "python",
   "pygments_lexer": "ipython3",
   "version": "3.10.8"
  },
  "orig_nbformat": 4,
  "vscode": {
   "interpreter": {
    "hash": "ec8e037e8dc204d3d865c2c299d9f950a845b1569963e458e46239ef266b6b39"
   }
  }
 },
 "nbformat": 4,
 "nbformat_minor": 2
}
