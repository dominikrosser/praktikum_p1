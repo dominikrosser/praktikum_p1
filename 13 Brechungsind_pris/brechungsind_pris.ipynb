{
 "cells": [
  {
   "cell_type": "markdown",
   "metadata": {},
   "source": [
    "# Formeln vom Manual"
   ]
  },
  {
   "cell_type": "code",
   "execution_count": 60,
   "metadata": {},
   "outputs": [],
   "source": [
    "import numpy as np\n",
    "import uncertainties as u\n",
    "import uncertainties.unumpy as unp\n",
    "import scipy.constants\n",
    "import os\n",
    "import pandas # pip install Jinja2\n",
    "import pint # pip install pint OR conda install pint\n",
    "units = pint.UnitRegistry()\n",
    "umean = u.wrap(np.mean)\n",
    "ustd = u.wrap(np.std)\n",
    "import warnings\n",
    "warnings.simplefilter(\"ignore\")\n",
    "\n",
    "def strip_units(np_arr):\n",
    "    return np.array([a.to_base_units().magnitude for a in np_arr])\n",
    "\n",
    "def extr_values(np_arr):\n",
    "    return unp.nominal_values(np_arr)\n",
    "\n",
    "# Formel (2)\n",
    "# n'2(nu) = 1 + A/(nu0dash^2-nu^2)\n",
    "# nu0dash, A sind Materialkonstanten\n",
    "def n_squared_of_nu(nu, nu0dash, A):\n",
    "    n_sq = 1 + A/(nu0dash**2-nu**2)\n",
    "    return n_sq\n",
    "\n",
    "def n_squared_of_nu_squared(nu_squared, nu0dash, A):\n",
    "    n_sq = 1 + A/(nu0dash**2-nu_squared)\n",
    "    return n_sq\n",
    "\n",
    "# Formel (2) und die Wurzel gezogen\n",
    "def n_of_nu(nu, nu0dash, A):\n",
    "    n = np.sqrt(n_squared_of_nu(nu, nu0dash,A))\n",
    "    return n\n",
    "\n",
    "# nu0dash, A sind Materialkonstanten\n",
    "def f_of_nu_squared(nu_squared, nu0dash, A):\n",
    "    f = 1/(n_squared_of_nu_squared(nu_squared, nu0dash, A))\n",
    "    return f\n",
    "\n",
    "# calculate frequency from wavelength\n",
    "def nu_of_lambda(lambda_, c0=scipy.constants.c):\n",
    "    return c0/lambda_\n",
    "\n",
    "def delta0_of_A1_A2(A1, A2):\n",
    "    return (A1 - A2)/2"
   ]
  },
  {
   "cell_type": "markdown",
   "metadata": {},
   "source": [
    "# First Task: Determine $\\varphi$\n",
    "Measure both positions where the reflections of the slit image are observed: $A_{1}$, $A_{2}$. Then $\\beta = A_{1} - A_{2}$. Make sure the signs are correct (can we take the absolute value?). Do this three times, so we get three $\\beta$ values. Take the mean of $\\beta$. Then $\\varphi = \\pi - \\beta$."
   ]
  },
  {
   "cell_type": "code",
   "execution_count": 72,
   "metadata": {},
   "outputs": [
    {
     "name": "stdout",
     "output_type": "stream",
     "text": [
      "Table of Data:\n",
      "       A1 [radian]            A2 []           $\\beta$\n",
      "0  (5.6+/-1.0)e+02  (7.8+/-1.0)e+02  (-2.1+/-1.4)e+02\n",
      "1  (5.3+/-1.0)e+02  (9.8+/-1.0)e+02  (-4.4+/-1.4)e+02\n",
      "2  (5.5+/-1.0)e+02  (8.8+/-1.0)e+02  (-3.3+/-1.4)e+02 \n",
      "\n",
      "Table latex:\n",
      "\\begin{tabular}{|l|l|l|l|}\n",
      " & A1 [radian] & A2 [] & $\\beta$ \\\\\n",
      "0 & (5.6+/-1.0)e+02 & (7.8+/-1.0)e+02 & (-2.1+/-1.4)e+02 \\\\\n",
      "1 & (5.3+/-1.0)e+02 & (9.8+/-1.0)e+02 & (-4.4+/-1.4)e+02 \\\\\n",
      "2 & (5.5+/-1.0)e+02 & (8.8+/-1.0)e+02 & (-3.3+/-1.4)e+02 \\\\\n",
      "\\end{tabular}\n",
      " \n",
      "\n",
      "Mean(beta)+=prop_unc_a:  (-3.3+/-0.8)e+02 radian \n",
      "\n",
      "Mean(beta)+=Std(betas): (-3.3+/-0.9)e+02 radian\n",
      "Standard deviation of the betas was higher so this was taken instead of the propagation of the errors of measurement of A.\n",
      "Beta End Result:  (-3.3+/-0.9)e+02 radian\n",
      "Phi end result: (3.3+/-0.8)e+02 radian\n"
     ]
    }
   ],
   "source": [
    "A1_meas, A2_meas = np.genfromtxt(os.path.join(os.getcwd(), \"task1_measure_phi_data.csv\"), delimiter=',', skip_header=1, unpack=True)\n",
    "\n",
    "A_meas_uncertainty_guess = 99.999 # TODO change this value\n",
    "A_unit = units.rad\n",
    "A1s = np.array([u.ufloat(a1, A_meas_uncertainty_guess) for a1 in A1_meas]) *A_unit\n",
    "A2s = np.array([u.ufloat(a2, A_meas_uncertainty_guess) for a2 in A2_meas]) *A_unit\n",
    "\n",
    "Betas = A1s - A2s\n",
    "Betas_Std = np.std(extr_values(Betas))\n",
    "\n",
    "Beta = umean(Betas)\n",
    "\n",
    "# PRINT AND GENERATE LATEX\n",
    "DF_TABLE_1 = pandas.DataFrame({\"A1 [%s]\"%(units.rad): A1s, \"A2 []\": A2s, r'$\\beta$': Betas})\n",
    "print(\"Table of Data:\")\n",
    "print(DF_TABLE_1, '\\n')\n",
    "print(\"Table latex:\")\n",
    "print(DF_TABLE_1.style.to_latex(column_format='|l|l|l|l|'), '\\n')\n",
    "print(\"Mean(beta)+=prop_unc_a: \", Beta, '\\n')\n",
    "print(\"Mean(beta)+=Std(betas):\", u.ufloat(Beta.nominal_value,Betas_Std)*A_unit)\n",
    "\n",
    "Beta_Result = Beta\n",
    "if (Beta.std_dev < Betas_Std):\n",
    "    Beta_Result = u.ufloat(Beta.nominal_value, Betas_Std)*A_unit\n",
    "    print(\"Standard deviation of the betas was higher so this was taken instead of the propagation of the errors of measurement of A.\")\n",
    "else:\n",
    "    Beta_Result = Beta\n",
    "    print(\"Standard deviation of the betas was lower than the propagation of the errors of measurement of A. So the propagated error was taken.\")\n",
    "\n",
    "print(\"Beta End Result: \", Beta_Result)\n",
    "\n",
    "Phi_Result = scipy.constants.pi*A_unit - Beta\n",
    "\n",
    "print(\"Phi end result:\", Phi_Result)\n",
    "\n",
    "\n"
   ]
  },
  {
   "cell_type": "markdown",
   "metadata": {},
   "source": [
    "# Second Task{Determine $\\eta$ and the dispersion curve.}\n",
    "For various wavelengths of the incident light, we are going to measure for which positions $A_{1}, A_{2}$ the deflection angle $\\delta$ approaches its minimum $\\delta^*$. For known $\\boldsymbol{\\lambda's}$ we will $\\overline{measure}$ and $\\underline{calculate}$ the ($\\boldsymbol{\\lambda}$, $\\underline{\\nu^2} = (\\frac{c_{0}}{\\lambda})^2$, $\\overline{A_{1}}$, $\\overline{A_{2}}$, $\\underline{\\delta^*} = \\frac{A_{1}-A_{2}}{2}$, $\\underline{\\eta}$, $\\underline{f(\\nu^2)} =\\frac{1}{\\eta^2(v)-1}$) tuples.\n",
    "\n",
    "SEE FUNCTIONS DEFINED IN THE FIRST BLOCK"
   ]
  },
  {
   "cell_type": "code",
   "execution_count": 73,
   "metadata": {},
   "outputs": [
    {
     "ename": "ValueError",
     "evalue": "not enough values to unpack (expected 3, got 2)",
     "output_type": "error",
     "traceback": [
      "\u001b[1;31m---------------------------------------------------------------------------\u001b[0m",
      "\u001b[1;31mValueError\u001b[0m                                Traceback (most recent call last)",
      "Cell \u001b[1;32mIn [73], line 1\u001b[0m\n\u001b[1;32m----> 1\u001b[0m Lambda_meas, A1_meas, A2_meas \u001b[39m=\u001b[39m np\u001b[39m.\u001b[39mgenfromtxt(os\u001b[39m.\u001b[39mpath\u001b[39m.\u001b[39mjoin(os\u001b[39m.\u001b[39mgetcwd(), \u001b[39m\"\u001b[39m\u001b[39mtask1_measure_phi_data.csv\u001b[39m\u001b[39m\"\u001b[39m), delimiter\u001b[39m=\u001b[39m\u001b[39m'\u001b[39m\u001b[39m,\u001b[39m\u001b[39m'\u001b[39m, skip_header\u001b[39m=\u001b[39m\u001b[39m1\u001b[39m, unpack\u001b[39m=\u001b[39m\u001b[39mTrue\u001b[39;00m)\n\u001b[0;32m      3\u001b[0m A_meas_uncertainty_guess \u001b[39m=\u001b[39m A_meas_uncertainty_guess \u001b[39m# already defined above\u001b[39;00m\n\u001b[0;32m      4\u001b[0m Lambda_uncertainty_guess \u001b[39m=\u001b[39m \u001b[39m999.99\u001b[39m \u001b[39m# TODO\u001b[39;00m\n",
      "\u001b[1;31mValueError\u001b[0m: not enough values to unpack (expected 3, got 2)"
     ]
    }
   ],
   "source": [
    "Lambda_meas, A1_meas, A2_meas = np.genfromtxt(os.path.join(os.getcwd(), \"task2_measure_lambda_a1_a2.csv\"), delimiter=',', skip_header=1, unpack=True)\n",
    "\n",
    "A_meas_uncertainty_guess = A_meas_uncertainty_guess # already defined above\n",
    "Lambda_uncertainty_guess = 999.99 # TODO\n",
    "A_unit = units.rad\n",
    "A1s = np.array([u.ufloat(a1, A_meas_uncertainty_guess) for a1 in A1_meas]) *A_unit\n",
    "A2s = np.array([u.ufloat(a2, A_meas_uncertainty_guess) for a2 in A2_meas]) *A_unit\n",
    "Lambdas = np.array([u.ufloat(l, Lambda_uncertainty_guess) for l in Lambda_meas])"
   ]
  },
  {
   "cell_type": "code",
   "execution_count": null,
   "metadata": {},
   "outputs": [],
   "source": []
  }
 ],
 "metadata": {
  "kernelspec": {
   "display_name": "Python 3.10.8 64-bit",
   "language": "python",
   "name": "python3"
  },
  "language_info": {
   "codemirror_mode": {
    "name": "ipython",
    "version": 3
   },
   "file_extension": ".py",
   "mimetype": "text/x-python",
   "name": "python",
   "nbconvert_exporter": "python",
   "pygments_lexer": "ipython3",
   "version": "3.10.8"
  },
  "orig_nbformat": 4,
  "vscode": {
   "interpreter": {
    "hash": "ec8e037e8dc204d3d865c2c299d9f950a845b1569963e458e46239ef266b6b39"
   }
  }
 },
 "nbformat": 4,
 "nbformat_minor": 2
}
