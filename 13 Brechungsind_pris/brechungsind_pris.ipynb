{
 "cells": [
  {
   "cell_type": "markdown",
   "metadata": {},
   "source": [
    "# Formeln vom Manual"
   ]
  },
  {
   "cell_type": "code",
   "execution_count": 10,
   "metadata": {},
   "outputs": [],
   "source": [
    "import numpy as np\n",
    "import uncertainties as u\n",
    "from uncertainties import ufloat\n",
    "from uncertainties.umath import sqrt\n",
    "from uncertainties.umath import __all__\n",
    "from uncertainties.umath import *\n",
    "import uncertainties.unumpy as unp\n",
    "import scipy.constants\n",
    "import os\n",
    "import matplotlib.pyplot as plt\n",
    "from scipy.stats import linregress\n",
    "import pandas # pip install Jinja2\n",
    "import pint # pip install pint OR conda install pint\n",
    "units = pint.UnitRegistry()\n",
    "units.default_format = '~'\n",
    "umean = u.wrap(np.mean)\n",
    "ustd = u.wrap(np.std)\n",
    "usin = u.wrap(np.sin)\n",
    "no_unit = (units.m/units.m)\n",
    "usquare = u.wrap(np.square)\n",
    "import warnings\n",
    "warnings.simplefilter(\"ignore\")\n",
    "cm = 1/2.54\n",
    "\n",
    "def strip_units(np_arr):\n",
    "    return np.array([(a.to_base_units().magnitude if type(a)!=float else a) for a in np_arr])\n",
    "\n",
    "def extr_values(np_arr):\n",
    "    return unp.nominal_values(np_arr)\n",
    "\n",
    "def extr_sig(np_arr):\n",
    "    return unp.std_devs(np_arr)\n",
    "\n",
    "def errorbar_plot_with_linregress(X, Y, SIG_Y, errbarlabel='errbarlabel', xlabel='xlabel', ylabel='ylabel', errbarcolor='blue', linfitlabel='linfitlabel', nolinregress=False):\n",
    "    result = scipy.stats.linregress(X, Y)\n",
    "    #slope, intercept, rvalue, pvalue, sevalue, inteerr\n",
    "    print(\"slope: \", result.slope)\n",
    "    print(\"slope_err:\", result.stderr)\n",
    "    print(\"intercept: \", result.intercept)\n",
    "    x_axis_spaced = np.linspace(np.min(X), np.max(X), 10)\n",
    "    fig, ax = plt.subplots(1,1,figsize=(8*cm, 8*cm))\n",
    "    #ax.plot(x,y,linestyle='-', color='red')\n",
    "    if not nolinregress:\n",
    "        ax.plot(x_axis_spaced, result.slope*x_axis_spaced + result.intercept, 'r--', label=linfitlabel)\n",
    "    ax.errorbar(X, Y, yerr=SIG_Y, linestyle='', color=errbarcolor, capsize=3, label=errbarlabel)\n",
    "    ax.set_xlabel(xlabel)\n",
    "    ax.set_ylabel(ylabel)\n",
    "    #ax.set_xlim([-1,1])\n",
    "    #ax.set_ylim([-4,4])\n",
    "    ax.legend(loc='upper left')\n",
    "    plt.show()\n",
    "    if not nolinregress:\n",
    "        return u.ufloat(result.slope, result.stderr), u.ufloat(result.intercept, result.intercept_stderr) # (slope+=unc), (intercept+=unc)\n",
    "\n",
    "# Formel (2)\n",
    "# n'2(nu) = 1 + A/(nu0dash^2-nu^2)\n",
    "# nu0dash, A sind Materialkonstanten\n",
    "def n_squared_of_nu(nu, nu0dash, A):\n",
    "    n_sq = 1 + A/(u.wrap(np.square)(nu0dash)-u.wrap(np.square)(nu))\n",
    "    return n_sq\n",
    "\n",
    "def n_squared_of_nu_squared(nu_squared, nu0dash, A):\n",
    "    n_sq = 1 + A/(nu0dash**2-nu_squared)\n",
    "    return n_sq\n",
    "\n",
    "# Formel (2) und die Wurzel gezogen\n",
    "def n_of_nu(nu, nu0dash, A):\n",
    "    #n = u.wrap(np.sqrt)(n_squared_of_nu(nu, nu0dash,A))\n",
    "    n = np.array([u.wrap(np.sqrt)(n_squared_of_nu(nu_i, nu0dash, A)) for nu_i in nu])\n",
    "    return n\n",
    "\n",
    "def n_of_phi_delta0(phi, delta0):\n",
    "    left = usin((delta0 + phi)/2)\n",
    "    right = usin(phi/2)\n",
    "    eta = left/right\n",
    "    return eta\n",
    "\n",
    "# nu0dash, A sind Materialkonstanten\n",
    "def f_of_nu_squared(nu_squared, nu0dash, A):\n",
    "    denom = (n_squared_of_nu_squared(nu_squared, nu0dash, A)-1.0)\n",
    "    f = 1/ np.array(strip_units([(d if np.abs(d) >= 0.000000001 else 0.000000001) for d in denom])) * no_unit\n",
    "    return f\n",
    "\n",
    "# used if n_squared is already known\n",
    "def f_of_n_squared(n_squared):\n",
    "    f = 1/(n_squared-1)\n",
    "    return f\n",
    "\n",
    "# calculate frequency from wavelength\n",
    "def nu_of_lambda(lambda_, c0=scipy.constants.c*units.meter/units.s):\n",
    "    return c0/lambda_\n",
    "\n",
    "def delta0_of_A1_A2(A1, A2):\n",
    "    return (A1 - A2)/2\n",
    "\n",
    "# Testchange"
   ]
  },
  {
   "cell_type": "markdown",
   "metadata": {},
   "source": [
    "# First Task: Determine $\\varphi$\n",
    "Measure both positions where the reflections of the slit image are observed: $A_{1}$, $A_{2}$. Then $\\beta = A_{1} - A_{2}$. Make sure the signs are correct (can we take the absolute value?). Do this three times, so we get three $\\beta$ values. Take the mean of $\\beta$. Then $\\varphi = \\pi - \\beta$."
   ]
  },
  {
   "cell_type": "code",
   "execution_count": 16,
   "metadata": {},
   "outputs": [
    {
     "name": "stdout",
     "output_type": "stream",
     "text": [
      "Table of Data:\n",
      "          A1 [rad]            A2 []          $\\beta$\n",
      "0  5.5952+/-0.0006  1.4003+/-0.0006  4.1949+/-0.0008\n",
      "1  5.6159+/-0.0006  1.4268+/-0.0006  4.1891+/-0.0008\n",
      "2  5.7299+/-0.0006  1.5405+/-0.0006  4.1894+/-0.0008 \n",
      "\n",
      "Table latex:\n",
      "\\begin{tabular}{|l|l|l|l|}\n",
      " & A1 [rad] & A2 [] & $\\beta$ \\\\\n",
      "0 & 5.5952+/-0.0006 & 1.4003+/-0.0006 & 4.1949+/-0.0008 \\\\\n",
      "1 & 5.6159+/-0.0006 & 1.4268+/-0.0006 & 4.1891+/-0.0008 \\\\\n",
      "2 & 5.7299+/-0.0006 & 1.5405+/-0.0006 & 4.1894+/-0.0008 \\\\\n",
      "\\end{tabular}\n",
      " \n",
      "\n",
      "Mean(beta)+=prop_unc_a:  4.1911+/-0.0005 rad \n",
      "\n",
      "Mean(beta)+=Std(betas): 4.1911+/-0.0027 rad\n",
      "Standard deviation of the betas was higher so this was taken instead of the propagation of the errors of measurement of A.\n",
      "Beta End Result (rad, deg): ( 4.1911+/-0.0027 rad , 240.13+/-0.15 )\n",
      "Phi end result (rad, deg): ( 1.0495+/-0.0005 rad , 60.133+/-0.027 )\n"
     ]
    }
   ],
   "source": [
    "A1_deg, A2_deg, A1_deg_minutes, A2_deg_minutes = np.genfromtxt(os.path.join(os.getcwd(), \"task1_measure_phi_data.csv\"), delimiter=',', skip_header=1, unpack=True)\n",
    "##A1_meas_deg = A1_deg - 360 + (1.0/60.0)*A1_deg_minutes\n",
    "A1_meas_deg = A1_deg + (1.0/60.0)*A1_deg_minutes\n",
    "A2_meas_deg = A2_deg + (1.0/60.0)*A2_deg_minutes\n",
    "A1_meas = np.radians(A1_meas_deg)\n",
    "A2_meas = np.radians(A2_meas_deg)\n",
    "\n",
    "A_meas_uncertainty_guess_deg = (1.0/60.0)*(2) # = (2)degmin' is unc of device but its difficult to read off minutes so we set 2' A meas uncertainty in degrees\n",
    "A_meas_uncertainty_guess = np.radians(A_meas_uncertainty_guess_deg)\n",
    "A_unit = units.rad\n",
    "A1s = np.array([u.ufloat(a1, A_meas_uncertainty_guess) for a1 in A1_meas]) *A_unit\n",
    "A2s = np.array([u.ufloat(a2, A_meas_uncertainty_guess) for a2 in A2_meas]) *A_unit\n",
    "\n",
    "Betas =  (A1s - A2s)\n",
    "Betas_Std = np.std(extr_values(Betas))\n",
    "\n",
    "Beta = umean(Betas)\n",
    "\n",
    "# PRINT AND GENERATE LATEX\n",
    "DF_TABLE_1 = pandas.DataFrame({\"A1 [%s]\"%(units.rad): A1s, \"A2 []\": A2s, r'$\\beta$': Betas})\n",
    "print(\"Table of Data:\")\n",
    "print(DF_TABLE_1, '\\n')\n",
    "print(\"Table latex:\")\n",
    "print(DF_TABLE_1.style.to_latex(column_format='|l|l|l|l|'), '\\n')\n",
    "print(\"Mean(beta)+=prop_unc_a: \", Beta, '\\n')\n",
    "print(\"Mean(beta)+=Std(betas):\", u.ufloat(Beta.nominal_value,Betas_Std)*A_unit)\n",
    "\n",
    "Beta_Result = Beta\n",
    "if (Beta.std_dev < Betas_Std):\n",
    "    Beta_Result = u.ufloat(Beta.nominal_value, Betas_Std)*A_unit\n",
    "    print(\"Standard deviation of the betas was higher so this was taken instead of the propagation of the errors of measurement of A.\")\n",
    "else:\n",
    "    Beta_Result = Beta\n",
    "    print(\"Standard deviation of the betas was lower than the propagation of the errors of measurement of A. So the propagated error was taken.\")\n",
    "Beta_Result_Deg = np.abs(Beta_Result / (2*np.pi) * 360 / A_unit)\n",
    "\n",
    "print(\"Beta End Result (rad, deg): (\", Beta_Result, \",\", Beta_Result_Deg, \")\")\n",
    "\n",
    "##Phi_Result = np.abs((scipy.constants.pi*A_unit - Beta) - 2*scipy.constants.pi*A_unit)\n",
    "Phi_Result = np.abs(scipy.constants.pi*A_unit - Beta)\n",
    "Phi_Result_Deg = Phi_Result / (2*np.pi) * 360 / A_unit\n",
    "print(\"Phi end result (rad, deg): (\", Phi_Result, \",\", Phi_Result_Deg, \")\")"
   ]
  },
  {
   "cell_type": "markdown",
   "metadata": {},
   "source": [
    "# Second Task{Determine $\\eta$ and the dispersion curve.}\n",
    "For various wavelengths of the incident light, we are going to measure for which positions $A_{1}, A_{2}$ the deflection angle $\\delta$ approaches its minimum $\\delta^*$. For known $\\boldsymbol{\\lambda's}$ we will $\\overline{measure}$ and $\\underline{calculate}$ the ($\\boldsymbol{\\lambda}$, $\\underline{\\nu^2} = (\\frac{c_{0}}{\\lambda})^2$, $\\overline{A_{1}}$, $\\overline{A_{2}}$, $\\underline{\\delta^*} = \\frac{A_{1}-A_{2}}{2}$, $\\underline{\\eta}$, $\\underline{f(\\nu^2)} =\\frac{1}{\\eta^2(v)-1}$) tuples.\n",
    "\n",
    "SEE FUNCTIONS DEFINED IN THE FIRST BLOCK"
   ]
  },
  {
   "cell_type": "code",
   "execution_count": 17,
   "metadata": {},
   "outputs": [
    {
     "name": "stdout",
     "output_type": "stream",
     "text": [
      "slope:  -1.3348864636941402e-31\n",
      "slope_err: 5.968883442952754e-33\n",
      "intercept:  0.6537652683362825\n"
     ]
    },
    {
     "data": {
      "image/png": "[encoded data removed]",
      "text/plain": [
       "<Figure size 314.961x314.961 with 1 Axes>"
      ]
     },
     "metadata": {},
     "output_type": "display_data"
    },
    {
     "data": {
      "text/html": [
       "<table><tbody><tr><th>Magnitude</th><td style='text-align:left;'><pre>[47.37499999999998+/-0.04714045207910317<br> 47.78333333333333+/-0.04714045207910317<br> 48.258333333333326+/-0.04714045207910317<br> 48.27916666666667+/-0.04714045207910317<br> 48.53333333333331+/-0.04714045207910317<br> 49.24166666666664+/-0.04714045207910317<br> 50.16666666666668+/-0.04714045207910317<br> 51.150000000000006+/-0.04714045207910317<br> 51.791666666666686+/-0.04714045207910317]</pre></td></tr><tr><th>Units</th><td style='text-align:left;'></td></tr></tbody></table>"
      ],
      "text/latex": [
       "$\\begin{pmatrix}47.37+/-0.05 & 47.78+/-0.05 & 48.26+/-0.05 & 48.28+/-0.05 & 48.53+/-0.05 & 49.24+/-0.05 & 50.17+/-0.05 & 51.15+/-0.05 & 51.79+/-0.05\\end{pmatrix}\\$"
      ],
      "text/plain": [
       "array([47.37499999999998+/-0.04714045207910317,\n",
       "       47.78333333333333+/-0.04714045207910317,\n",
       "       48.258333333333326+/-0.04714045207910317,\n",
       "       48.27916666666667+/-0.04714045207910317,\n",
       "       48.53333333333331+/-0.04714045207910317,\n",
       "       49.24166666666664+/-0.04714045207910317,\n",
       "       50.16666666666668+/-0.04714045207910317,\n",
       "       51.150000000000006+/-0.04714045207910317,\n",
       "       51.791666666666686+/-0.04714045207910317], dtype=object) <Unit('dimensionless')>"
      ]
     },
     "execution_count": 17,
     "metadata": {},
     "output_type": "execute_result"
    }
   ],
   "source": [
    "# SET UNCERTAINTIES\n",
    "A_meas_uncertainty_guess_deg = (1.0/60.0)*(4) # = (2)degmin' is unc of device but its difficult to read off minutes so we set 2' A meas uncertainty in degrees\n",
    "A_meas_uncertainty_guess2 = np.radians(A_meas_uncertainty_guess_deg)\n",
    "A_meas_uncertainty_guess = A_meas_uncertainty_guess2 # already defined above\n",
    "Lambda_uncertainty_guess = 0.05 # nanometer\n",
    "\n",
    "# SET UNITS\n",
    "A_unit = units.rad\n",
    "Lambda_unit = units.nanometer\n",
    "\n",
    "# IMPORT DATA\n",
    "Lambda_meas, A1_meas_deg, A2_meas_deg, A1_meas_degmin, A2_meas_degmin, Lambda_labels = np.genfromtxt(os.path.join(os.getcwd(), \"task2_measure_lambda_a1_a2.csv\"), delimiter=',', skip_header=1, unpack=True)\n",
    "A1_meas = np.radians(A1_meas_deg + (1.0/60.0)*A1_meas_degmin)\n",
    "A2_meas = np.radians(A2_meas_deg + (1.0/60.0)*A2_meas_degmin)\n",
    "A1s = np.array([u.ufloat(a1 + 2*np.pi, A_meas_uncertainty_guess) for a1 in A1_meas]) *A_unit\n",
    "A2s = np.array([u.ufloat(a2, A_meas_uncertainty_guess) for a2 in A2_meas]) *A_unit\n",
    "Lambdas = np.array([u.ufloat(l, Lambda_uncertainty_guess) for l in Lambda_meas]) *Lambda_unit\n",
    "\n",
    "# CALCULATE BELONGING VALUES\n",
    "Nus = nu_of_lambda(Lambdas).to_base_units().to_compact()\n",
    "Nu_Squareds = np.square(Nus).to_base_units().to_compact()\n",
    "Delta0s = delta0_of_A1_A2(A1s, A2s).to_base_units().to_compact()\n",
    "# Using Eq. 8 to figure out the refractive indexes\n",
    "Etas = np.array([n_of_phi_delta0(Phi_Result.magnitude, Delta0.magnitude) for Delta0 in Delta0s]) * no_unit\n",
    "Eta_Squareds = usquare(Etas)\n",
    "Fs = f_of_n_squared(Eta_Squareds)\n",
    "\n",
    "slope_withErr, intercept_withErr = errorbar_plot_with_linregress(extr_values(Nu_Squareds), extr_values(Fs), extr_sig(Fs), nolinregress=False, xlabel=r'$\\nu^2$', ylabel=r'$f(\\nu^2)$')\n",
    "\n",
    "# CALCULATE MATERIAL CONSTANTS FROM THE CURVE\n",
    "nu0dash_Squared = intercept_withErr\n",
    "nu0dash = u.wrap(np.sqrt)(nu0dash_Squared) * (1/units.s)\n",
    "A_param = (1/slope_withErr) * (1/units.s**2)\n",
    "\n",
    "Delta0s / (2*scipy.constants.pi) * 360 / units.rad"
   ]
  },
  {
   "cell_type": "markdown",
   "metadata": {},
   "source": [
    "# Task 3 Calculate f again with EQ 2 and compare"
   ]
  },
  {
   "cell_type": "code",
   "execution_count": 18,
   "metadata": {},
   "outputs": [
    {
     "name": "stdout",
     "output_type": "stream",
     "text": [
      "slope:  1.33488646369414e-31\n",
      "slope_err: 0.0\n",
      "intercept:  0.0\n"
     ]
    },
    {
     "data": {
      "image/png": "[encoded data removed]",
      "text/plain": [
       "<Figure size 314.961x314.961 with 1 Axes>"
      ]
     },
     "metadata": {},
     "output_type": "display_data"
    },
    {
     "data": {
      "text/plain": [
       "(1.33488646369414e-31+/-0, 0.0+/-0)"
      ]
     },
     "execution_count": 18,
     "metadata": {},
     "output_type": "execute_result"
    }
   ],
   "source": [
    "# TASK 3 NOW WE USE EQ 2 AND COMPARE\n",
    "Eta_Squareds__EQ2 = n_squared_of_nu(Nus, nu0dash, A_param).to_base_units().to_compact()\n",
    "Etas__EQ2 = np.array([u.wrap(np.sqrt)(eta_sq.to_base_units().magnitude) for eta_sq in Eta_Squareds__EQ2]) * no_unit\n",
    "Fs__EQ2 = f_of_nu_squared(Nu_Squareds, nu0dash, A_param)\n",
    "slope_withErr__Eq2, intercept_withErr__Eq2 = errorbar_plot_with_linregress(extr_values(Nu_Squareds), extr_values(Fs__EQ2), extr_sig(Fs__EQ2), nolinregress=False)\n",
    "\n",
    "slope_withErr__Eq2, intercept_withErr__Eq2"
   ]
  },
  {
   "cell_type": "code",
   "execution_count": 19,
   "metadata": {},
   "outputs": [
    {
     "name": "stdout",
     "output_type": "stream",
     "text": [
      "Table of Data:\n",
      "         Lambdas                   Nus []            NuSquareds []  \\\n",
      "0  690.80+/-0.05  (4.33979+/-0.00031)e+14  (1.88337+/-0.00027)e+29   \n",
      "1  623.40+/-0.05    (4.8090+/-0.0004)e+14    (2.3126+/-0.0004)e+29   \n",
      "2  579.10+/-0.05    (5.1769+/-0.0004)e+14    (2.6800+/-0.0005)e+29   \n",
      "3  577.00+/-0.05    (5.1957+/-0.0005)e+14    (2.6995+/-0.0005)e+29   \n",
      "4  546.10+/-0.05    (5.4897+/-0.0005)e+14    (3.0137+/-0.0006)e+29   \n",
      "5  491.60+/-0.05    (6.0983+/-0.0006)e+14    (3.7189+/-0.0008)e+29   \n",
      "6  435.80+/-0.05    (6.8791+/-0.0008)e+14    (4.7322+/-0.0011)e+29   \n",
      "7  407.80+/-0.05    (7.3515+/-0.0009)e+14    (5.4044+/-0.0013)e+29   \n",
      "8  404.70+/-0.05    (7.4078+/-0.0009)e+14    (5.4875+/-0.0014)e+29   \n",
      "\n",
      "               A1s              A2s           delt*s              n's  \\\n",
      "0  6.3658+/-0.0012  4.7121+/-0.0012  0.8268+/-0.0008  1.6097+/-0.0006   \n",
      "1  6.3748+/-0.0012  4.7069+/-0.0012  0.8340+/-0.0008  1.6139+/-0.0006   \n",
      "2  6.3821+/-0.0012  4.6976+/-0.0012  0.8423+/-0.0008  1.6188+/-0.0006   \n",
      "3  6.3827+/-0.0012  4.6974+/-0.0012  0.8426+/-0.0008  1.6190+/-0.0006   \n",
      "4  6.3879+/-0.0012  4.6938+/-0.0012  0.8471+/-0.0008  1.6216+/-0.0006   \n",
      "5  6.3995+/-0.0012  4.6807+/-0.0012  0.8594+/-0.0008  1.6287+/-0.0006   \n",
      "6  6.4170+/-0.0012  4.6658+/-0.0012  0.8756+/-0.0008  1.6380+/-0.0006   \n",
      "7  6.4315+/-0.0012  4.6461+/-0.0012  0.8927+/-0.0008  1.6477+/-0.0006   \n",
      "8  6.4344+/-0.0012  4.6266+/-0.0012  0.9039+/-0.0008  1.6540+/-0.0006   \n",
      "\n",
      "               f's   f's by Eq (2):  \n",
      "0  0.6284+/-0.0008  0.0251+/-0.0011  \n",
      "1  0.6231+/-0.0008  0.0309+/-0.0014  \n",
      "2  0.6171+/-0.0008  0.0358+/-0.0016  \n",
      "3  0.6168+/-0.0008  0.0360+/-0.0016  \n",
      "4  0.6137+/-0.0008  0.0402+/-0.0018  \n",
      "5  0.6050+/-0.0007  0.0496+/-0.0022  \n",
      "6  0.5942+/-0.0007  0.0632+/-0.0028  \n",
      "7  0.5831+/-0.0007  0.0721+/-0.0032  \n",
      "8  0.5761+/-0.0007  0.0733+/-0.0033   \n",
      "\n",
      "Table latex:\n",
      "\\begin{tabular}{|l|l|l|l|l|l|l|l|}\n",
      " & Lambdas & Nus [] & NuSquareds [] & A1s & A2s & delt*s & n's & f's & f's by Eq (2): \\\\\n",
      "0 & 690.80+/-0.05 & (4.33979+/-0.00031)e+14 & (1.88337+/-0.00027)e+29 & 6.3658+/-0.0012 & 4.7121+/-0.0012 & 0.8268+/-0.0008 & 1.6097+/-0.0006 & 0.6284+/-0.0008 & 0.0251+/-0.0011 \\\\\n",
      "1 & 623.40+/-0.05 & (4.8090+/-0.0004)e+14 & (2.3126+/-0.0004)e+29 & 6.3748+/-0.0012 & 4.7069+/-0.0012 & 0.8340+/-0.0008 & 1.6139+/-0.0006 & 0.6231+/-0.0008 & 0.0309+/-0.0014 \\\\\n",
      "2 & 579.10+/-0.05 & (5.1769+/-0.0004)e+14 & (2.6800+/-0.0005)e+29 & 6.3821+/-0.0012 & 4.6976+/-0.0012 & 0.8423+/-0.0008 & 1.6188+/-0.0006 & 0.6171+/-0.0008 & 0.0358+/-0.0016 \\\\\n",
      "3 & 577.00+/-0.05 & (5.1957+/-0.0005)e+14 & (2.6995+/-0.0005)e+29 & 6.3827+/-0.0012 & 4.6974+/-0.0012 & 0.8426+/-0.0008 & 1.6190+/-0.0006 & 0.6168+/-0.0008 & 0.0360+/-0.0016 \\\\\n",
      "4 & 546.10+/-0.05 & (5.4897+/-0.0005)e+14 & (3.0137+/-0.0006)e+29 & 6.3879+/-0.0012 & 4.6938+/-0.0012 & 0.8471+/-0.0008 & 1.6216+/-0.0006 & 0.6137+/-0.0008 & 0.0402+/-0.0018 \\\\\n",
      "5 & 491.60+/-0.05 & (6.0983+/-0.0006)e+14 & (3.7189+/-0.0008)e+29 & 6.3995+/-0.0012 & 4.6807+/-0.0012 & 0.8594+/-0.0008 & 1.6287+/-0.0006 & 0.6050+/-0.0007 & 0.0496+/-0.0022 \\\\\n",
      "6 & 435.80+/-0.05 & (6.8791+/-0.0008)e+14 & (4.7322+/-0.0011)e+29 & 6.4170+/-0.0012 & 4.6658+/-0.0012 & 0.8756+/-0.0008 & 1.6380+/-0.0006 & 0.5942+/-0.0007 & 0.0632+/-0.0028 \\\\\n",
      "7 & 407.80+/-0.05 & (7.3515+/-0.0009)e+14 & (5.4044+/-0.0013)e+29 & 6.4315+/-0.0012 & 4.6461+/-0.0012 & 0.8927+/-0.0008 & 1.6477+/-0.0006 & 0.5831+/-0.0007 & 0.0721+/-0.0032 \\\\\n",
      "8 & 404.70+/-0.05 & (7.4078+/-0.0009)e+14 & (5.4875+/-0.0014)e+29 & 6.4344+/-0.0012 & 4.6266+/-0.0012 & 0.9039+/-0.0008 & 1.6540+/-0.0006 & 0.5761+/-0.0007 & 0.0733+/-0.0033 \\\\\n",
      "\\end{tabular}\n",
      " \n",
      "\n",
      "A:  (-7.49+/-0.33)e+30 / s ** 2 \n",
      "\n",
      "nu_0dash: 0.8086+/-0.0014 / s\n"
     ]
    }
   ],
   "source": [
    "# PRINT AND GENERATE LATEX\n",
    "DF_TABLE_2 = pandas.DataFrame({\"Lambdas\": Lambdas, \"Nus [%s]\"%(\"\"): Nus, \"NuSquareds []\": Nu_Squareds, \"A1s\": A1s, \"A2s\": A2s, \"delt*s\": Delta0s, \"n's\": Etas, \"f's\": Fs, \"f's by Eq (2):\": Fs__EQ2})\n",
    "print(\"Table of Data:\")\n",
    "print(DF_TABLE_2, '\\n')\n",
    "print(\"Table latex:\")\n",
    "print(DF_TABLE_2.style.to_latex(column_format='|l|l|l|l|l|l|l|l|'), '\\n')\n",
    "print(\"A: \", A_param, '\\n')\n",
    "print(\"nu_0dash:\", nu0dash)"
   ]
  },
  {
   "cell_type": "code",
   "execution_count": 2,
   "metadata": {},
   "outputs": [
    {
     "data": {
      "text/plain": [
       "0.016666666666666666"
      ]
     },
     "execution_count": 2,
     "metadata": {},
     "output_type": "execute_result"
    }
   ],
   "source": []
  },
  {
   "cell_type": "code",
   "execution_count": null,
   "metadata": {},
   "outputs": [],
   "source": []
  }
 ],
 "metadata": {
  "kernelspec": {
   "display_name": "Python 3.10.8 64-bit",
   "language": "python",
   "name": "python3"
  },
  "language_info": {
   "codemirror_mode": {
    "name": "ipython",
    "version": 3
   },
   "file_extension": ".py",
   "mimetype": "text/x-python",
   "name": "python",
   "nbconvert_exporter": "python",
   "pygments_lexer": "ipython3",
   "version": "3.10.8"
  },
  "orig_nbformat": 4,
  "vscode": {
   "interpreter": {
    "hash": "ec8e037e8dc204d3d865c2c299d9f950a845b1569963e458e46239ef266b6b39"
   }
  }
 },
 "nbformat": 4,
 "nbformat_minor": 2
}
