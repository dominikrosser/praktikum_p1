{
 "cells": [
  {
   "cell_type": "markdown",
   "metadata": {},
   "source": [
    "# Formeln vom Manual"
   ]
  },
  {
   "cell_type": "code",
   "execution_count": 224,
   "metadata": {},
   "outputs": [],
   "source": [
    "import numpy as np\n",
    "import uncertainties as u\n",
    "from uncertainties import ufloat\n",
    "from uncertainties.umath import sqrt\n",
    "from uncertainties.umath import __all__\n",
    "from uncertainties.umath import *\n",
    "import uncertainties.unumpy as unp\n",
    "import scipy.constants\n",
    "import os\n",
    "import matplotlib.pyplot as plt\n",
    "from scipy.stats import linregress\n",
    "import pandas # pip install Jinja2\n",
    "import pint # pip install pint OR conda install pint\n",
    "units = pint.UnitRegistry()\n",
    "units.default_format = '~'\n",
    "umean = u.wrap(np.mean)\n",
    "ustd = u.wrap(np.std)\n",
    "usin = u.wrap(np.sin)\n",
    "no_unit = (units.m/units.m)\n",
    "usquare = u.wrap(np.square)\n",
    "import warnings\n",
    "warnings.simplefilter(\"ignore\")\n",
    "cm = 1/2.54\n",
    "\n",
    "def strip_units(np_arr):\n",
    "    return np.array([(a.to_base_units().magnitude if type(a)!=float else a) for a in np_arr])\n",
    "\n",
    "def extr_values(np_arr):\n",
    "    return unp.nominal_values(np_arr)\n",
    "\n",
    "def extr_sig(np_arr):\n",
    "    return unp.std_devs(np_arr)\n",
    "\n",
    "def errorbar_plot_with_linregress(X, Y, SIG_Y, errbarlabel='errbarlabel', xlabel='xlabel', ylabel='ylabel', errbarcolor='blue', linfitlabel='linfitlabel', nolinregress=False):\n",
    "    result = scipy.stats.linregress(X, Y)\n",
    "    #slope, intercept, rvalue, pvalue, sevalue, inteerr\n",
    "    print(\"slope: \", result.slope)\n",
    "    print(\"slope_err:\", result.stderr)\n",
    "    print(\"intercept: \", result.intercept)\n",
    "    x_axis_spaced = np.linspace(np.min(X), np.max(X), 10)\n",
    "    fig, ax = plt.subplots(1,1,figsize=(8*cm, 8*cm))\n",
    "    #ax.plot(x,y,linestyle='-', color='red')\n",
    "    if not nolinregress:\n",
    "        ax.plot(x_axis_spaced, result.slope*x_axis_spaced + result.intercept, 'r--', label=linfitlabel)\n",
    "    ax.errorbar(X, Y, yerr=SIG_Y, linestyle='', color=errbarcolor, capsize=3, label=errbarlabel)\n",
    "    ax.set_xlabel(xlabel)\n",
    "    ax.set_ylabel(ylabel)\n",
    "    #ax.set_xlim([-1,1])\n",
    "    #ax.set_ylim([-4,4])\n",
    "    ax.legend(loc='upper left')\n",
    "    plt.show()\n",
    "    if not nolinregress:\n",
    "        return u.ufloat(result.slope, result.stderr), u.ufloat(result.intercept, result.intercept_stderr) # (slope+=unc), (intercept+=unc)\n",
    "\n",
    "# Formel (2)\n",
    "# n'2(nu) = 1 + A/(nu0dash^2-nu^2)\n",
    "# nu0dash, A sind Materialkonstanten\n",
    "def n_squared_of_nu(nu, nu0dash, A):\n",
    "    n_sq = 1 + A/(u.wrap(np.square)(nu0dash)-u.wrap(np.square)(nu))\n",
    "    return n_sq\n",
    "\n",
    "def n_squared_of_nu_squared(nu_squared, nu0dash, A):\n",
    "    n_sq = 1 + A/(nu0dash**2-nu_squared)\n",
    "    return n_sq\n",
    "\n",
    "# Formel (2) und die Wurzel gezogen\n",
    "def n_of_nu(nu, nu0dash, A):\n",
    "    #n = u.wrap(np.sqrt)(n_squared_of_nu(nu, nu0dash,A))\n",
    "    n = np.array([u.wrap(np.sqrt)(n_squared_of_nu(nu_i, nu0dash, A)) for nu_i in nu])\n",
    "    return n\n",
    "\n",
    "def n_of_phi_delta0(phi, delta0):\n",
    "    left = usin((delta0 + phi)/2)\n",
    "    right = usin(phi/2)\n",
    "    eta = left/right\n",
    "    return eta\n",
    "\n",
    "# nu0dash, A sind Materialkonstanten\n",
    "def f_of_nu_squared(nu_squared, nu0dash, A):\n",
    "    denom = (n_squared_of_nu_squared(nu_squared, nu0dash, A)-1.0)\n",
    "    f = 1/ np.array(strip_units([(d if np.abs(d) >= 0.0000001 else 0.0000001) for d in denom])) * no_unit\n",
    "    return f\n",
    "\n",
    "# used if n_squared is already known\n",
    "def f_of_n_squared(n_squared):\n",
    "    f = 1/(n_squared-1)\n",
    "    return f\n",
    "\n",
    "# calculate frequency from wavelength\n",
    "def nu_of_lambda(lambda_, c0=scipy.constants.c*units.meter/units.s):\n",
    "    return c0/lambda_\n",
    "\n",
    "def delta0_of_A1_A2(A1, A2):\n",
    "    return (A1 - A2)/2"
   ]
  },
  {
   "cell_type": "markdown",
   "metadata": {},
   "source": [
    "# First Task: Determine $\\varphi$\n",
    "Measure both positions where the reflections of the slit image are observed: $A_{1}$, $A_{2}$. Then $\\beta = A_{1} - A_{2}$. Make sure the signs are correct (can we take the absolute value?). Do this three times, so we get three $\\beta$ values. Take the mean of $\\beta$. Then $\\varphi = \\pi - \\beta$."
   ]
  },
  {
   "cell_type": "code",
   "execution_count": 225,
   "metadata": {},
   "outputs": [
    {
     "name": "stdout",
     "output_type": "stream",
     "text": [
      "Table of Data:\n",
      "          A1 [rad]            A2 []           $\\beta$\n",
      "0  (5.6+/-1.0)e+02  (7.8+/-1.0)e+02  (-2.1+/-1.4)e+02\n",
      "1  (5.3+/-1.0)e+02  (9.8+/-1.0)e+02  (-4.4+/-1.4)e+02\n",
      "2  (5.5+/-1.0)e+02  (8.8+/-1.0)e+02  (-3.3+/-1.4)e+02 \n",
      "\n",
      "Table latex:\n",
      "\\begin{tabular}{|l|l|l|l|}\n",
      " & A1 [rad] & A2 [] & $\\beta$ \\\\\n",
      "0 & (5.6+/-1.0)e+02 & (7.8+/-1.0)e+02 & (-2.1+/-1.4)e+02 \\\\\n",
      "1 & (5.3+/-1.0)e+02 & (9.8+/-1.0)e+02 & (-4.4+/-1.4)e+02 \\\\\n",
      "2 & (5.5+/-1.0)e+02 & (8.8+/-1.0)e+02 & (-3.3+/-1.4)e+02 \\\\\n",
      "\\end{tabular}\n",
      " \n",
      "\n",
      "Mean(beta)+=prop_unc_a:  (-3.3+/-0.8)e+02 rad \n",
      "\n",
      "Mean(beta)+=Std(betas): (-3.3+/-0.9)e+02 rad\n",
      "Standard deviation of the betas was higher so this was taken instead of the propagation of the errors of measurement of A.\n",
      "Beta End Result:  (-3.3+/-0.9)e+02 rad\n",
      "Phi end result: (3.3+/-0.8)e+02 rad\n"
     ]
    }
   ],
   "source": [
    "A1_meas, A2_meas = np.genfromtxt(os.path.join(os.getcwd(), \"task1_measure_phi_data.csv\"), delimiter=',', skip_header=1, unpack=True)\n",
    "\n",
    "A_meas_uncertainty_guess = 99.999 # TODO change this value\n",
    "A_unit = units.rad\n",
    "A1s = np.array([u.ufloat(a1, A_meas_uncertainty_guess) for a1 in A1_meas]) *A_unit\n",
    "A2s = np.array([u.ufloat(a2, A_meas_uncertainty_guess) for a2 in A2_meas]) *A_unit\n",
    "\n",
    "Betas = A1s - A2s\n",
    "Betas_Std = np.std(extr_values(Betas))\n",
    "\n",
    "Beta = umean(Betas)\n",
    "\n",
    "# PRINT AND GENERATE LATEX\n",
    "DF_TABLE_1 = pandas.DataFrame({\"A1 [%s]\"%(units.rad): A1s, \"A2 []\": A2s, r'$\\beta$': Betas})\n",
    "print(\"Table of Data:\")\n",
    "print(DF_TABLE_1, '\\n')\n",
    "print(\"Table latex:\")\n",
    "print(DF_TABLE_1.style.to_latex(column_format='|l|l|l|l|'), '\\n')\n",
    "print(\"Mean(beta)+=prop_unc_a: \", Beta, '\\n')\n",
    "print(\"Mean(beta)+=Std(betas):\", u.ufloat(Beta.nominal_value,Betas_Std)*A_unit)\n",
    "\n",
    "Beta_Result = Beta\n",
    "if (Beta.std_dev < Betas_Std):\n",
    "    Beta_Result = u.ufloat(Beta.nominal_value, Betas_Std)*A_unit\n",
    "    print(\"Standard deviation of the betas was higher so this was taken instead of the propagation of the errors of measurement of A.\")\n",
    "else:\n",
    "    Beta_Result = Beta\n",
    "    print(\"Standard deviation of the betas was lower than the propagation of the errors of measurement of A. So the propagated error was taken.\")\n",
    "\n",
    "print(\"Beta End Result: \", Beta_Result)\n",
    "\n",
    "Phi_Result = scipy.constants.pi*A_unit - Beta\n",
    "\n",
    "print(\"Phi end result:\", Phi_Result)\n",
    "\n",
    "\n"
   ]
  },
  {
   "cell_type": "markdown",
   "metadata": {},
   "source": [
    "# Second Task{Determine $\\eta$ and the dispersion curve.}\n",
    "For various wavelengths of the incident light, we are going to measure for which positions $A_{1}, A_{2}$ the deflection angle $\\delta$ approaches its minimum $\\delta^*$. For known $\\boldsymbol{\\lambda's}$ we will $\\overline{measure}$ and $\\underline{calculate}$ the ($\\boldsymbol{\\lambda}$, $\\underline{\\nu^2} = (\\frac{c_{0}}{\\lambda})^2$, $\\overline{A_{1}}$, $\\overline{A_{2}}$, $\\underline{\\delta^*} = \\frac{A_{1}-A_{2}}{2}$, $\\underline{\\eta}$, $\\underline{f(\\nu^2)} =\\frac{1}{\\eta^2(v)-1}$) tuples.\n",
    "\n",
    "SEE FUNCTIONS DEFINED IN THE FIRST BLOCK"
   ]
  },
  {
   "cell_type": "code",
   "execution_count": 226,
   "metadata": {},
   "outputs": [
    {
     "name": "stdout",
     "output_type": "stream",
     "text": [
      "slope:  -8.076277450752813e-28\n",
      "slope_err: 2.3179527847553346e-27\n",
      "intercept:  0.0058153099479141546\n"
     ]
    },
    {
     "data": {
      "image/png": "[encoded data removed]",
      "text/plain": [
       "<Figure size 314.961x314.961 with 1 Axes>"
      ]
     },
     "metadata": {},
     "output_type": "display_data"
    }
   ],
   "source": [
    "# SET UNCERTAINTIES\n",
    "A_meas_uncertainty_guess = A_meas_uncertainty_guess # already defined above\n",
    "Lambda_uncertainty_guess = 999.99 # TODO !!!\n",
    "\n",
    "# SET UNITS\n",
    "A_unit = units.rad\n",
    "Lambda_unit = units.micrometer # TODO !!!\n",
    "\n",
    "# IMPORT DATA\n",
    "Lambda_meas, A1_meas, A2_meas = np.genfromtxt(os.path.join(os.getcwd(), \"task2_measure_lambda_a1_a2.csv\"), delimiter=',', skip_header=1, unpack=True)\n",
    "A1s = np.array([u.ufloat(a1, A_meas_uncertainty_guess) for a1 in A1_meas]) *A_unit\n",
    "A2s = np.array([u.ufloat(a2, A_meas_uncertainty_guess) for a2 in A2_meas]) *A_unit\n",
    "Lambdas = np.array([u.ufloat(l, Lambda_uncertainty_guess) for l in Lambda_meas]) *Lambda_unit\n",
    "\n",
    "# CALCULATE BELONGING VALUES\n",
    "Nus = nu_of_lambda(Lambdas).to_base_units().to_compact()\n",
    "Nu_Squareds = np.square(Nus).to_base_units().to_compact()\n",
    "Delta0s = delta0_of_A1_A2(A1s, A2s).to_base_units().to_compact()\n",
    "# Using Eq. 8 to figure out the refractive indexes\n",
    "Etas = np.array([n_of_phi_delta0(Phi_Result.magnitude, Delta0.magnitude) for Delta0 in Delta0s]) * no_unit\n",
    "Eta_Squareds = usquare(Etas)\n",
    "Fs = f_of_n_squared(Eta_Squareds)\n",
    "\n",
    "slope_withErr, intercept_withErr = errorbar_plot_with_linregress(extr_values(Nu_Squareds), extr_values(Fs), extr_sig(Fs), nolinregress=False)\n",
    "\n",
    "# CALCULATE MATERIAL CONSTANTS FROM THE CURVE\n",
    "nu0dash_Squared = intercept_withErr\n",
    "nu0dash = u.wrap(np.sqrt)(nu0dash_Squared) * (1/units.s)# u.ufloat(998.38, 7.433) * (1/units.s) # TODO\n",
    "A_param = (1/slope_withErr) * (1/units.s**2) # u.ufloat(848.83, 3.443) * (1/units.s**2)# TODO"
   ]
  },
  {
   "cell_type": "markdown",
   "metadata": {},
   "source": [
    "# Task 3 Calculate f again with EQ 2 and compare"
   ]
  },
  {
   "cell_type": "code",
   "execution_count": 227,
   "metadata": {},
   "outputs": [
    {
     "name": "stdout",
     "output_type": "stream",
     "text": [
      "slope:  8.076277450752815e-28\n",
      "slope_err: 0.0\n",
      "intercept:  0.0\n"
     ]
    },
    {
     "data": {
      "image/png": "[encoded data removed]",
      "text/plain": [
       "<Figure size 314.961x314.961 with 1 Axes>"
      ]
     },
     "metadata": {},
     "output_type": "display_data"
    },
    {
     "data": {
      "text/plain": [
       "(array([0.07581090569312338+/-23.60835075617198,\n",
       "        0.07613954249009906+/-23.608241008623818,\n",
       "        0.5251976113716726+/-385.8982562409759,\n",
       "        1.1797667404461067+/-522.5136732741312,\n",
       "        0.1101807579206832+/-30.52635485126572,\n",
       "        0.2548023629064507+/-67.06092737780423,\n",
       "        -1.0162059386164721+/-49.75554280454016,\n",
       "        -1.0042541635935989+/-25.92259508489236,\n",
       "        -1.004144402391539+/-25.593859492769656,\n",
       "        0.07886698750655673+/-26.99948765513838], dtype=object) <Unit('dimensionless')>,\n",
       " array([0.1209262171391832+/-9.877528563164915,\n",
       "        0.031243419464969068+/-1.2994920311925335,\n",
       "        0.016266709508631256+/-0.48925497084194425,\n",
       "        0.027474284939134102+/-1.0719318644153724,\n",
       "        0.07751928941624454+/-5.071452178575541,\n",
       "        0.2425271871355366+/-28.046183867686583,\n",
       "        0.01912895351181553+/-0.6234856130564796,\n",
       "        0.22403074641294676+/-24.90035930523204,\n",
       "        0.007361293590662811+/-0.14976000927004943,\n",
       "        0.015514594626935361+/-0.4558187257121218], dtype=object) <Unit('dimensionless')>)"
      ]
     },
     "execution_count": 227,
     "metadata": {},
     "output_type": "execute_result"
    }
   ],
   "source": [
    "# TASK 3 NOW WE USE EQ 2 AND COMPARE\n",
    "Eta_Squareds__EQ2 = n_squared_of_nu(Nus, nu0dash, A_param).to_base_units().to_compact()\n",
    "Etas__EQ2 = np.array([sqrt(eta_sq.to_base_units().magnitude) for eta_sq in Eta_Squareds__EQ2]) * no_unit\n",
    "Fs__EQ2 = f_of_nu_squared(Nu_Squareds, nu0dash, A_param)\n",
    "errorbar_plot_with_linregress(extr_values(Nu_Squareds), extr_values(Fs__EQ2), extr_sig(Fs__EQ2), nolinregress=True)\n",
    "\n",
    "Fs, Fs__EQ2"
   ]
  },
  {
   "cell_type": "code",
   "execution_count": null,
   "metadata": {},
   "outputs": [],
   "source": []
  }
 ],
 "metadata": {
  "kernelspec": {
   "display_name": "Python 3.10.8 64-bit",
   "language": "python",
   "name": "python3"
  },
  "language_info": {
   "codemirror_mode": {
    "name": "ipython",
    "version": 3
   },
   "file_extension": ".py",
   "mimetype": "text/x-python",
   "name": "python",
   "nbconvert_exporter": "python",
   "pygments_lexer": "ipython3",
   "version": "3.10.8"
  },
  "orig_nbformat": 4,
  "vscode": {
   "interpreter": {
    "hash": "ec8e037e8dc204d3d865c2c299d9f950a845b1569963e458e46239ef266b6b39"
   }
  }
 },
 "nbformat": 4,
 "nbformat_minor": 2
}
